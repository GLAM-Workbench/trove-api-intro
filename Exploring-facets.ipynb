{
 "cells": [
  {
   "cell_type": "markdown",
   "metadata": {},
   "source": [
    "# Exploring facets"
   ]
  },
  {
   "cell_type": "markdown",
   "metadata": {},
   "source": [
    "Facets aggregate collection data in interesting and useful ways, allowing us to build pictures of the collection. This notebook shows you how to get facet data from Trove."
   ]
  },
  {
   "cell_type": "code",
   "execution_count": 2,
   "metadata": {},
   "outputs": [
    {
     "data": {
      "text/plain": [
       "RendererRegistry.enable('notebook')"
      ]
     },
     "execution_count": 2,
     "metadata": {},
     "output_type": "execute_result"
    }
   ],
   "source": [
    "import requests\n",
    "import altair as alt\n",
    "import pandas as pd\n",
    "import os\n",
    "\n",
    "# Make sure data directory exists\n",
    "os.makedirs('data', exist_ok=True)\n",
    "\n",
    "alt.renderers.enable('notebook')"
   ]
  },
  {
   "cell_type": "markdown",
   "metadata": {},
   "source": [
    "Insert your API key between the quotes."
   ]
  },
  {
   "cell_type": "code",
   "execution_count": 11,
   "metadata": {},
   "outputs": [
    {
     "name": "stdout",
     "output_type": "stream",
     "text": [
      "Your API key is: \n"
     ]
    }
   ],
   "source": [
    "api_key = ''\n",
    "print('Your API key is: {}'.format(api_key))"
   ]
  },
  {
   "cell_type": "code",
   "execution_count": 4,
   "metadata": {},
   "outputs": [],
   "source": [
    "api_search_url = 'https://api.trove.nla.gov.au/result'"
   ]
  },
  {
   "cell_type": "markdown",
   "metadata": {},
   "source": [
    "Set up our query parameters. We want everything, so we set the `q` parameter to be a single space."
   ]
  },
  {
   "cell_type": "code",
   "execution_count": 5,
   "metadata": {},
   "outputs": [],
   "source": [
    "params = {\n",
    "    'q': ' ', # A space to search for everything\n",
    "    'facet': 'format',\n",
    "    'zone': 'book', \n",
    "    'key': api_key,\n",
    "    'encoding': 'json',\n",
    "    'n': 1\n",
    "}"
   ]
  },
  {
   "cell_type": "code",
   "execution_count": null,
   "metadata": {},
   "outputs": [],
   "source": [
    "response = requests.get(api_search_url, params=params)\n",
    "print(response.url) # This shows us the url that's sent to the API\n",
    "data = response.json()\n",
    "# print(data)"
   ]
  },
  {
   "cell_type": "code",
   "execution_count": 7,
   "metadata": {},
   "outputs": [
    {
     "data": {
      "text/html": [
       "<div>\n",
       "<style scoped>\n",
       "    .dataframe tbody tr th:only-of-type {\n",
       "        vertical-align: middle;\n",
       "    }\n",
       "\n",
       "    .dataframe tbody tr th {\n",
       "        vertical-align: top;\n",
       "    }\n",
       "\n",
       "    .dataframe thead th {\n",
       "        text-align: right;\n",
       "    }\n",
       "</style>\n",
       "<table border=\"1\" class=\"dataframe\">\n",
       "  <thead>\n",
       "    <tr style=\"text-align: right;\">\n",
       "      <th></th>\n",
       "      <th>facet</th>\n",
       "      <th>total</th>\n",
       "    </tr>\n",
       "  </thead>\n",
       "  <tbody>\n",
       "    <tr>\n",
       "      <th>0</th>\n",
       "      <td>Archived website</td>\n",
       "      <td>21976</td>\n",
       "    </tr>\n",
       "    <tr>\n",
       "      <th>1</th>\n",
       "      <td>Audio book</td>\n",
       "      <td>181878</td>\n",
       "    </tr>\n",
       "    <tr>\n",
       "      <th>2</th>\n",
       "      <td>Book/Braille</td>\n",
       "      <td>30639</td>\n",
       "    </tr>\n",
       "    <tr>\n",
       "      <th>3</th>\n",
       "      <td>Book/Illustrated</td>\n",
       "      <td>8866768</td>\n",
       "    </tr>\n",
       "    <tr>\n",
       "      <th>4</th>\n",
       "      <td>Book/Large print</td>\n",
       "      <td>104565</td>\n",
       "    </tr>\n",
       "    <tr>\n",
       "      <th>5</th>\n",
       "      <td>Book</td>\n",
       "      <td>9240406</td>\n",
       "    </tr>\n",
       "    <tr>\n",
       "      <th>6</th>\n",
       "      <td>Conference Proceedings</td>\n",
       "      <td>576807</td>\n",
       "    </tr>\n",
       "    <tr>\n",
       "      <th>7</th>\n",
       "      <td>Microform</td>\n",
       "      <td>702354</td>\n",
       "    </tr>\n",
       "    <tr>\n",
       "      <th>8</th>\n",
       "      <td>Thesis</td>\n",
       "      <td>584371</td>\n",
       "    </tr>\n",
       "  </tbody>\n",
       "</table>\n",
       "</div>"
      ],
      "text/plain": [
       "                    facet    total\n",
       "0        Archived website    21976\n",
       "1              Audio book   181878\n",
       "2            Book/Braille    30639\n",
       "3        Book/Illustrated  8866768\n",
       "4        Book/Large print   104565\n",
       "5                    Book  9240406\n",
       "6  Conference Proceedings   576807\n",
       "7               Microform   702354\n",
       "8                  Thesis   584371"
      ]
     },
     "execution_count": 7,
     "metadata": {},
     "output_type": "execute_result"
    }
   ],
   "source": [
    "from operator import itemgetter\n",
    "\n",
    "def facet_totals():\n",
    "    '''\n",
    "    Loop through facets saving terms and counts.\n",
    "    Returns a list of dictionaries.\n",
    "    '''\n",
    "    facets = []\n",
    "    # Sort alphabetically by facet name\n",
    "    facet_list = sorted(data['response']['zone'][0]['facets']['facet']['term'], key=itemgetter('search'))\n",
    "    for term in facet_list:\n",
    "        term_count = int(term['count'])\n",
    "        if 'term' in term:\n",
    "            # There be sub-terms!\n",
    "            for subterm in sorted(term['term'], key=itemgetter('search')):\n",
    "                facets.append({'facet': subterm['search'], 'total': int(subterm['count'])})\n",
    "                # Subtract the subterm count from the term count\n",
    "                term_count = term_count - int(subterm['count'])\n",
    "                # print('{:<50} {:,}'.format(subterm['search'], int(subterm['count'])))\n",
    "        # print('{:<50} {:,}'.format(term['search'], term_count))\n",
    "        facets.append({'facet': term['search'], 'total': term_count})\n",
    "    return pd.DataFrame(facets)\n",
    "\n",
    "facet_totals = facet_totals()\n",
    "facet_totals"
   ]
  },
  {
   "cell_type": "markdown",
   "metadata": {},
   "source": [
    "Now we can create a bar chart using Plotly. The `x` values will be the zone names, and the `y` values will be the totals."
   ]
  },
  {
   "cell_type": "code",
   "execution_count": 8,
   "metadata": {},
   "outputs": [],
   "source": [
    "# Comment out either or both of these lines if not necessary\n",
    "# Sort by total (highest to lowest) and take the top twenty\n",
    "#top_facets = facet_totals.sort_values(by=\"total\", ascending=False)[:20]"
   ]
  },
  {
   "cell_type": "code",
   "execution_count": 9,
   "metadata": {},
   "outputs": [
    {
     "data": {
      "application/javascript": [
       "var spec = {\"config\": {\"view\": {\"width\": 400, \"height\": 300}}, \"data\": {\"name\": \"data-9d497a49a7a963c58c126f625f1155a1\"}, \"mark\": \"bar\", \"encoding\": {\"x\": {\"type\": \"quantitative\", \"field\": \"total\"}, \"y\": {\"type\": \"nominal\", \"field\": \"facet\"}}, \"$schema\": \"https://vega.github.io/schema/vega-lite/v2.6.0.json\", \"datasets\": {\"data-9d497a49a7a963c58c126f625f1155a1\": [{\"facet\": \"Archived website\", \"total\": 21976}, {\"facet\": \"Audio book\", \"total\": 181878}, {\"facet\": \"Book/Braille\", \"total\": 30639}, {\"facet\": \"Book/Illustrated\", \"total\": 8866768}, {\"facet\": \"Book/Large print\", \"total\": 104565}, {\"facet\": \"Book\", \"total\": 9240406}, {\"facet\": \"Conference Proceedings\", \"total\": 576807}, {\"facet\": \"Microform\", \"total\": 702354}, {\"facet\": \"Thesis\", \"total\": 584371}]}};\n",
       "var opt = {};\n",
       "var type = \"vega-lite\";\n",
       "var id = \"2302a71e-4494-4bed-883b-ef52ed8cad51\";\n",
       "\n",
       "var output_area = this;\n",
       "\n",
       "require([\"nbextensions/jupyter-vega/index\"], function(vega) {\n",
       "  var target = document.createElement(\"div\");\n",
       "  target.id = id;\n",
       "  target.className = \"vega-embed\";\n",
       "\n",
       "  var style = document.createElement(\"style\");\n",
       "  style.textContent = [\n",
       "    \".vega-embed .error p {\",\n",
       "    \"  color: firebrick;\",\n",
       "    \"  font-size: 14px;\",\n",
       "    \"}\",\n",
       "  ].join(\"\\\\n\");\n",
       "\n",
       "  // element is a jQuery wrapped DOM element inside the output area\n",
       "  // see http://ipython.readthedocs.io/en/stable/api/generated/\\\n",
       "  // IPython.display.html#IPython.display.Javascript.__init__\n",
       "  element[0].appendChild(target);\n",
       "  element[0].appendChild(style);\n",
       "\n",
       "  vega.render(\"#\" + id, spec, type, opt, output_area);\n",
       "}, function (err) {\n",
       "  if (err.requireType !== \"scripterror\") {\n",
       "    throw(err);\n",
       "  }\n",
       "});\n"
      ],
      "text/plain": [
       "<vega.vegalite.VegaLite at 0x110d2cc88>"
      ]
     },
     "metadata": {
      "jupyter-vega": "#2302a71e-4494-4bed-883b-ef52ed8cad51"
     },
     "output_type": "display_data"
    },
    {
     "data": {
      "text/plain": []
     },
     "execution_count": 9,
     "metadata": {},
     "output_type": "execute_result"
    },
    {
     "data": {
      "image/png": "[encoded data removed]"
     },
     "metadata": {
      "jupyter-vega": "#2302a71e-4494-4bed-883b-ef52ed8cad51"
     },
     "output_type": "display_data"
    }
   ],
   "source": [
    "# Create a bar chart\n",
    "alt.Chart(facet_totals).mark_bar().encode(\n",
    "    x='total:Q',\n",
    "    y='facet:N'\n",
    ")"
   ]
  },
  {
   "cell_type": "code",
   "execution_count": 10,
   "metadata": {},
   "outputs": [],
   "source": [
    "facet_totals.to_csv('data/facet-{}.csv'.format(params['facet']), index=False)"
   ]
  },
  {
   "cell_type": "markdown",
   "metadata": {},
   "source": [
    "Once you've saved this file, you can download it from the workbench [data directory](data)."
   ]
  },
  {
   "cell_type": "code",
   "execution_count": null,
   "metadata": {},
   "outputs": [],
   "source": []
  }
 ],
 "metadata": {
  "kernelspec": {
   "display_name": "Python 3",
   "language": "python",
   "name": "python3"
  },
  "language_info": {
   "codemirror_mode": {
    "name": "ipython",
    "version": 3
   },
   "file_extension": ".py",
   "mimetype": "text/x-python",
   "name": "python",
   "nbconvert_exporter": "python",
   "pygments_lexer": "ipython3",
   "version": "3.6.5"
  }
 },
 "nbformat": 4,
 "nbformat_minor": 2
}
