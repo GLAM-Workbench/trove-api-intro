{
 "cells": [
  {
   "cell_type": "markdown",
   "metadata": {},
   "source": [
    "# Exploring facets\n",
    "\n",
    "<p class=\"alert alert-info\">New to Jupyter notebooks? Try <a href=\"getting-started/Using_Jupyter_notebooks.ipynb\"><b>Using Jupyter notebooks</b></a> for a quick introduction.</p>"
   ]
  },
  {
   "cell_type": "markdown",
   "metadata": {},
   "source": [
    "Facets aggregate collection data in interesting and useful ways, allowing us to build pictures of the collection. This notebook shows you how to get facet data from Trove."
   ]
  },
  {
   "cell_type": "code",
   "execution_count": 11,
   "metadata": {},
   "outputs": [],
   "source": [
    "import os\n",
    "import warnings\n",
    "from operator import itemgetter\n",
    "\n",
    "warnings.simplefilter(action=\"ignore\", category=FutureWarning)\n",
    "\n",
    "import altair as alt\n",
    "import pandas as pd\n",
    "import requests\n",
    "\n",
    "# Make sure data directory exists\n",
    "os.makedirs(\"data\", exist_ok=True)"
   ]
  },
  {
   "cell_type": "code",
   "execution_count": 12,
   "metadata": {},
   "outputs": [],
   "source": [
    "%%capture\n",
    "# Load variables from the .env file if it exists\n",
    "# Use %%capture to suppress messages\n",
    "%load_ext dotenv\n",
    "%dotenv"
   ]
  },
  {
   "cell_type": "markdown",
   "metadata": {},
   "source": [
    "Insert your API key between the quotes."
   ]
  },
  {
   "cell_type": "code",
   "execution_count": null,
   "metadata": {},
   "outputs": [],
   "source": [
    "# This creates a variable called 'api_key', paste your key between the quotes\n",
    "api_key = \"\"\n",
    "\n",
    "# Use an api key value from environment variables if it is available (useful for testing)\n",
    "if os.getenv(\"TROVE_API_KEY\"):\n",
    "    api_key = os.getenv(\"TROVE_API_KEY\")\n",
    "\n",
    "# This displays a message with your key\n",
    "print(\"Your API key is: {}\".format(api_key))"
   ]
  },
  {
   "cell_type": "code",
   "execution_count": 14,
   "metadata": {},
   "outputs": [],
   "source": [
    "api_search_url = \"https://api.trove.nla.gov.au/v2/result\""
   ]
  },
  {
   "cell_type": "markdown",
   "metadata": {},
   "source": [
    "Set up our query parameters. We want everything, so we set the `q` parameter to be a single space."
   ]
  },
  {
   "cell_type": "code",
   "execution_count": 15,
   "metadata": {},
   "outputs": [],
   "source": [
    "params = {\n",
    "    \"q\": \" \",  # A space to search for everything\n",
    "    \"facet\": \"format\",\n",
    "    \"zone\": \"book\",\n",
    "    \"key\": api_key,\n",
    "    \"encoding\": \"json\",\n",
    "    \"n\": 1,\n",
    "}"
   ]
  },
  {
   "cell_type": "code",
   "execution_count": 16,
   "metadata": {},
   "outputs": [],
   "source": [
    "response = requests.get(api_search_url, params=params)\n",
    "data = response.json()"
   ]
  },
  {
   "cell_type": "code",
   "execution_count": 17,
   "metadata": {},
   "outputs": [
    {
     "data": {
      "text/html": [
       "<div>\n",
       "<style scoped>\n",
       "    .dataframe tbody tr th:only-of-type {\n",
       "        vertical-align: middle;\n",
       "    }\n",
       "\n",
       "    .dataframe tbody tr th {\n",
       "        vertical-align: top;\n",
       "    }\n",
       "\n",
       "    .dataframe thead th {\n",
       "        text-align: right;\n",
       "    }\n",
       "</style>\n",
       "<table border=\"1\" class=\"dataframe\">\n",
       "  <thead>\n",
       "    <tr style=\"text-align: right;\">\n",
       "      <th></th>\n",
       "      <th>facet</th>\n",
       "      <th>total</th>\n",
       "    </tr>\n",
       "  </thead>\n",
       "  <tbody>\n",
       "    <tr>\n",
       "      <th>0</th>\n",
       "      <td>Archived website</td>\n",
       "      <td>24241</td>\n",
       "    </tr>\n",
       "    <tr>\n",
       "      <th>1</th>\n",
       "      <td>Audio book</td>\n",
       "      <td>292212</td>\n",
       "    </tr>\n",
       "    <tr>\n",
       "      <th>2</th>\n",
       "      <td>Book/Braille</td>\n",
       "      <td>36517</td>\n",
       "    </tr>\n",
       "    <tr>\n",
       "      <th>3</th>\n",
       "      <td>Book/Illustrated</td>\n",
       "      <td>7915819</td>\n",
       "    </tr>\n",
       "    <tr>\n",
       "      <th>4</th>\n",
       "      <td>Book/Large print</td>\n",
       "      <td>115127</td>\n",
       "    </tr>\n",
       "    <tr>\n",
       "      <th>5</th>\n",
       "      <td>Book</td>\n",
       "      <td>9148457</td>\n",
       "    </tr>\n",
       "    <tr>\n",
       "      <th>6</th>\n",
       "      <td>Conference Proceedings</td>\n",
       "      <td>517361</td>\n",
       "    </tr>\n",
       "    <tr>\n",
       "      <th>7</th>\n",
       "      <td>Microform</td>\n",
       "      <td>891376</td>\n",
       "    </tr>\n",
       "    <tr>\n",
       "      <th>8</th>\n",
       "      <td>Thesis</td>\n",
       "      <td>645896</td>\n",
       "    </tr>\n",
       "  </tbody>\n",
       "</table>\n",
       "</div>"
      ],
      "text/plain": [
       "                    facet    total\n",
       "0        Archived website    24241\n",
       "1              Audio book   292212\n",
       "2            Book/Braille    36517\n",
       "3        Book/Illustrated  7915819\n",
       "4        Book/Large print   115127\n",
       "5                    Book  9148457\n",
       "6  Conference Proceedings   517361\n",
       "7               Microform   891376\n",
       "8                  Thesis   645896"
      ]
     },
     "execution_count": 17,
     "metadata": {},
     "output_type": "execute_result"
    }
   ],
   "source": [
    "def facet_totals():\n",
    "    \"\"\"\n",
    "    Loop through facets saving terms and counts.\n",
    "    Returns a list of dictionaries.\n",
    "    \"\"\"\n",
    "    facets = []\n",
    "    # Sort alphabetically by facet name\n",
    "    facet_list = sorted(\n",
    "        data[\"response\"][\"zone\"][0][\"facets\"][\"facet\"][\"term\"], key=itemgetter(\"search\")\n",
    "    )\n",
    "    for term in facet_list:\n",
    "        term_count = int(term[\"count\"])\n",
    "        if \"term\" in term:\n",
    "            # There be sub-terms!\n",
    "            for subterm in sorted(term[\"term\"], key=itemgetter(\"search\")):\n",
    "                facets.append(\n",
    "                    {\"facet\": subterm[\"search\"], \"total\": int(subterm[\"count\"])}\n",
    "                )\n",
    "                # Subtract the subterm count from the term count\n",
    "                term_count = term_count - int(subterm[\"count\"])\n",
    "                # print('{:<50} {:,}'.format(subterm['search'], int(subterm['count'])))\n",
    "        # print('{:<50} {:,}'.format(term['search'], term_count))\n",
    "        facets.append({\"facet\": term[\"search\"], \"total\": term_count})\n",
    "    return pd.DataFrame(facets)\n",
    "\n",
    "\n",
    "facet_totals = facet_totals()\n",
    "facet_totals"
   ]
  },
  {
   "cell_type": "markdown",
   "metadata": {},
   "source": [
    "Now we can create a bar chart using Altair. The `x` values will be the zone names, and the `y` values will be the totals."
   ]
  },
  {
   "cell_type": "code",
   "execution_count": 18,
   "metadata": {},
   "outputs": [],
   "source": [
    "# Comment out either or both of these lines if not necessary\n",
    "# Sort by total (highest to lowest) and take the top twenty\n",
    "# top_facets = facet_totals.sort_values(by=\"total\", ascending=False)[:20]"
   ]
  },
  {
   "cell_type": "code",
   "execution_count": 21,
   "metadata": {},
   "outputs": [
    {
     "data": {
      "text/html": [
       "\n",
       "<div id=\"altair-viz-6e132a3e6d3749939b0a15aa70b80bd1\"></div>\n",
       "<script type=\"text/javascript\">\n",
       "  var VEGA_DEBUG = (typeof VEGA_DEBUG == \"undefined\") ? {} : VEGA_DEBUG;\n",
       "  (function(spec, embedOpt){\n",
       "    let outputDiv = document.currentScript.previousElementSibling;\n",
       "    if (outputDiv.id !== \"altair-viz-6e132a3e6d3749939b0a15aa70b80bd1\") {\n",
       "      outputDiv = document.getElementById(\"altair-viz-6e132a3e6d3749939b0a15aa70b80bd1\");\n",
       "    }\n",
       "    const paths = {\n",
       "      \"vega\": \"https://cdn.jsdelivr.net/npm//vega@5?noext\",\n",
       "      \"vega-lib\": \"https://cdn.jsdelivr.net/npm//vega-lib?noext\",\n",
       "      \"vega-lite\": \"https://cdn.jsdelivr.net/npm//vega-lite@4.17.0?noext\",\n",
       "      \"vega-embed\": \"https://cdn.jsdelivr.net/npm//vega-embed@6?noext\",\n",
       "    };\n",
       "\n",
       "    function maybeLoadScript(lib, version) {\n",
       "      var key = `${lib.replace(\"-\", \"\")}_version`;\n",
       "      return (VEGA_DEBUG[key] == version) ?\n",
       "        Promise.resolve(paths[lib]) :\n",
       "        new Promise(function(resolve, reject) {\n",
       "          var s = document.createElement('script');\n",
       "          document.getElementsByTagName(\"head\")[0].appendChild(s);\n",
       "          s.async = true;\n",
       "          s.onload = () => {\n",
       "            VEGA_DEBUG[key] = version;\n",
       "            return resolve(paths[lib]);\n",
       "          };\n",
       "          s.onerror = () => reject(`Error loading script: ${paths[lib]}`);\n",
       "          s.src = paths[lib];\n",
       "        });\n",
       "    }\n",
       "\n",
       "    function showError(err) {\n",
       "      outputDiv.innerHTML = `<div class=\"error\" style=\"color:red;\">${err}</div>`;\n",
       "      throw err;\n",
       "    }\n",
       "\n",
       "    function displayChart(vegaEmbed) {\n",
       "      vegaEmbed(outputDiv, spec, embedOpt)\n",
       "        .catch(err => showError(`Javascript Error: ${err.message}<br>This usually means there's a typo in your chart specification. See the javascript console for the full traceback.`));\n",
       "    }\n",
       "\n",
       "    if(typeof define === \"function\" && define.amd) {\n",
       "      requirejs.config({paths});\n",
       "      require([\"vega-embed\"], displayChart, err => showError(`Error loading script: ${err.message}`));\n",
       "    } else {\n",
       "      maybeLoadScript(\"vega\", \"5\")\n",
       "        .then(() => maybeLoadScript(\"vega-lite\", \"4.17.0\"))\n",
       "        .then(() => maybeLoadScript(\"vega-embed\", \"6\"))\n",
       "        .catch(showError)\n",
       "        .then(() => displayChart(vegaEmbed));\n",
       "    }\n",
       "  })({\"config\": {\"view\": {\"continuousWidth\": 400, \"continuousHeight\": 300}}, \"data\": {\"name\": \"data-ef36eda8d2a06b407e99f88d60cc42cf\"}, \"mark\": \"bar\", \"encoding\": {\"tooltip\": [{\"field\": \"facet\", \"type\": \"nominal\"}, {\"field\": \"total\", \"format\": \",\", \"type\": \"quantitative\"}], \"x\": {\"field\": \"total\", \"type\": \"quantitative\"}, \"y\": {\"field\": \"facet\", \"type\": \"nominal\"}}, \"$schema\": \"https://vega.github.io/schema/vega-lite/v4.17.0.json\", \"datasets\": {\"data-ef36eda8d2a06b407e99f88d60cc42cf\": [{\"facet\": \"Archived website\", \"total\": 24241}, {\"facet\": \"Audio book\", \"total\": 292212}, {\"facet\": \"Book/Braille\", \"total\": 36517}, {\"facet\": \"Book/Illustrated\", \"total\": 7915819}, {\"facet\": \"Book/Large print\", \"total\": 115127}, {\"facet\": \"Book\", \"total\": 9148457}, {\"facet\": \"Conference Proceedings\", \"total\": 517361}, {\"facet\": \"Microform\", \"total\": 891376}, {\"facet\": \"Thesis\", \"total\": 645896}]}}, {\"mode\": \"vega-lite\"});\n",
       "</script>"
      ],
      "text/plain": [
       "alt.Chart(...)"
      ]
     },
     "execution_count": 21,
     "metadata": {},
     "output_type": "execute_result"
    }
   ],
   "source": [
    "# Create a bar chart\n",
    "alt.Chart(facet_totals).mark_bar().encode(\n",
    "    x=\"total:Q\", y=\"facet:N\", tooltip=[\"facet:N\", alt.Tooltip(\"total:Q\", format=\",\")]\n",
    ")"
   ]
  },
  {
   "cell_type": "code",
   "execution_count": 20,
   "metadata": {
    "tags": [
     "nbval-skip"
    ]
   },
   "outputs": [],
   "source": [
    "facet_totals.to_csv(\"data/facet-{}.csv\".format(params[\"facet\"]), index=False)"
   ]
  },
  {
   "cell_type": "markdown",
   "metadata": {},
   "source": [
    "Once you've saved this file, you can download it from the workbench [data directory](data)."
   ]
  },
  {
   "cell_type": "markdown",
   "metadata": {},
   "source": [
    "## Going further\n",
    "\n",
    "For an in depth exploration of facets in the newspaper zone and how they can help us visualise change over time, see [Visualise Trove newspaper searches over time](https://glam-workbench.github.io/trove-newspapers/#visualise-trove-newspaper-searches-over-time)."
   ]
  },
  {
   "cell_type": "markdown",
   "metadata": {},
   "source": [
    "----\n",
    "\n",
    "Created by [Tim Sherrratt](https://timsherratt.org) for the [GLAM workbench](https://glam-workbench.net/). Support this project by [becoming a GitHub sponsor](https://github.com/sponsors/wragge?o=esb)."
   ]
  }
 ],
 "metadata": {
  "kernelspec": {
   "display_name": "Python 3 (ipykernel)",
   "language": "python",
   "name": "python3"
  },
  "language_info": {
   "codemirror_mode": {
    "name": "ipython",
    "version": 3
   },
   "file_extension": ".py",
   "mimetype": "text/x-python",
   "name": "python",
   "nbconvert_exporter": "python",
   "pygments_lexer": "ipython3",
   "version": "3.8.12"
  }
 },
 "nbformat": 4,
 "nbformat_minor": 4
}
