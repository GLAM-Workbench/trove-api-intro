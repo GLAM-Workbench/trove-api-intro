{
 "cells": [
  {
   "cell_type": "markdown",
   "id": "031bd2b8",
   "metadata": {},
   "source": [
    "# Trove API intro\n",
    "\n",
    "Current version: [v1.0.0](https://github.com/GLAM-Workbench/trove-api-intro/releases/tag/v1.0.0)\n",
    "\n",
    "Trove provides access to much of its data through APIs (Application Programming Interfaces). These include:\n",
    "\n",
    "* the main Trove API delivers data from aggregated collections, digitised resources (including newspapers), and user activity (such as lists and tags)\n",
    "* OAI-PMH and SRU APIs deliver data from the Trove People and organisations zone\n",
    "* [Memento and CDX APIs](https://glam-workbench.net/web-archives/) deliver data from the Australian Web Archive\n",
    "\n",
    "The notebooks in this repository provide examples of using the main Trove API to harvest data and analyse the contents of Trove resources. You'll find more examples throughout the Trove sections of the [GLAM Workbench](https://glam-workbench.net/). For help building your own Trove API requests, try the [Trove API Console](http://troveconsole.herokuapp.com/).\n",
    "\n",
    "## Notebook topics\n",
    "\n",
    "* [Your first API request](https://nbviewer.jupyter.org/github/GLAM-Workbench/trove-api-intro/blob/master/Your-first-API-request.ipynb) – learn how to send a request for information to the Trove API.\n",
    "* [Working with zones](https://nbviewer.jupyter.org/github/GLAM-Workbench/trove-api-intro/blob/master/Working-with-zones.ipynb) – Trove's zones are important in constructing API requests and interpreting the results. So let's explore them a bit.\n",
    "* [Exploring facets](https://nbviewer.jupyter.org/github/GLAM-Workbench/trove-api-intro/blob/master/Exploring-facets.ipynb) – Facets aggregate collection data in interesting and useful ways, allowing us to build pictures of the collection."
   ]
  },
  {
   "cell_type": "markdown",
   "id": "7a896205",
   "metadata": {},
   "source": [
    "## Cite as\n",
    "\n",
    "See the GLAM Workbench or [Zenodo](https://doi.org/10.5281/zenodo.3549550) for up-to-date citation details.\n",
    "\n",
    "----\n",
    "\n",
    "This repository is part of the [GLAM Workbench](https://glam-workbench.github.io/). "
   ]
  }
 ],
 "metadata": {
  "jupytext": {
   "cell_metadata_filter": "-all"
  },
  "kernelspec": {
   "display_name": "Python 3 (ipykernel)",
   "language": "python",
   "name": "python3"
  }
 },
 "nbformat": 4,
 "nbformat_minor": 5
}
