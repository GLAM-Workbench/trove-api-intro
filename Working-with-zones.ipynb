{
 "cells": [
  {
   "cell_type": "markdown",
   "metadata": {},
   "source": [
    "# Working with zones\n",
    "\n",
    "<p class=\"alert alert-info\">New to Jupyter notebooks? Try <a href=\"getting-started/Using_Jupyter_notebooks.ipynb\"><b>Using Jupyter notebooks</b></a> for a quick introduction.</p>\n",
    "\n",
    "Trove's zones are important in constructing API requests and interpreting the results. So let's explore them a bit."
   ]
  },
  {
   "cell_type": "markdown",
   "metadata": {},
   "source": [
    "<p class=\"alert alert-warning\">The update to the Trove web interface in 2020 removed 'zones' and replaced them with 'categories'. However, the API still uses the original zones and knows nothing about the new categories. There is no one-to-one correspondence between zones and categories, so this can make it hard to compare results between the web interface and the API.</p>"
   ]
  },
  {
   "cell_type": "markdown",
   "metadata": {},
   "source": [
    "There are 10 zones used by the Trove API (11 if you regard the newspapers and gazettes as separate):\n",
    "\n",
    "* Digitised newspapers and gazettes \n",
    "* Journals, articles and data sets\n",
    "* Books\n",
    "* Pictures, photos and objects\n",
    "* Music, sound and video\n",
    "* Maps\n",
    "* Diaries, letters and archives\n",
    "* People and organisations\n",
    "* Archived websites\n",
    "* Lists\n",
    "\n",
    "However, data from the 'People and organisations' and 'Archives websites' zones are not available through the API. Well, sort of not...\n",
    "\n",
    "Let's see what the API itself can tell us about the zones."
   ]
  },
  {
   "cell_type": "markdown",
   "metadata": {},
   "source": [
    "## Setting things up"
   ]
  },
  {
   "cell_type": "markdown",
   "metadata": {},
   "source": [
    "We'll start by importing the modules we're going to need later on."
   ]
  },
  {
   "cell_type": "code",
   "execution_count": 54,
   "metadata": {},
   "outputs": [],
   "source": [
    "# Let's import the modules we need\n",
    "import os\n",
    "import warnings\n",
    "\n",
    "warnings.simplefilter(action=\"ignore\", category=FutureWarning)\n",
    "\n",
    "# Altair helps us make pretty charts\n",
    "import altair as alt\n",
    "\n",
    "# Pandas helps us analyse tabular data\n",
    "import pandas as pd\n",
    "import requests\n",
    "from IPython.display import JSON\n",
    "\n",
    "os.makedirs(\"data\", exist_ok=True)"
   ]
  },
  {
   "cell_type": "code",
   "execution_count": 55,
   "metadata": {},
   "outputs": [],
   "source": [
    "%%capture\n",
    "# Load variables from the .env file if it exists\n",
    "# Use %%capture to suppress messages\n",
    "%load_ext dotenv\n",
    "%dotenv"
   ]
  },
  {
   "cell_type": "markdown",
   "metadata": {},
   "source": [
    "As usual we're going to need a Trove API key."
   ]
  },
  {
   "cell_type": "code",
   "execution_count": null,
   "metadata": {},
   "outputs": [],
   "source": [
    "# This creates a variable called 'api_key', paste your key between the quotes\n",
    "api_key = \"\"\n",
    "\n",
    "# Use an api key value from environment variables if it is available (useful for testing)\n",
    "if os.getenv(\"TROVE_API_KEY\"):\n",
    "    api_key = os.getenv(\"TROVE_API_KEY\")\n",
    "\n",
    "# This displays a message with your key\n",
    "print(\"Your API key is: {}\".format(api_key))"
   ]
  },
  {
   "cell_type": "markdown",
   "metadata": {},
   "source": [
    "We'll also set the base url for our API requests."
   ]
  },
  {
   "cell_type": "code",
   "execution_count": 57,
   "metadata": {},
   "outputs": [],
   "source": [
    "# Create a variable called 'api_search_url' and give it a value\n",
    "api_search_url = \"https://api.trove.nla.gov.au/v2/result\""
   ]
  },
  {
   "cell_type": "markdown",
   "metadata": {},
   "source": [
    "## Give us everything!"
   ]
  },
  {
   "cell_type": "markdown",
   "metadata": {},
   "source": [
    "This time we're going to ask for **everything** from **all** the zones. (Don't worry, you won't break anything, Trove will only give us the first 20 results in each zone.)\n",
    "\n",
    "To do this, we'll set the `q` parameter to be an empty string (quotes around a space), and the `zone` parameter to 'all'."
   ]
  },
  {
   "cell_type": "code",
   "execution_count": 58,
   "metadata": {},
   "outputs": [],
   "source": [
    "# This creates a dictionary called 'params' and sets values for the API's parameters\n",
    "params = {\n",
    "    \"q\": \" \",  # A space to search for everything\n",
    "    \"zone\": \"all\",  # All zones thanks!\n",
    "    \"key\": api_key,\n",
    "    \"encoding\": \"json\",\n",
    "}"
   ]
  },
  {
   "cell_type": "markdown",
   "metadata": {},
   "source": [
    "We can now send our request off to the Trove API. Because we're not applying any limits to our query, the API can take a little longer than normal to respond. Just wait for the asterix in the square brackets to turn into a number, and then move on."
   ]
  },
  {
   "cell_type": "code",
   "execution_count": 59,
   "metadata": {},
   "outputs": [
    {
     "name": "stdout",
     "output_type": "stream",
     "text": [
      "https://api.trove.nla.gov.au/v2/result?q=+&zone=all&key=gq29l1g1h75pimh4&encoding=json\n",
      "All ok\n"
     ]
    }
   ],
   "source": [
    "# This sends our request to the Trove API and stores the result in a variable called 'response'\n",
    "response = requests.get(api_search_url, params=params)\n",
    "\n",
    "# This shows us the url that's sent to the API\n",
    "print(response.url)  # This shows us the url that's sent to the API\n",
    "\n",
    "# This checks the status code of the response to make sure there were no errors\n",
    "if response.status_code == requests.codes.ok:\n",
    "    print(\"All ok\")\n",
    "elif response.status_code == 403:\n",
    "    print(\"There was an authentication error. Did you paste your API above?\")\n",
    "else:\n",
    "    print(\"There was a problem. Error code: {}\".format(response.status_code))\n",
    "    print(\"Try running this cell again.\")"
   ]
  },
  {
   "cell_type": "markdown",
   "metadata": {},
   "source": [
    "As before we'll get the JSON results data from the API response."
   ]
  },
  {
   "cell_type": "code",
   "execution_count": 60,
   "metadata": {},
   "outputs": [],
   "source": [
    "# Get the Trove API's JSON results and make them available as a Python variable called 'data'\n",
    "data = response.json()"
   ]
  },
  {
   "cell_type": "markdown",
   "metadata": {},
   "source": [
    "If you'd like to have a look at the raw data, run the next cell."
   ]
  },
  {
   "cell_type": "code",
   "execution_count": 61,
   "metadata": {},
   "outputs": [
    {
     "data": {
      "application/json": {
       "response": {
        "query": "",
        "zone": [
         {
          "name": "url",
          "records": {
           "n": "0",
           "s": "*",
           "total": "0"
          }
         },
         {
          "name": "gazette",
          "records": {
           "article": [
            {
             "category": "Government Gazette Notices",
             "date": "1885-09-01",
             "heading": "TRADE-MARK.",
             "id": "219876532",
             "page": 28,
             "pageSequence": 28,
             "relevance": {
              "score": "1.0",
              "value": "likely to be relevant"
             },
             "title": {
              "id": "525",
              "value": "New South Wales Government Gazette (Sydney, NSW : 1832 - 1900)"
             },
             "troveUrl": "https://trove.nla.gov.au/ndp/del/article/219876532",
             "url": "/newspaper/219876532"
            },
            {
             "category": "Government Gazette Notices",
             "date": "1885-09-01",
             "heading": "TRADE-MARK.",
             "id": "219876533",
             "page": 28,
             "pageSequence": 28,
             "relevance": {
              "score": "1.0",
              "value": "likely to be relevant"
             },
             "title": {
              "id": "525",
              "value": "New South Wales Government Gazette (Sydney, NSW : 1832 - 1900)"
             },
             "troveUrl": "https://trove.nla.gov.au/ndp/del/article/219876533",
             "url": "/newspaper/219876533"
            },
            {
             "category": "Government Gazette Notices",
             "date": "1885-09-01",
             "heading": "Government Gazette Notices",
             "id": "219876534",
             "page": 27,
             "pageSequence": 27,
             "relevance": {
              "score": "1.0",
              "value": "likely to be relevant"
             },
             "title": {
              "id": "525",
              "value": "New South Wales Government Gazette (Sydney, NSW : 1832 - 1900)"
             },
             "troveUrl": "https://trove.nla.gov.au/ndp/del/article/219876534",
             "url": "/newspaper/219876534"
            },
            {
             "category": "Government Gazette Notices",
             "date": "1885-09-01",
             "heading": "Government Gazette Notices",
             "id": "219876535",
             "page": 28,
             "pageSequence": 28,
             "relevance": {
              "score": "1.0",
              "value": "likely to be relevant"
             },
             "title": {
              "id": "525",
              "value": "New South Wales Government Gazette (Sydney, NSW : 1832 - 1900)"
             },
             "troveUrl": "https://trove.nla.gov.au/ndp/del/article/219876535",
             "url": "/newspaper/219876535"
            },
            {
             "category": "Government Gazette Private Notices",
             "date": "1885-09-01",
             "heading": "In the Supreme Court of New South Wales. IN INSOLVENCY. In the Insolvent Estate of James Conly; of Spring Ridge, near Quirindi, labourer. FIRST AND ONLY MEETING.",
             "id": "219876536",
             "page": 43,
             "pageSequence": 43,
             "relevance": {
              "score": "1.0",
              "value": "likely to be relevant"
             },
             "title": {
              "id": "525",
              "value": "New South Wales Government Gazette (Sydney, NSW : 1832 - 1900)"
             },
             "troveUrl": "https://trove.nla.gov.au/ndp/del/article/219876536",
             "url": "/newspaper/219876536"
            },
            {
             "category": "Government Gazette Proclamations and Legislation",
             "date": "1885-09-01",
             "heading": "NOTIFICATION OF RESUMPTION OF LAND UNDER 44 VICTORIA, No. 16.",
             "id": "219876537",
             "page": 2,
             "pageSequence": 2,
             "relevance": {
              "score": "1.0",
              "value": "likely to be relevant"
             },
             "title": {
              "id": "525",
              "value": "New South Wales Government Gazette (Sydney, NSW : 1832 - 1900)"
             },
             "troveUrl": "https://trove.nla.gov.au/ndp/del/article/219876537",
             "url": "/newspaper/219876537"
            },
            {
             "category": "Government Gazette Private Notices",
             "date": "1885-09-01",
             "heading": "In the Supreme Court of New South Wales. IN INSOLVENCY. In the Insolvent Estate of John Conrad Sommer, of 112, Quarry-street, Ultimo, decorator. FIRST AND ONLY MEETING.",
             "id": "219876538",
             "page": 43,
             "pageSequence": 43,
             "relevance": {
              "score": "1.0",
              "value": "likely to be relevant"
             },
             "title": {
              "id": "525",
              "value": "New South Wales Government Gazette (Sydney, NSW : 1832 - 1900)"
             },
             "troveUrl": "https://trove.nla.gov.au/ndp/del/article/219876538",
             "url": "/newspaper/219876538"
            },
            {
             "category": "Government Gazette Appointments and Employment",
             "date": "1885-09-01",
             "heading": "Government Gazette Appointments and Employment",
             "id": "219876539",
             "page": 2,
             "pageSequence": 2,
             "relevance": {
              "score": "1.0",
              "value": "likely to be relevant"
             },
             "title": {
              "id": "525",
              "value": "New South Wales Government Gazette (Sydney, NSW : 1832 - 1900)"
             },
             "troveUrl": "https://trove.nla.gov.au/ndp/del/article/219876539",
             "url": "/newspaper/219876539"
            },
            {
             "category": "Government Gazette Private Notices",
             "date": "1885-09-01",
             "heading": "In the Supreme Court of New South Wales. IN INSOLVENCY. In the Insolvent Estate of Edwin Palmer, of the Gunnible, near Gunnodah, in the Colony of New South Wales, station overseer. FIRST AND SECOND MEETINGS.",
             "id": "219876540",
             "page": 43,
             "pageSequence": 43,
             "relevance": {
              "score": "1.0",
              "value": "likely to be relevant"
             },
             "title": {
              "id": "525",
              "value": "New South Wales Government Gazette (Sydney, NSW : 1832 - 1900)"
             },
             "troveUrl": "https://trove.nla.gov.au/ndp/del/article/219876540",
             "url": "/newspaper/219876540"
            },
            {
             "category": "Government Gazette Appointments and Employment",
             "date": "1885-09-01",
             "heading": "Government Gazette Appointments and Employment",
             "id": "219876541",
             "page": 2,
             "pageSequence": 2,
             "relevance": {
              "score": "1.0",
              "value": "likely to be relevant"
             },
             "title": {
              "id": "525",
              "value": "New South Wales Government Gazette (Sydney, NSW : 1832 - 1900)"
             },
             "troveUrl": "https://trove.nla.gov.au/ndp/del/article/219876541",
             "url": "/newspaper/219876541"
            },
            {
             "category": "Government Gazette Private Notices",
             "date": "1885-09-01",
             "heading": "In the Supreme Court of New South Wales. IN INSOLVENCY. In the Insolvent Estate of Harry Charlton Hind, of Leichhardt, builder. FIRST AND SECOND MEETINGS.",
             "id": "219876542",
             "page": 43,
             "pageSequence": 43,
             "relevance": {
              "score": "1.0",
              "value": "likely to be relevant"
             },
             "title": {
              "id": "525",
              "value": "New South Wales Government Gazette (Sydney, NSW : 1832 - 1900)"
             },
             "troveUrl": "https://trove.nla.gov.au/ndp/del/article/219876542",
             "url": "/newspaper/219876542"
            },
            {
             "category": "Government Gazette Appointments and Employment",
             "date": "1885-09-01",
             "heading": "Government Gazette Appointments and Employment",
             "id": "219876543",
             "page": 2,
             "pageSequence": 2,
             "relevance": {
              "score": "1.0",
              "value": "likely to be relevant"
             },
             "title": {
              "id": "525",
              "value": "New South Wales Government Gazette (Sydney, NSW : 1832 - 1900)"
             },
             "troveUrl": "https://trove.nla.gov.au/ndp/del/article/219876543",
             "url": "/newspaper/219876543"
            },
            {
             "category": "Government Gazette Private Notices",
             "date": "1885-09-01",
             "heading": "In the Supreme Court of New South Wales. IN INSOLVENCY. In the Insolvent Estate of Jacob Santwyk, of Waverley, labourer. FIRST AND ONLY MEETING.",
             "id": "219876544",
             "page": 44,
             "pageSequence": 44,
             "relevance": {
              "score": "1.0",
              "value": "likely to be relevant"
             },
             "title": {
              "id": "525",
              "value": "New South Wales Government Gazette (Sydney, NSW : 1832 - 1900)"
             },
             "troveUrl": "https://trove.nla.gov.au/ndp/del/article/219876544",
             "url": "/newspaper/219876544"
            },
            {
             "category": "Government Gazette Appointments and Employment",
             "date": "1885-09-01",
             "heading": "Government Gazette Appointments and Employment",
             "id": "219876545",
             "page": 2,
             "pageSequence": 2,
             "relevance": {
              "score": "1.0",
              "value": "likely to be relevant"
             },
             "title": {
              "id": "525",
              "value": "New South Wales Government Gazette (Sydney, NSW : 1832 - 1900)"
             },
             "troveUrl": "https://trove.nla.gov.au/ndp/del/article/219876545",
             "url": "/newspaper/219876545"
            },
            {
             "category": "Government Gazette Private Notices",
             "date": "1885-09-01",
             "heading": "In the Supreme Court of New South Wales. IN INSOLVENCY. In the Insolvent Estate of Richard M'Cullagh, of Cobar, labourer. FIRST AND ONLY MEETING.",
             "id": "219876546",
             "page": 43,
             "pageSequence": 43,
             "relevance": {
              "score": "1.0",
              "value": "likely to be relevant"
             },
             "title": {
              "id": "525",
              "value": "New South Wales Government Gazette (Sydney, NSW : 1832 - 1900)"
             },
             "troveUrl": "https://trove.nla.gov.au/ndp/del/article/219876546",
             "url": "/newspaper/219876546"
            },
            {
             "category": "Government Gazette Private Notices",
             "date": "1885-09-01",
             "heading": "In the Supreme Court of New South Wales. IN INSOLVENCY. In the Insolvent, Estate of Alfred Thomas Coomber, of Molong, late of Obley, licensed victualler. FIRST AND ONLY MEETING.",
             "id": "219876547",
             "page": 43,
             "pageSequence": 43,
             "relevance": {
              "score": "1.0",
              "value": "likely to be relevant"
             },
             "title": {
              "id": "525",
              "value": "New South Wales Government Gazette (Sydney, NSW : 1832 - 1900)"
             },
             "troveUrl": "https://trove.nla.gov.au/ndp/del/article/219876547",
             "url": "/newspaper/219876547"
            },
            {
             "category": "Government Gazette Private Notices",
             "date": "1885-09-01",
             "heading": "In the Supreme Court of New South Wales. IN INSOLVENCY. In the Insolvent Estate of Frances Cusack, of Lismore, licensed victualler. FIRST AND ONLY MEETING.",
             "id": "219876548",
             "page": 42,
             "pageSequence": 42,
             "relevance": {
              "score": "1.0",
              "value": "likely to be relevant"
             },
             "title": {
              "id": "525",
              "value": "New South Wales Government Gazette (Sydney, NSW : 1832 - 1900)"
             },
             "troveUrl": "https://trove.nla.gov.au/ndp/del/article/219876548",
             "url": "/newspaper/219876548"
            },
            {
             "category": "Government Gazette Proclamations and Legislation",
             "date": "1885-09-01",
             "heading": "Government Gazette Proclamations and Legislation",
             "id": "219876549",
             "page": 1,
             "pageSequence": 1,
             "relevance": {
              "score": "1.0",
              "value": "likely to be relevant"
             },
             "title": {
              "id": "525",
              "value": "New South Wales Government Gazette (Sydney, NSW : 1832 - 1900)"
             },
             "troveUrl": "https://trove.nla.gov.au/ndp/del/article/219876549",
             "url": "/newspaper/219876549"
            },
            {
             "category": "Government Gazette Private Notices",
             "date": "1885-09-01",
             "heading": "In the Supreme Court of New South Wales. IN INSOLVENCY. In the Insolvent Estate of Arthur Wesley Pass, of Bega, in the Colony of New South Wales, butcher. FIRST AND SECOND MEETINGS.",
             "id": "219876550",
             "page": 42,
             "pageSequence": 42,
             "relevance": {
              "score": "1.0",
              "value": "likely to be relevant"
             },
             "title": {
              "id": "525",
              "value": "New South Wales Government Gazette (Sydney, NSW : 1832 - 1900)"
             },
             "troveUrl": "https://trove.nla.gov.au/ndp/del/article/219876550",
             "url": "/newspaper/219876550"
            },
            {
             "category": "Government Gazette Proclamations and Legislation",
             "date": "1885-09-01",
             "heading": "Government Gazette Proclamations and Legislation",
             "id": "219876551",
             "page": 1,
             "pageSequence": 1,
             "relevance": {
              "score": "1.0",
              "value": "likely to be relevant"
             },
             "title": {
              "id": "525",
              "value": "New South Wales Government Gazette (Sydney, NSW : 1832 - 1900)"
             },
             "troveUrl": "https://trove.nla.gov.au/ndp/del/article/219876551",
             "url": "/newspaper/219876551"
            }
           ],
           "n": "20",
           "next": "/result?q=+&encoding=json&zone=gazette&s=AoIIP4AAACkyMTk4NzY1NTE%3D",
           "nextStart": "AoIIP4AAACkyMTk4NzY1NTE=",
           "s": "*",
           "total": "3535033"
          }
         },
         {
          "name": "list",
          "records": {
           "list": [
            {
             "creator": "public:rhudson",
             "id": "114067",
             "listItemCount": 15,
             "relevance": {
              "score": "7.000007",
              "value": "very relevant"
             },
             "title": "?",
             "troveUrl": "https://trove.nla.gov.au/list?id=114067",
             "url": "/list/114067"
            },
            {
             "creator": "public:sharnierose",
             "id": "152089",
             "listItemCount": 1,
             "relevance": {
              "score": "7.000007",
              "value": "very relevant"
             },
             "title": "??",
             "troveUrl": "https://trove.nla.gov.au/list?id=152089",
             "url": "/list/152089"
            },
            {
             "creator": "public:polivar",
             "id": "95312",
             "listItemCount": 1,
             "relevance": {
              "score": "7.000007",
              "value": "very relevant"
             },
             "title": ".",
             "troveUrl": "https://trove.nla.gov.au/list?id=95312",
             "url": "/list/95312"
            },
            {
             "creator": "public:radar64",
             "id": "10000",
             "listItemCount": 52,
             "relevance": {
              "score": "7.0",
              "value": "very relevant"
             },
             "title": "Smith",
             "troveUrl": "https://trove.nla.gov.au/list?id=10000",
             "url": "/list/10000"
            },
            {
             "creator": "public:tkirk",
             "description": "Kirk Family Tree",
             "id": "100000",
             "listItemCount": 11,
             "relevance": {
              "score": "7.0",
              "value": "very relevant"
             },
             "title": "O'Grady",
             "troveUrl": "https://trove.nla.gov.au/list?id=100000",
             "url": "/list/100000"
            },
            {
             "creator": "public:achistorian",
             "id": "100003",
             "listItemCount": 127,
             "relevance": {
              "score": "7.0",
              "value": "very relevant"
             },
             "title": "Berry Street Victoria",
             "troveUrl": "https://trove.nla.gov.au/list?id=100003",
             "url": "/list/100003"
            },
            {
             "creator": "public:ksbeghen",
             "id": "100004",
             "listItemCount": 8,
             "relevance": {
              "score": "7.0",
              "value": "very relevant"
             },
             "title": "Angus Stuart Duff (WW1 Soldier)",
             "troveUrl": "https://trove.nla.gov.au/list?id=100004",
             "url": "/list/100004"
            },
            {
             "creator": "public:sdgard",
             "description": "Hurstville and District United Friendly Societies' Dispensary, McMahon's Street, Hurstville,",
             "id": "100006",
             "listItemCount": 7,
             "relevance": {
              "score": "7.0",
              "value": "very relevant"
             },
             "title": "H.U.D.U.F.S",
             "troveUrl": "https://trove.nla.gov.au/list?id=100006",
             "url": "/list/100006"
            },
            {
             "creator": "public:SLQLD",
             "id": "100007",
             "listItemCount": 3,
             "relevance": {
              "score": "7.0",
              "value": "very relevant"
             },
             "title": "Sterling, Harry (WW1 Soldier) - List of articles in Trove",
             "troveUrl": "https://trove.nla.gov.au/list?id=100007",
             "url": "/list/100007"
            },
            {
             "creator": "public:vivienspencer",
             "description": "chamber works for SHO",
             "id": "100009",
             "listItemCount": 1,
             "relevance": {
              "score": "7.0",
              "value": "very relevant"
             },
             "title": "Surrey Hills Orchestra",
             "troveUrl": "https://trove.nla.gov.au/list?id=100009",
             "url": "/list/100009"
            },
            {
             "creator": "public:SLQLD",
             "id": "100010",
             "listItemCount": 2,
             "relevance": {
              "score": "7.0",
              "value": "very relevant"
             },
             "title": "Bignell, William Norman (WW1 Soldier) - List of articles in Trove",
             "troveUrl": "https://trove.nla.gov.au/list?id=100010",
             "url": "/list/100010"
            },
            {
             "creator": "public:KEVING.",
             "description": "Mr Guthrie of Epsom.<br/><br/>Tom Matthews worked there as a thrower in the 1930's. He lived nearby in Howard St.. He ...",
             "id": "100011",
             "listItemCount": 10,
             "relevance": {
              "score": "7.0",
              "value": "very relevant"
             },
             "title": "EPSOM POTTERY",
             "troveUrl": "https://trove.nla.gov.au/list?id=100011",
             "url": "/list/100011"
            },
            {
             "creator": "public:SLQLD",
             "id": "100012",
             "listItemCount": 3,
             "relevance": {
              "score": "7.0",
              "value": "very relevant"
             },
             "title": "Brooking, Edgar (WW1 Soldier) - List of articles in Trove",
             "troveUrl": "https://trove.nla.gov.au/list?id=100012",
             "url": "/list/100012"
            },
            {
             "creator": "public:SLQLD",
             "id": "100013",
             "listItemCount": 5,
             "relevance": {
              "score": "7.0",
              "value": "very relevant"
             },
             "title": "Caldwell, Robert Ramsey (WW1 Soldier) - List of articles in Trove",
             "troveUrl": "https://trove.nla.gov.au/list?id=100013",
             "url": "/list/100013"
            },
            {
             "creator": "public:SLQLD",
             "id": "100014",
             "listItemCount": 7,
             "relevance": {
              "score": "7.0",
              "value": "very relevant"
             },
             "title": "Jeremy, Aubrey George (WW1 Soldier) - List of articles in Trove",
             "troveUrl": "https://trove.nla.gov.au/list?id=100014",
             "url": "/list/100014"
            },
            {
             "creator": "public:patriciaellen55",
             "description": "First advertisement for Sands Directory of Sydney in January 1863 for the 1863 edition.",
             "id": "100015",
             "listItemCount": 4,
             "relevance": {
              "score": "7.0",
              "value": "very relevant"
             },
             "title": "Sands Directory",
             "troveUrl": "https://trove.nla.gov.au/list?id=100015",
             "url": "/list/100015"
            },
            {
             "creator": "public:SLQLD",
             "id": "100016",
             "listItemCount": 7,
             "relevance": {
              "score": "7.0",
              "value": "very relevant"
             },
             "title": "Noffke, Charles (WW1 Soldier) - List of articles in Trove",
             "troveUrl": "https://trove.nla.gov.au/list?id=100016",
             "url": "/list/100016"
            },
            {
             "creator": "public:SLQLD",
             "id": "100018",
             "listItemCount": 3,
             "relevance": {
              "score": "7.0",
              "value": "very relevant"
             },
             "title": "Bycroft, Albert Roger (WW1 Soldier) - List of articles in Trove",
             "troveUrl": "https://trove.nla.gov.au/list?id=100018",
             "url": "/list/100018"
            },
            {
             "creator": "public:SLQLD",
             "id": "100019",
             "listItemCount": 13,
             "relevance": {
              "score": "7.0",
              "value": "very relevant"
             },
             "title": "Ruff, William Henry (WW1 Soldier) - List of articles in Trove",
             "troveUrl": "https://trove.nla.gov.au/list?id=100019",
             "url": "/list/100019"
            },
            {
             "creator": "public:jess54",
             "description": "Looking for Philip Ian O'Mealley",
             "id": "100020",
             "listItemCount": 7,
             "relevance": {
              "score": "7.0",
              "value": "very relevant"
             },
             "title": "Mealy, Omealley etc",
             "troveUrl": "https://trove.nla.gov.au/list?id=100020",
             "url": "/list/100020"
            }
           ],
           "n": "20",
           "next": "/result?q=+&encoding=json&zone=list&s=AoIIQOAAACpsaXN0MTAwMDIw",
           "nextStart": "AoIIQOAAACpsaXN0MTAwMDIw",
           "s": "*",
           "total": "106022"
          }
         },
         {
          "name": "people",
          "records": {
           "n": "20",
           "next": "/result?q=+&encoding=json&zone=people&s=AoIIQwwAAD8NaWRlbnRpdHkxOTA1MDhkNC00MGI0LTRiMWQtYjI2OS1iODkzZDZmZWYzNjE%3D",
           "nextStart": "AoIIQwwAAD8NaWRlbnRpdHkxOTA1MDhkNC00MGI0LTRiMWQtYjI2OS1iODkzZDZmZWYzNjE=",
           "people": [
            {
             "id": "949358",
             "troveUrl": "https://trove.nla.gov.au/people/949358",
             "url": "/people/949358"
            },
            {
             "id": "897386",
             "troveUrl": "https://trove.nla.gov.au/people/897386",
             "url": "/people/897386"
            },
            {
             "id": "542626",
             "troveUrl": "https://trove.nla.gov.au/people/542626",
             "url": "/people/542626"
            },
            {
             "id": "461145",
             "troveUrl": "https://trove.nla.gov.au/people/461145",
             "url": "/people/461145"
            },
            {
             "id": "638889",
             "troveUrl": "https://trove.nla.gov.au/people/638889",
             "url": "/people/638889"
            },
            {
             "id": "458159",
             "troveUrl": "https://trove.nla.gov.au/people/458159",
             "url": "/people/458159"
            },
            {
             "id": "580766",
             "troveUrl": "https://trove.nla.gov.au/people/580766",
             "url": "/people/580766"
            },
            {
             "id": "1182879",
             "troveUrl": "https://trove.nla.gov.au/people/1182879",
             "url": "/people/1182879"
            },
            {
             "id": "1540489",
             "troveUrl": "https://trove.nla.gov.au/people/1540489",
             "url": "/people/1540489"
            },
            {
             "id": "641680",
             "troveUrl": "https://trove.nla.gov.au/people/641680",
             "url": "/people/641680"
            },
            {
             "id": "914592",
             "troveUrl": "https://trove.nla.gov.au/people/914592",
             "url": "/people/914592"
            },
            {
             "id": "458899",
             "troveUrl": "https://trove.nla.gov.au/people/458899",
             "url": "/people/458899"
            },
            {
             "id": "458265",
             "troveUrl": "https://trove.nla.gov.au/people/458265",
             "url": "/people/458265"
            },
            {
             "id": "464738",
             "troveUrl": "https://trove.nla.gov.au/people/464738",
             "url": "/people/464738"
            },
            {
             "id": "1471245",
             "troveUrl": "https://trove.nla.gov.au/people/1471245",
             "url": "/people/1471245"
            },
            {
             "id": "465217",
             "troveUrl": "https://trove.nla.gov.au/people/465217",
             "url": "/people/465217"
            },
            {
             "id": "1251491",
             "troveUrl": "https://trove.nla.gov.au/people/1251491",
             "url": "/people/1251491"
            },
            {
             "id": "618374",
             "troveUrl": "https://trove.nla.gov.au/people/618374",
             "url": "/people/618374"
            },
            {
             "id": "591209",
             "troveUrl": "https://trove.nla.gov.au/people/591209",
             "url": "/people/591209"
            },
            {
             "id": "1486556",
             "troveUrl": "https://trove.nla.gov.au/people/1486556",
             "url": "/people/1486556"
            }
           ],
           "s": "*",
           "total": "1309873"
          }
         },
         {
          "name": "map",
          "records": {
           "n": "20",
           "next": "/result?q=+&encoding=json&zone=map&s=AoIIQTFJdipzdTI1MDgwODU1",
           "nextStart": "AoIIQTFJdipzdTI1MDgwODU1",
           "s": "*",
           "total": "363594",
           "work": [
            {
             "contributor": [
              "Tansley, Sir Arthur George, 1871-1955"
             ],
             "hasCorrections": "N",
             "holdingsCount": 29,
             "id": "10278738",
             "identifier": [
              {
               "linktext": "Address for accessing the journal from an authorized IP address through OCLC FirstSearch Electronic Collections Online. Subscription to online journal required for access to abstracts and full text",
               "linktype": "restricted",
               "type": "url",
               "value": "http://firstsearch.oclc.org/journal=0028-646x;screen=info;ECOIP"
              }
             ],
             "issued": "1900-2023",
             "relevance": {
              "score": "11.613991",
              "value": "very relevant"
             },
             "title": "The new phytologist",
             "troveUrl": "https://trove.nla.gov.au/work/10278738",
             "type": [
              "Periodical",
              "Periodical/Journal, magazine, other",
              "Map",
              "Map/Atlas",
              "Book"
             ],
             "url": "/work/10278738",
             "versionCount": 9
            },
            {
             "contributor": [
              "Phillimore, Polly"
             ],
             "hasCorrections": "N",
             "holdingsCount": 25,
             "id": "38587393",
             "identifier": [
              {
               "linktext": "OverDrive",
               "linktype": "restricted",
               "type": "url",
               "value": "https://www.overdrive.com/search?q=9A039351-0851-4C2A-AA41-3E1EBBFB6026"
              }
             ],
             "issued": "1999-2022",
             "relevance": {
              "score": "11.613991",
              "value": "very relevant"
             },
             "title": "Top 10 Dublin / Polly Phillimore & Andrew Sanger",
             "troveUrl": "https://trove.nla.gov.au/work/38587393",
             "type": [
              "Book",
              "Book/Illustrated",
              "Map",
              "Periodical",
              "Periodical/Journal, magazine, other"
             ],
             "url": "/work/38587393",
             "versionCount": 39
            },
            {
             "contributor": [
              "American Phytopathological Society"
             ],
             "hasCorrections": "N",
             "holdingsCount": 28,
             "id": "5408028",
             "identifier": [
              {
               "linktype": "restricted",
               "type": "url",
               "value": "http://QK2NH2GK3H.search.serialssolutions.com/?V=1.0&L=QK2NH2GK3H&S=JCs&C=PLANDIS&T=marc"
              }
             ],
             "issued": "1980-2022",
             "relevance": {
              "score": "11.578334",
              "value": "very relevant"
             },
             "title": "Plant disease",
             "troveUrl": "https://trove.nla.gov.au/work/5408028",
             "type": [
              "Periodical",
              "Periodical/Journal, magazine, other",
              "Map",
              "Map/Atlas",
              "Book"
             ],
             "url": "/work/5408028",
             "versionCount": 4
            },
            {
             "contributor": [
              "Flinders University. School of Geography, Population and Environmental Management"
             ],
             "hasCorrections": "N",
             "holdingsCount": 23,
             "id": "27173029",
             "identifier": [
              {
               "linktype": "restricted",
               "type": "url",
               "value": "http://www.anzrsai.org/index.pl?page=10"
              }
             ],
             "issued": "2001-2022",
             "relevance": {
              "score": "11.449128",
              "value": "very relevant"
             },
             "title": "Sustaining regions (Online)",
             "troveUrl": "https://trove.nla.gov.au/work/27173029",
             "type": [
              "Periodical",
              "Periodical/Journal, magazine, other",
              "Map",
              "Map/Atlas",
              "Book"
             ],
             "url": "/work/27173029",
             "versionCount": 3
            },
            {
             "contributor": [
              "Commonwealth Mycological Institute (Great Britain)"
             ],
             "hasCorrections": "N",
             "holdingsCount": 17,
             "id": "5562236",
             "identifier": [
              {
               "linktype": "restricted",
               "type": "url",
               "value": "http://www.cabi.org/dfb"
              }
             ],
             "issued": "1900-2022",
             "relevance": {
              "score": "11.449128",
              "value": "very relevant"
             },
             "title": "CMI descriptions of pathogenic fungi and bacteria",
             "troveUrl": "https://trove.nla.gov.au/work/5562236",
             "type": [
              "Periodical",
              "Periodical/Journal, magazine, other",
              "Map/Single map",
              "Map"
             ],
             "url": "/work/5562236",
             "versionCount": 9
            },
            {
             "contributor": [
              "American Mathematical Society"
             ],
             "hasCorrections": "N",
             "holdingsCount": 23,
             "id": "20122716",
             "identifier": [
              {
               "linktype": "restricted",
               "type": "url",
               "value": "http://www.maik.rssi.ru/journals/danmath.htm"
              }
             ],
             "issued": "1992-2022",
             "relevance": {
              "score": "11.410881",
              "value": "very relevant"
             },
             "title": "Doklady Akademii nauk",
             "troveUrl": "https://trove.nla.gov.au/work/20122716",
             "type": [
              "Periodical",
              "Periodical/Journal, magazine, other",
              "Map",
              "Map/Atlas",
              "Book"
             ],
             "url": "/work/20122716",
             "versionCount": 4
            },
            {
             "contributor": [
              "Nihon Butsuri Gakkai"
             ],
             "hasCorrections": "N",
             "holdingsCount": 21,
             "id": "21819003",
             "identifier": [
              {
               "linktext": "Google",
               "linktype": "restricted",
               "type": "url",
               "value": "http://books.google.com/books?id=zqzYhh1SnEEC"
              }
             ],
             "issued": "1900-2022",
             "relevance": {
              "score": "11.391524",
              "value": "very relevant"
             },
             "title": "Progress of theoretical physics",
             "troveUrl": "https://trove.nla.gov.au/work/21819003",
             "type": [
              "Periodical",
              "Periodical/Journal, magazine, other",
              "Map",
              "Map/Atlas",
              "Book"
             ],
             "url": "/work/21819003",
             "versionCount": 5
            },
            {
             "contributor": [
              "International Academy of Cytology"
             ],
             "hasCorrections": "N",
             "holdingsCount": 19,
             "id": "11279539",
             "identifier": [
              {
               "linktext": "Google",
               "linktype": "restricted",
               "type": "url",
               "value": "http://books.google.com/books?id=vGxOAQAAIAAJ"
              }
             ],
             "issued": "1900-2022",
             "relevance": {
              "score": "11.352329",
              "value": "very relevant"
             },
             "title": "Acta Cytologica",
             "troveUrl": "https://trove.nla.gov.au/work/11279539",
             "type": [
              "Periodical",
              "Periodical/Journal, magazine, other",
              "Map",
              "Map/Atlas",
              "Book"
             ],
             "url": "/work/11279539",
             "versionCount": 5
            },
            {
             "contributor": [
              "Luptacik, Mikulas"
             ],
             "hasCorrections": "N",
             "holdingsCount": 19,
             "id": "162422040",
             "identifier": [
              {
               "linktext": "VIEW FULL TEXT",
               "linktype": "restricted",
               "type": "url",
               "value": "http://VH7QX3XE2P.search.serialssolutions.com/?V=1.0&L=VH7QX3XE2P&S=JCs&C=CENTEUROJOUOF&T=marc"
              }
             ],
             "issued": "1999-2022",
             "relevance": {
              "score": "11.332486",
              "value": "very relevant"
             },
             "title": "Central European journal of operations research",
             "troveUrl": "https://trove.nla.gov.au/work/162422040",
             "type": [
              "Map",
              "Periodical",
              "Periodical/Journal, magazine, other",
              "Map/Atlas",
              "Book"
             ],
             "url": "/work/162422040",
             "versionCount": 2
            },
            {
             "contributor": [
              "Chemical Society (Great Britain)"
             ],
             "hasCorrections": "N",
             "holdingsCount": 16,
             "id": "12702001",
             "identifier": [
              {
               "linktype": "restricted",
               "type": "url",
               "value": "http://www.rsc.org/Publishing/Journals/PS/article.asp?doi=PS9640000385"
              }
             ],
             "issued": "1885-2023",
             "relevance": {
              "score": "11.312475",
              "value": "very relevant"
             },
             "title": "Proceedings of the Chemical Society",
             "troveUrl": "https://trove.nla.gov.au/work/12702001",
             "type": [
              "Periodical",
              "Periodical/Journal, magazine, other",
              "Conference Proceedings",
              "Map",
              "Map/Atlas"
             ],
             "url": "/work/12702001",
             "versionCount": 12
            },
            {
             "contributor": [
              "Société médicale internationale d'endoscopie et de radio-cinéma"
             ],
             "hasCorrections": "N",
             "holdingsCount": 15,
             "id": "27249021",
             "identifier": [
              {
               "linktype": "restricted",
               "type": "url",
               "value": "http://www.springerlink.com/content/0240-642x"
              }
             ],
             "issued": "1978-2023",
             "relevance": {
              "score": "11.292294",
              "value": "very relevant"
             },
             "title": "Acta endoscopica",
             "troveUrl": "https://trove.nla.gov.au/work/27249021",
             "type": [
              "Periodical",
              "Periodical/Journal, magazine, other",
              "Map",
              "Map/Atlas",
              "Book"
             ],
             "url": "/work/27249021",
             "versionCount": 4
            },
            {
             "contributor": [
              "Great Britain. Office for National Statistics"
             ],
             "hasCorrections": "N",
             "holdingsCount": 16,
             "id": "6740264",
             "identifier": [
              {
               "linktext": "Google, v.103 1995 Index",
               "linktype": "restricted",
               "type": "url",
               "value": "http://books.google.com/books?id=YZtaJ_OFSyEC"
              }
             ],
             "issued": "1995-2023",
             "relevance": {
              "score": "11.292294",
              "value": "very relevant"
             },
             "title": "Labour market trends / Central Statistical Office",
             "troveUrl": "https://trove.nla.gov.au/work/6740264",
             "type": [
              "Government publication",
              "Periodical",
              "Periodical/Journal, magazine, other",
              "Map",
              "Map/Atlas"
             ],
             "url": "/work/6740264",
             "versionCount": 4
            },
            {
             "contributor": [
              "IEEE Circuits and Systems Society"
             ],
             "hasCorrections": "N",
             "holdingsCount": 14,
             "id": "11261612",
             "identifier": [
              {
               "linktext": "University of Alberta Access: 1974-1991",
               "linktype": "restricted",
               "type": "url",
               "value": "http://resolver.library.ualberta.ca/resolver?ctx_enc=info:ofi/enc:UTF-8&ctx_ver=Z39.88-2004&rfr_id=info:sid/ualberta.ca:opac&rft.genre=journal&rft.object_id=954928531017&rft.issn=0098-4094&rft.eissn=1558-1276&rft_val_fmt=info:ofi/fmt:kev:mtx:journal&url_ctx_fmt=info:ofi/fmt:kev:mtx:ctx&url_ver=Z39.88-2004"
              }
             ],
             "issued": "1974-2022",
             "relevance": {
              "score": "11.25141",
              "value": "very relevant"
             },
             "title": "IEEE transactions on circuits and systems",
             "troveUrl": "https://trove.nla.gov.au/work/11261612",
             "type": [
              "Periodical",
              "Periodical/Journal, magazine, other",
              "Map",
              "Map/Atlas",
              "Book"
             ],
             "url": "/work/11261612",
             "versionCount": 8
            },
            {
             "contributor": [
              "University of Chicago. Graduate School of Business"
             ],
             "hasCorrections": "N",
             "holdingsCount": 14,
             "id": "5706009",
             "identifier": [
              {
               "linktext": "Expanded Academic ASAP",
               "linktype": "restricted",
               "type": "url",
               "value": "http://infotrac.galegroup.com/itw/infomark/1/1/1/purl=rc18%5fEAIM%5F0%5F%5Fjn+%22Journal+of+Business%22"
              }
             ],
             "issued": "1928-2022",
             "relevance": {
              "score": "11.25141",
              "value": "very relevant"
             },
             "title": "The Journal of business / the School of Business of the University of Chicago",
             "troveUrl": "https://trove.nla.gov.au/work/5706009",
             "type": [
              "Periodical",
              "Periodical/Journal, magazine, other",
              "Microform",
              "Map",
              "Map/Atlas"
             ],
             "url": "/work/5706009",
             "versionCount": 9
            },
            {
             "contributor": [
              "Koninklijke Nederlandse Akademie van Wetenschappen"
             ],
             "hasCorrections": "N",
             "holdingsCount": 13,
             "id": "12850094",
             "identifier": [
              {
               "linktext": "View online via ScienceDirect Mathematics Supplement 1 [ANU staff and students only]: 1969 to 1989",
               "linktype": "restricted",
               "type": "url",
               "value": "https://anulib.anu.edu.au/tools/generic_revproxy.html?url=http://www.sciencedirect.com/science/journal/13857258"
              }
             ],
             "issued": "1966-2022",
             "relevance": {
              "score": "11.209807",
              "value": "very relevant"
             },
             "title": "Proceedings of the Koninklijke Nederlandse Akademie van Wetenschappen. Koninklijke Nederlandse Akademie van Wetenschappen",
             "troveUrl": "https://trove.nla.gov.au/work/12850094",
             "type": [
              "Periodical",
              "Periodical/Journal, magazine, other",
              "Map",
              "Map/Atlas",
              "Book"
             ],
             "url": "/work/12850094",
             "versionCount": 3
            },
            {
             "hasCorrections": "N",
             "holdingsCount": 12,
             "id": "189744159",
             "identifier": [
              {
               "linktext": "View online via Humanities Full Text (H.W. Wilson) [ANU staff and students only]: 01/06/2007 to 31/10/2011",
               "linktype": "restricted",
               "type": "url",
               "value": "https://anulib.anu.edu.au/tools/generic_revproxy.html?url=http://search.ebscohost.com/direct.asp?db=hft&jid=3GZY&scope=site"
              }
             ],
             "issued": "2007-2022",
             "relevance": {
              "score": "11.209807",
              "value": "very relevant"
             },
             "title": "Contemporary Islam : dynamics of Muslim life",
             "troveUrl": "https://trove.nla.gov.au/work/189744159",
             "type": [
              "Periodical",
              "Periodical/Journal, magazine, other",
              "Map",
              "Map/Atlas",
              "Book"
             ],
             "url": "/work/189744159",
             "versionCount": 3
            },
            {
             "contributor": [
              "All-India Institute of Medical Sciences. Dept. of Pediatrics"
             ],
             "hasCorrections": "N",
             "holdingsCount": 13,
             "id": "31332273",
             "identifier": [
              {
               "linktype": "restricted",
               "type": "url",
               "value": "http://handle.slv.vic.gov.au/10381/162452"
              },
              {
               "linktype": "thumbnail",
               "type": "url",
               "value": "http://digital.slv.vic.gov.au/webclient/DeliveryManager?pid=2560486"
              }
             ],
             "issued": "1933-2023",
             "relevance": {
              "score": "11.209807",
              "value": "very relevant"
             },
             "title": "Indian journal of pediatrics",
             "troveUrl": "https://trove.nla.gov.au/work/31332273",
             "type": [
              "Map",
              "Periodical",
              "Periodical/Journal, magazine, other"
             ],
             "url": "/work/31332273",
             "versionCount": 2
            },
            {
             "contributor": [
              "IRE Professional Group on Information Theory"
             ],
             "hasCorrections": "N",
             "holdingsCount": 10,
             "id": "19112868",
             "identifier": [
              {
               "linktype": "restricted",
               "type": "url",
               "value": "http://ieeexplore.ieee.org/servlet/opac?punumber=4547527"
              }
             ],
             "issued": "1955-1962",
             "relevance": {
              "score": "11.146005",
              "value": "very relevant"
             },
             "title": "IRE transactions on information theory (Online)",
             "troveUrl": "https://trove.nla.gov.au/work/19112868",
             "type": [
              "Periodical",
              "Periodical/Journal, magazine, other",
              "Microform",
              "Map",
              "Map/Atlas"
             ],
             "url": "/work/19112868",
             "versionCount": 3
            },
            {
             "contributor": [
              "Zhongguo ke xue yuan. Nanjing di zhi gu sheng wu yan jiu suo"
             ],
             "hasCorrections": "N",
             "holdingsCount": 7,
             "id": "31934695",
             "identifier": [
              {
               "linktype": "restricted",
               "type": "url",
               "value": "http://www.sciencedirect.com/science/journal/1871174X"
              }
             ],
             "issued": "1900-2022",
             "relevance": {
              "score": "11.102493",
              "value": "very relevant"
             },
             "title": "Palaeoworld",
             "troveUrl": "https://trove.nla.gov.au/work/31934695",
             "type": [
              "Periodical",
              "Periodical/Journal, magazine, other",
              "Map",
              "Map/Atlas",
              "Book"
             ],
             "url": "/work/31934695",
             "versionCount": 3
            },
            {
             "contributor": [
              "International Society for Interferon and Cytokine Research"
             ],
             "hasCorrections": "N",
             "holdingsCount": 7,
             "id": "25080855",
             "identifier": [
              {
               "linktype": "restricted",
               "type": "url",
               "value": "http://www.liebertonline.com/loi/jir"
              }
             ],
             "issued": "1980-1994",
             "relevance": {
              "score": "11.080435",
              "value": "very relevant"
             },
             "title": "Journal of interferon research",
             "troveUrl": "https://trove.nla.gov.au/work/25080855",
             "type": [
              "Map",
              "Map/Atlas",
              "Book",
              "Periodical",
              "Periodical/Journal, magazine, other"
             ],
             "url": "/work/25080855",
             "versionCount": 2
            }
           ]
          }
         },
         {
          "name": "music",
          "records": {
           "n": "20",
           "next": "/result?q=+&encoding=json&zone=music&s=AoIIQXSbpSpzdTEwOTEyMjg0",
           "nextStart": "AoIIQXSbpSpzdTEwOTEyMjg0",
           "s": "*",
           "total": "3066364",
           "work": [
            {
             "contributor": [
              "National Council on Family Relations (U.S.)"
             ],
             "hasCorrections": "N",
             "holdingsCount": 22,
             "id": "10051851",
             "identifier": [
              {
               "linktext": "Online access from 01/01/2014-31/12/2016",
               "linktype": "restricted",
               "type": "url",
               "value": "http://ejournals.ebsco.com/direct.asp?JournalID=111076"
              }
             ],
             "issued": "1939-2022",
             "relevance": {
              "score": "15.287999",
              "value": "very relevant"
             },
             "title": "Journal of marriage and the family",
             "troveUrl": "https://trove.nla.gov.au/work/10051851",
             "type": [
              "Periodical",
              "Periodical/Journal, magazine, other",
              "Microform",
              "Printed music"
             ],
             "url": "/work/10051851",
             "versionCount": 7
            },
            {
             "contributor": [
              "Association for Foundations of Science, Language and Cognition"
             ],
             "hasCorrections": "N",
             "holdingsCount": 5,
             "id": "10202634",
             "identifier": [
              {
               "linktext": "Full text available: Apr 1997-. (Due to publisher restrictions, the most recent 12 months are not available.)",
               "linktype": "restricted",
               "type": "url",
               "value": "http://search.epnet.com/direct.asp?db=aph&jid=%22OFC%22&scope=site"
              }
             ],
             "issued": "1995-2022",
             "relevance": {
              "score": "15.287999",
              "value": "very relevant"
             },
             "title": "Foundations of science",
             "troveUrl": "https://trove.nla.gov.au/work/10202634",
             "type": [
              "Periodical",
              "Periodical/Journal, magazine, other",
              "Printed music"
             ],
             "url": "/work/10202634",
             "versionCount": 5
            },
            {
             "contributor": [
              "Association for the Education of Teachers in Science"
             ],
             "hasCorrections": "N",
             "holdingsCount": 15,
             "id": "10226770",
             "identifier": [
              {
               "linktype": "restricted",
               "type": "url",
               "value": "http://www.springerlink.com/content/1046-560X"
              }
             ],
             "issued": "1989-2022",
             "relevance": {
              "score": "15.287999",
              "value": "very relevant"
             },
             "title": "Journal of science teacher education (Online)",
             "troveUrl": "https://trove.nla.gov.au/work/10226770",
             "type": [
              "Periodical",
              "Periodical/Journal, magazine, other",
              "Printed music"
             ],
             "url": "/work/10226770",
             "versionCount": 5
            },
            {
             "contributor": [
              "National Council on Family Relations"
             ],
             "hasCorrections": "N",
             "holdingsCount": 23,
             "id": "10279772",
             "identifier": [
              {
               "linktext": "Full text available: 1997-01-01 - 1998-11-01",
               "linktype": "restricted",
               "type": "url",
               "value": "http://infotrac.galegroup.com/itw/infomark/1/1/1/purl=rc18_AONE_0__jn+%22Journal+of+Family+Issues%22?sw_aep=ocul_mcmaster"
              }
             ],
             "issued": "1980-2022",
             "relevance": {
              "score": "15.287999",
              "value": "very relevant"
             },
             "title": "Journal of family issues (Online)",
             "troveUrl": "https://trove.nla.gov.au/work/10279772",
             "type": [
              "Periodical",
              "Periodical/Journal, magazine, other",
              "Microform",
              "Printed music"
             ],
             "url": "/work/10279772",
             "versionCount": 4
            },
            {
             "contributor": [
              "Society for the Study of Inborn Errors of Metabolism"
             ],
             "hasCorrections": "N",
             "holdingsCount": 20,
             "id": "10327138",
             "identifier": [
              {
               "linktext": "MacEwan University Access: v.20(1997)-",
               "linktype": "restricted",
               "type": "url",
               "value": "http://resolver.macewan.ca/macewan?url%5Fver=Z39.88-2004&ctx%5Fver=Z39.88-2004&ctx%5Fenc=info:ofi/enc:UTF-8&rfr%5Fid=info:sid/sfxit.com:opac%5F856&url%5Fctx%5Ffmt=info:ofi/fmt:kev:mtx:ctx&sfx.ignore%5Fdate%5Fthreshold=1&rft.object%5Fid=954925471350&svc%5Fval%5Ffmt=info:ofi/fmt:kev:mtx:sch%5Fsvc&"
              }
             ],
             "issued": "1978-2022",
             "relevance": {
              "score": "15.287999",
              "value": "very relevant"
             },
             "title": "Journal of inherited metabolic disease (Online)",
             "troveUrl": "https://trove.nla.gov.au/work/10327138",
             "type": [
              "Periodical",
              "Periodical/Journal, magazine, other",
              "Microform",
              "Printed music"
             ],
             "url": "/work/10327138",
             "versionCount": 6
            },
            {
             "contributor": [
              "Behavior Genetics Association"
             ],
             "hasCorrections": "N",
             "holdingsCount": 35,
             "id": "10401877",
             "identifier": [
              {
               "linktext": "HathiTrust Digital Library Limited view (search only)",
               "linktype": "restricted",
               "type": "url",
               "value": "http://catalog.hathitrust.org/api/volumes/oclc/1519335.html"
              }
             ],
             "issued": "1900-2022",
             "relevance": {
              "score": "15.287999",
              "value": "very relevant"
             },
             "title": "Behavior genetics",
             "troveUrl": "https://trove.nla.gov.au/work/10401877",
             "type": [
              "Periodical",
              "Periodical/Journal, magazine, other",
              "Printed music"
             ],
             "url": "/work/10401877",
             "versionCount": 5
            },
            {
             "contributor": [
              "SAGE Publications, inc"
             ],
             "hasCorrections": "N",
             "holdingsCount": 11,
             "id": "10417564",
             "identifier": [
              {
               "linktype": "restricted",
               "type": "url",
               "value": "http://www.swetswise.com/link/access_db?issn=0193-841X"
              }
             ],
             "issued": "1980-2022",
             "relevance": {
              "score": "15.287999",
              "value": "very relevant"
             },
             "title": "Evaluation review : a journal of applied social research",
             "troveUrl": "https://trove.nla.gov.au/work/10417564",
             "type": [
              "Periodical",
              "Periodical/Journal, magazine, other",
              "Printed music"
             ],
             "url": "/work/10417564",
             "versionCount": 4
            },
            {
             "contributor": [
              "SpringerLink (Online service)"
             ],
             "hasCorrections": "N",
             "holdingsCount": 23,
             "id": "10519983",
             "identifier": [
              {
               "linktext": "04/01/2003 to 12/15/2003",
               "linktype": "restricted",
               "type": "url",
               "value": "https://search.ebscohost.com/direct.asp?db=aph&jid=OIC&scope=site"
              }
             ],
             "issued": "1982-2022",
             "relevance": {
              "score": "15.287999",
              "value": "very relevant"
             },
             "title": "Journal of materials science letters",
             "troveUrl": "https://trove.nla.gov.au/work/10519983",
             "type": [
              "Periodical",
              "Periodical/Journal, magazine, other",
              "Printed music"
             ],
             "url": "/work/10519983",
             "versionCount": 4
            },
            {
             "contributor": [
              "Association for Applied Psychophysiology and Biofeedback"
             ],
             "hasCorrections": "N",
             "holdingsCount": 34,
             "id": "10773123",
             "identifier": [
              {
               "linktype": "restricted",
               "type": "url",
               "value": "http://www.kluweronline.com/issn/1090-0586/contents"
              }
             ],
             "issued": "1976-2023",
             "relevance": {
              "score": "15.287999",
              "value": "very relevant"
             },
             "title": "Applied psychophysiology and biofeedback",
             "troveUrl": "https://trove.nla.gov.au/work/10773123",
             "type": [
              "Periodical",
              "Periodical/Journal, magazine, other",
              "Printed music"
             ],
             "url": "/work/10773123",
             "versionCount": 4
            },
            {
             "contributor": [
              "Steinhaus, Edward Arthur, 1914-1969"
             ],
             "hasCorrections": "N",
             "holdingsCount": 44,
             "id": "10880299",
             "identifier": [
              {
               "linktext": "MacEwan University Access: v.1(1956)-",
               "linktype": "restricted",
               "type": "url",
               "value": "http://resolver.macewan.ca/macewan?url%5Fver=Z39.88-2004&ctx%5Fver=Z39.88-2004&ctx%5Fenc=info:ofi/enc:UTF-8&rfr%5Fid=info:sid/sfxit.com:opac%5F856&url%5Fctx%5Ffmt=info:ofi/fmt:kev:mtx:ctx&sfx.ignore%5Fdate%5Fthreshold=1&rft.object%5Fid=954925458040&svc%5Fval%5Ffmt=info:ofi/fmt:kev:mtx:sch%5Fsvc&"
              }
             ],
             "issued": "1956-2022",
             "relevance": {
              "score": "15.287999",
              "value": "very relevant"
             },
             "title": "Annual review of entomology",
             "troveUrl": "https://trove.nla.gov.au/work/10880299",
             "type": [
              "Periodical",
              "Periodical/Journal, magazine, other",
              "Printed music"
             ],
             "url": "/work/10880299",
             "versionCount": 4
            },
            {
             "contributor": [
              "Rhine, J. B. (Joseph Banks), 1895-1980"
             ],
             "hasCorrections": "N",
             "holdingsCount": 13,
             "id": "10882656",
             "identifier": [
              {
               "linktype": "restricted",
               "type": "url",
               "value": "http://cufts2.lib.sfu.ca/CJDB/BVAS/journal/152360"
              }
             ],
             "issued": "1937-2022",
             "relevance": {
              "score": "15.287999",
              "value": "very relevant"
             },
             "title": "The Journal of parapsychology",
             "troveUrl": "https://trove.nla.gov.au/work/10882656",
             "type": [
              "Periodical",
              "Periodical/Journal, magazine, other",
              "Microform",
              "Printed music"
             ],
             "url": "/work/10882656",
             "versionCount": 6
            },
            {
             "contributor": [
              "Doniger, Simon"
             ],
             "hasCorrections": "N",
             "holdingsCount": 17,
             "id": "10884318",
             "identifier": [
              {
               "linktext": "Full text from SpringerLink Contemporary - NESLi2: 01/01/1997 to present",
               "linktype": "restricted",
               "type": "url",
               "value": "http://www.springerlink.com/openurl.asp?genre=journal&issn=0031-2789"
              }
             ],
             "issued": "1950-2022",
             "relevance": {
              "score": "15.287999",
              "value": "very relevant"
             },
             "title": "Pastoral psychology",
             "troveUrl": "https://trove.nla.gov.au/work/10884318",
             "type": [
              "Periodical",
              "Periodical/Journal, magazine, other",
              "Printed music"
             ],
             "url": "/work/10884318",
             "versionCount": 5
            },
            {
             "contributor": [
              "Center for Urban Education (New York, N.Y.)"
             ],
             "hasCorrections": "N",
             "holdingsCount": 20,
             "id": "10884894",
             "identifier": [
              {
               "linktext": "Full text from SpringerLINK (SHEDL) at Springer Nature: 1997 to present",
               "linktype": "restricted",
               "type": "url",
               "value": "https://resolver.ebscohost.com/Redirect/PRL?EPPackageLocationID=2493.68515.1718895&epcustomerid=s3011414"
              }
             ],
             "issued": "1966-2022",
             "relevance": {
              "score": "15.287999",
              "value": "very relevant"
             },
             "title": "The Urban review",
             "troveUrl": "https://trove.nla.gov.au/work/10884894",
             "type": [
              "Periodical",
              "Periodical/Journal, magazine, other",
              "Printed music"
             ],
             "url": "/work/10884894",
             "versionCount": 3
            },
            {
             "contributor": [
              "National Recreation and Park Association"
             ],
             "hasCorrections": "N",
             "holdingsCount": 23,
             "id": "10885622",
             "identifier": [
              {
               "linktype": "restricted",
               "type": "url",
               "value": "https://search.proquest.com/publication/34631"
              }
             ],
             "issued": "1969-2023",
             "relevance": {
              "score": "15.287999",
              "value": "very relevant"
             },
             "title": "Journal of leisure research (Online)",
             "troveUrl": "https://trove.nla.gov.au/work/10885622",
             "type": [
              "Periodical",
              "Periodical/Journal, magazine, other",
              "Printed music"
             ],
             "url": "/work/10885622",
             "versionCount": 5
            },
            {
             "contributor": [
              "Kluwer Online"
             ],
             "hasCorrections": "N",
             "holdingsCount": 30,
             "id": "10889791",
             "identifier": [
              {
               "linktext": "Full text from SpringerLink Contemporary - NESLi2: 01/01/1997 to present",
               "linktype": "restricted",
               "type": "url",
               "value": "http://www.springerlink.com/openurl.asp?genre=journal&issn=0165-005X"
              }
             ],
             "issued": "1977-2022",
             "relevance": {
              "score": "15.287999",
              "value": "very relevant"
             },
             "title": "Culture, medicine and psychiatry",
             "troveUrl": "https://trove.nla.gov.au/work/10889791",
             "type": [
              "Periodical",
              "Periodical/Journal, magazine, other",
              "Printed music"
             ],
             "url": "/work/10889791",
             "versionCount": 3
            },
            {
             "contributor": [
              "Council for Social and Economic Studies (U.S.)"
             ],
             "hasCorrections": "N",
             "holdingsCount": 15,
             "id": "10893315",
             "identifier": [
              {
               "linktext": "Google, v.32:no.1-4(2007)",
               "linktype": "restricted",
               "type": "url",
               "value": "http://books.google.com/books?id=qQcNAQAAMAAJ"
              }
             ],
             "issued": "1981-2022",
             "relevance": {
              "score": "15.287999",
              "value": "very relevant"
             },
             "title": "The Journal of social, political, and economic studies",
             "troveUrl": "https://trove.nla.gov.au/work/10893315",
             "type": [
              "Periodical",
              "Periodical/Journal, magazine, other",
              "Printed music"
             ],
             "url": "/work/10893315",
             "versionCount": 4
            },
            {
             "contributor": [
              "Kluwer Online"
             ],
             "hasCorrections": "N",
             "holdingsCount": 10,
             "id": "10895419",
             "identifier": [
              {
               "linktext": "University of Alberta Access: 1983-",
               "linktype": "restricted",
               "type": "url",
               "value": "http://resolver.library.ualberta.ca/resolver?ctx_enc=info%3Aofi%2Fenc%3AUTF-8&ctx_ver=Z39.88-2004&rfr_id=info%3Asid%2Fualberta.ca%3Aopac&rft.genre=journal&rft.object_id=963017449038&rft.issn=0263-0338&rft.eissn=1572-9842&rft_val_fmt=info%3Aofi%2Ffmt%3Akev%3Amtx%3Ajournal&url_ctx_fmt=info%3Aofi%2Ffmt%3Akev%3Amtx%3Actx&url_ver=Z39.88-2004"
              }
             ],
             "issued": "1983-2022",
             "relevance": {
              "score": "15.287999",
              "value": "very relevant"
             },
             "title": "The African archaeological review",
             "troveUrl": "https://trove.nla.gov.au/work/10895419",
             "type": [
              "Periodical",
              "Periodical/Journal, magazine, other",
              "Printed music"
             ],
             "url": "/work/10895419",
             "versionCount": 3
            },
            {
             "contributor": [
              "Kluwer Online"
             ],
             "hasCorrections": "N",
             "holdingsCount": 19,
             "id": "10897195",
             "identifier": [
              {
               "linktext": "Full-text via EUI LINKS",
               "linktype": "restricted",
               "type": "url",
               "value": "http://search.ebscohost.com/login.aspx?CustID=s3136966&groupid=main&authtype=ip,guest&db=edspub&type=44&bQuery=AN%2039955&direct=true&site=pfi-live"
              }
             ],
             "issued": "1986-2022",
             "relevance": {
              "score": "15.287999",
              "value": "very relevant"
             },
             "title": "Journal of cross-cultural gerontology",
             "troveUrl": "https://trove.nla.gov.au/work/10897195",
             "type": [
              "Printed music",
              "Periodical",
              "Periodical/Journal, magazine, other"
             ],
             "url": "/work/10897195",
             "versionCount": 2
            },
            {
             "hasCorrections": "N",
             "holdingsCount": 9,
             "id": "10900527",
             "identifier": [
              {
               "linktype": "restricted",
               "type": "url",
               "value": "http://www.jstor.org/action/showPublication?journalCode=educpsycrevi"
              }
             ],
             "issued": "1989-2023",
             "relevance": {
              "score": "15.287999",
              "value": "very relevant"
             },
             "title": "Educational psychology review",
             "troveUrl": "https://trove.nla.gov.au/work/10900527",
             "type": [
              "Periodical",
              "Periodical/Journal, magazine, other",
              "Printed music"
             ],
             "url": "/work/10900527",
             "versionCount": 3
            },
            {
             "contributor": [
              "Kluwer Online"
             ],
             "hasCorrections": "N",
             "holdingsCount": 10,
             "id": "10912284",
             "identifier": [
              {
               "linktext": "MacEwan University Access: 1997-",
               "linktype": "restricted",
               "type": "url",
               "value": "http://resolver.lrc.macewan.ca/macewan?url%5Fver=Z39.88-2004&ctx%5Fver=Z39.88-2004&ctx%5Fenc=info:ofi/enc:UTF-8&rfr%5Fid=info:sid/sfxit.com:opac%5F856&url%5Fctx%5Ffmt=info:ofi/fmt:kev:mtx:ctx&sfx.ignore%5Fdate%5Fthreshold=1&rft.object%5Fid=960238581208&svc%5Fval%5Ffmt=info:ofi/fmt:kev:mtx:sch%5Fsvc&"
              }
             ],
             "issued": "1995-2022",
             "relevance": {
              "score": "15.287999",
              "value": "very relevant"
             },
             "title": "Early childhood education journal",
             "troveUrl": "https://trove.nla.gov.au/work/10912284",
             "type": [
              "Periodical",
              "Periodical/Journal, magazine, other",
              "Printed music"
             ],
             "url": "/work/10912284",
             "versionCount": 3
            }
           ]
          }
         },
         {
          "name": "collection",
          "records": {
           "n": "20",
           "next": "/result?q=+&encoding=json&zone=collection&s=AoIIQRXCkCpzdTEwNjg4NjMx",
           "nextStart": "AoIIQRXCkCpzdTEwNjg4NjMx",
           "s": "*",
           "total": "4748600",
           "work": [
            {
             "contributor": [
              "Hunter Water Corporation (N.S.W.)"
             ],
             "hasCorrections": "N",
             "holdingsCount": 3,
             "id": "10105376",
             "identifier": [
              {
               "linktext": "Archived site",
               "linktype": "restricted",
               "type": "url",
               "value": "http://nla.gov.au/nla.arc-39584"
              }
             ],
             "issued": 2000,
             "relevance": {
              "score": "9.360001",
              "value": "very relevant"
             },
             "title": "Hunter Water Corporation",
             "troveUrl": "https://trove.nla.gov.au/work/10105376",
             "type": [
              "Published",
              "Government publication"
             ],
             "url": "/work/10105376",
             "versionCount": 1
            },
            {
             "contributor": [
              "Kelly, F. S. (Frederick Septimus), 1881-1916"
             ],
             "hasCorrections": "N",
             "holdingsCount": 1,
             "id": "10201266",
             "identifier": [
              {
               "linktext": "National Library of Australia digitised item",
               "linktype": "fulltext",
               "type": "url",
               "value": "http://nla.gov.au/nla.obj-231621690"
              },
              {
               "linktype": "thumbnail",
               "type": "url",
               "value": "http://nla.gov.au/nla.obj-231621690-t"
              }
             ],
             "issued": "1893-1926",
             "relevance": {
              "score": "9.360001",
              "value": "very relevant"
             },
             "title": "Music manuscripts",
             "troveUrl": "https://trove.nla.gov.au/work/10201266",
             "type": [
              "Unpublished"
             ],
             "url": "/work/10201266",
             "versionCount": 1
            },
            {
             "contributor": [
              "4D Architecture & Design"
             ],
             "hasCorrections": "N",
             "holdingsCount": 3,
             "id": "10275313",
             "identifier": [
              {
               "linktext": "Publisher site",
               "linktype": "restricted",
               "type": "url",
               "value": "http://www.4darchitecture.net"
              }
             ],
             "issued": 2004,
             "relevance": {
              "score": "9.360001",
              "value": "very relevant"
             },
             "title": "4D Architecture & Design",
             "troveUrl": "https://trove.nla.gov.au/work/10275313",
             "type": [
              "Archived website",
              "Published"
             ],
             "url": "/work/10275313",
             "versionCount": 2
            },
            {
             "contributor": [
              "Imperial Federation League of Victoria"
             ],
             "hasCorrections": "N",
             "holdingsCount": 1,
             "id": "10351300",
             "identifier": [
              {
               "linktext": "National Library of Australia digitised item",
               "linktype": "fulltext",
               "type": "url",
               "value": "http://nla.gov.au/nla.obj-229322803"
              },
              {
               "linktype": "thumbnail",
               "type": "url",
               "value": "http://nla.gov.au/nla.obj-229322803-t"
              }
             ],
             "issued": "1889-1910",
             "relevance": {
              "score": "9.360001",
              "value": "very relevant"
             },
             "title": "Letterbook of the Imperial Federation League of Victoria",
             "troveUrl": "https://trove.nla.gov.au/work/10351300",
             "type": [
              "Unpublished"
             ],
             "url": "/work/10351300",
             "versionCount": 1
            },
            {
             "contributor": [
              "Franklin, Jane, Lady, 1791-1875"
             ],
             "hasCorrections": "N",
             "holdingsCount": 1,
             "id": "10351394",
             "identifier": [
              {
               "linktext": "National Library of Australia digitised item. MS 114 copy",
               "linktype": "fulltext",
               "type": "url",
               "value": "https://nla.gov.au/nla.obj-244216652"
              },
              {
               "linktype": "thumbnail",
               "type": "url",
               "value": "https://nla.gov.au/nla.obj-244216652-t"
              }
             ],
             "issued": "1837-1859",
             "relevance": {
              "score": "9.360001",
              "value": "very relevant"
             },
             "title": "Diaries and letters of Lady Jane Franklin and letters of Sir John Franklin",
             "troveUrl": "https://trove.nla.gov.au/work/10351394",
             "type": [
              "Unpublished"
             ],
             "url": "/work/10351394",
             "versionCount": 1
            },
            {
             "contributor": [
              "Manchester Unity Independent Order of Oddfellows Friendly Society in Victoria"
             ],
             "hasCorrections": "N",
             "holdingsCount": 4,
             "id": "10363601",
             "identifier": [
              {
               "linktype": "restricted",
               "type": "url",
               "value": "http://handle.slv.vic.gov.au/10381/331996"
              },
              {
               "linktype": "thumbnail",
               "type": "url",
               "value": "http://digital.slv.vic.gov.au/webclient/DeliveryManager?pid=3660499"
              }
             ],
             "issued": "1871-1890",
             "relevance": {
              "score": "9.360001",
              "value": "very relevant"
             },
             "title": "Laws of the Manchester Unity Independent Order of Oddfellows in Victoria",
             "troveUrl": "https://trove.nla.gov.au/work/10363601",
             "type": [
              "Book",
              "Published"
             ],
             "url": "/work/10363601",
             "versionCount": 5
            },
            {
             "contributor": [
              "Toogood, Gerald, 1913-1991"
             ],
             "hasCorrections": "N",
             "holdingsCount": 1,
             "id": "10371410",
             "identifier": [
              {
               "linktext": "National Library of Australia digitised item. MS 8355 copy",
               "linktype": "fulltext",
               "type": "url",
               "value": "https://nla.gov.au/nla.obj-335821693"
              },
              {
               "linktype": "thumbnail",
               "type": "url",
               "value": "https://nla.gov.au/nla.obj-335821693-t"
              }
             ],
             "issued": "1930-1979",
             "relevance": {
              "score": "9.360001",
              "value": "very relevant"
             },
             "title": "Papers of Gerald Toogood",
             "troveUrl": "https://trove.nla.gov.au/work/10371410",
             "type": [
              "Unpublished"
             ],
             "url": "/work/10371410",
             "versionCount": 1
            },
            {
             "contributor": [
              "Hunter Catchment Management Trust (N.S.W.)"
             ],
             "hasCorrections": "N",
             "holdingsCount": 3,
             "id": "10371486",
             "identifier": [
              {
               "linktext": "Archived version",
               "linktype": "restricted",
               "type": "url",
               "value": "http://nla.gov.au/nla.arc-39583"
              }
             ],
             "issued": 2001,
             "relevance": {
              "score": "9.360001",
              "value": "very relevant"
             },
             "title": "Hunter Catchment Management Trust",
             "troveUrl": "https://trove.nla.gov.au/work/10371486",
             "type": [
              "Published"
             ],
             "url": "/work/10371486",
             "versionCount": 1
            },
            {
             "contributor": [
              "Farmsafe Australia"
             ],
             "hasCorrections": "N",
             "holdingsCount": 3,
             "id": "10373311",
             "identifier": [
              {
               "linktext": "Publisher site",
               "linktype": "restricted",
               "type": "url",
               "value": "http://www.farmsafe.org.au/index.php?id=9"
              }
             ],
             "relevance": {
              "score": "9.360001",
              "value": "very relevant"
             },
             "title": "Child safety on farms",
             "troveUrl": "https://trove.nla.gov.au/work/10373311",
             "type": [
              "Published"
             ],
             "url": "/work/10373311",
             "versionCount": 1
            },
            {
             "contributor": [
              "Honeysuckle Development Corporation"
             ],
             "hasCorrections": "N",
             "holdingsCount": 3,
             "id": "10433333",
             "identifier": [
              {
               "linktext": "Publisher site",
               "linktype": "restricted",
               "type": "url",
               "value": "http://www.honeysuckle.net/overview.html"
              }
             ],
             "issued": 2003,
             "relevance": {
              "score": "9.360001",
              "value": "very relevant"
             },
             "title": "Honeysuckle Development Corporation",
             "troveUrl": "https://trove.nla.gov.au/work/10433333",
             "type": [
              "Published",
              "Government publication"
             ],
             "url": "/work/10433333",
             "versionCount": 1
            },
            {
             "contributor": [
              "University of Sydney. Waterski and Wakeboard Club"
             ],
             "hasCorrections": "N",
             "holdingsCount": 3,
             "id": "10507387",
             "identifier": [
              {
               "linktext": "Archived version",
               "linktype": "restricted",
               "type": "url",
               "value": "http://nla.gov.au/nla.arc-32697"
              }
             ],
             "issued": 2002,
             "relevance": {
              "score": "9.360001",
              "value": "very relevant"
             },
             "title": "University of Sydney Waterski and Wakeboard Club",
             "troveUrl": "https://trove.nla.gov.au/work/10507387",
             "type": [
              "Archived website",
              "Published"
             ],
             "url": "/work/10507387",
             "versionCount": 2
            },
            {
             "contributor": [
              "Monks, Peter"
             ],
             "hasCorrections": "N",
             "holdingsCount": 3,
             "id": "10508293",
             "identifier": [
              {
               "linktext": "Publisher site",
               "linktype": "restricted",
               "type": "url",
               "value": "http://www.sydneyclimbing.com/index.html"
              }
             ],
             "issued": 2002,
             "relevance": {
              "score": "9.360001",
              "value": "very relevant"
             },
             "title": "Sun, surf and sandstone : a rockclimber's guide to Sydney / edited by Peter Monks",
             "troveUrl": "https://trove.nla.gov.au/work/10508293",
             "type": [
              "Archived website",
              "Published"
             ],
             "url": "/work/10508293",
             "versionCount": 2
            },
            {
             "contributor": [
              "New South Wales. Office of the Children's Guardian"
             ],
             "hasCorrections": "N",
             "holdingsCount": 3,
             "id": "10509711",
             "identifier": [
              {
               "linktext": "Archived site",
               "linktype": "restricted",
               "type": "url",
               "value": "http://nla.gov.au/nla.arc-40133"
              }
             ],
             "issued": 2001,
             "relevance": {
              "score": "9.360001",
              "value": "very relevant"
             },
             "title": "NSW Office of the Children's Guardian",
             "troveUrl": "https://trove.nla.gov.au/work/10509711",
             "type": [
              "Government publication",
              "Archived website",
              "Published"
             ],
             "url": "/work/10509711",
             "versionCount": 2
            },
            {
             "contributor": [
              "New South Wales. Department of Corrective Services"
             ],
             "hasCorrections": "N",
             "holdingsCount": 3,
             "id": "10510069",
             "identifier": [
              {
               "linktext": "Archived version",
               "linktype": "restricted",
               "type": "url",
               "value": "http://nla.gov.au/nla.arc-40532"
              }
             ],
             "issued": 1998,
             "relevance": {
              "score": "9.360001",
              "value": "very relevant"
             },
             "title": "NSW Department of Corrective Services",
             "troveUrl": "https://trove.nla.gov.au/work/10510069",
             "type": [
              "Government publication",
              "Archived website",
              "Published"
             ],
             "url": "/work/10510069",
             "versionCount": 2
            },
            {
             "hasCorrections": "N",
             "holdingsCount": 1,
             "id": "10544890",
             "identifier": [
              {
               "linktext": "National Library of Australia digitised item",
               "linktype": "fulltext",
               "type": "url",
               "value": "http://nla.gov.au/nla.obj-277152603"
              },
              {
               "linktype": "thumbnail",
               "type": "url",
               "value": "http://nla.gov.au/nla.obj-277152603-t"
              }
             ],
             "issued": "1863-1925",
             "relevance": {
              "score": "9.360001",
              "value": "very relevant"
             },
             "title": "Collection of promissory notes from remote areas of Australia",
             "troveUrl": "https://trove.nla.gov.au/work/10544890",
             "type": [
              "Unpublished"
             ],
             "url": "/work/10544890",
             "versionCount": 1
            },
            {
             "contributor": [
              "Marks, Percy J. (Percy Joseph)"
             ],
             "hasCorrections": "N",
             "holdingsCount": 1,
             "id": "10544923",
             "identifier": [
              {
               "linktext": "National Library of Australia digitised item",
               "linktype": "fulltext",
               "type": "url",
               "value": "http://nla.gov.au/nla.obj-286511151"
              },
              {
               "linktype": "thumbnail",
               "type": "url",
               "value": "http://nla.gov.au/nla.obj-286511151-t"
              }
             ],
             "issued": "1810-1930",
             "relevance": {
              "score": "9.360001",
              "value": "very relevant"
             },
             "title": "Album of paper currency items",
             "troveUrl": "https://trove.nla.gov.au/work/10544923",
             "type": [
              "Unpublished"
             ],
             "url": "/work/10544923",
             "versionCount": 1
            },
            {
             "contributor": [
              "Kerry, Charles H. (Charles Henry), 1857-1928"
             ],
             "hasCorrections": "N",
             "holdingsCount": 4,
             "id": "10594055",
             "identifier": [
              {
               "linktext": "Publisher site",
               "linktype": "restricted",
               "type": "url",
               "value": "http://projects.powerhousemuseum.com/tyrrell"
              }
             ],
             "issued": 2004,
             "relevance": {
              "score": "9.360001",
              "value": "very relevant"
             },
             "title": "Tyrrell Photographic Collection Online",
             "troveUrl": "https://trove.nla.gov.au/work/10594055",
             "type": [
              "Archived website",
              "Published"
             ],
             "url": "/work/10594055",
             "versionCount": 2
            },
            {
             "contributor": [
              "Powerhouse Museum"
             ],
             "hasCorrections": "N",
             "holdingsCount": 4,
             "id": "10598050",
             "identifier": [
              {
               "linktext": "Publisher site",
               "linktype": "restricted",
               "type": "url",
               "value": "http://www.powerhousemuseum.com/sydney2000games"
              }
             ],
             "issued": 2004,
             "relevance": {
              "score": "9.360001",
              "value": "very relevant"
             },
             "title": "Sydney 2000 Games Collection / PowerHouse Museum",
             "troveUrl": "https://trove.nla.gov.au/work/10598050",
             "type": [
              "Archived website",
              "Published"
             ],
             "url": "/work/10598050",
             "versionCount": 2
            },
            {
             "contributor": [
              "South Sydney Development Corporation"
             ],
             "hasCorrections": "N",
             "holdingsCount": 3,
             "id": "10683105",
             "identifier": [
              {
               "linktext": "Publisher site",
               "linktype": "restricted",
               "type": "url",
               "value": "http://www.greensquare.com.au/default.asp"
              }
             ],
             "issued": 2000,
             "relevance": {
              "score": "9.360001",
              "value": "very relevant"
             },
             "title": "South Sydney Development Corporation",
             "troveUrl": "https://trove.nla.gov.au/work/10683105",
             "type": [
              "Published",
              "Government publication"
             ],
             "url": "/work/10683105",
             "versionCount": 1
            },
            {
             "contributor": [
              "Newcastle Industrial Heritage Association"
             ],
             "hasCorrections": "N",
             "holdingsCount": 3,
             "id": "10688631",
             "identifier": [
              {
               "linktext": "Archived site",
               "linktype": "restricted",
               "type": "url",
               "value": "http://nla.gov.au/nla.arc-30337"
              }
             ],
             "issued": 2000,
             "relevance": {
              "score": "9.360001",
              "value": "very relevant"
             },
             "title": "Newcastle Industrial Heritage Association Inc",
             "troveUrl": "https://trove.nla.gov.au/work/10688631",
             "type": [
              "Published"
             ],
             "url": "/work/10688631",
             "versionCount": 1
            }
           ]
          }
         },
         {
          "name": "picture",
          "records": {
           "n": "20",
           "next": "/result?q=+&encoding=json&zone=picture&s=AoIIQRXCkCpzdTEwMjg0NDEw",
           "nextStart": "AoIIQRXCkCpzdTEwMjg0NDEw",
           "s": "*",
           "total": "5618995",
           "work": [
            {
             "contributor": [
              "HRRC"
             ],
             "hasCorrections": "N",
             "holdingsCount": 1,
             "id": "10000905",
             "identifier": [
              {
               "linktext": "274058PD: Milk bar, 1937",
               "linktype": "fulltext",
               "type": "url",
               "value": "http://www.slwa.wa.gov.au/images/pd274/274058PD.jpg"
              },
              {
               "linktype": "thumbnail",
               "type": "url",
               "value": "http://www.slwa.wa.gov.au/images/pd274/274058PD.png"
              }
             ],
             "issued": 1937,
             "relevance": {
              "score": "9.360001",
              "value": "very relevant"
             },
             "title": "South-west 'Milk bar'",
             "troveUrl": "https://trove.nla.gov.au/work/10000905",
             "type": [
              "Photograph"
             ],
             "url": "/work/10000905",
             "versionCount": 1
            },
            {
             "contributor": [
              "HRRC"
             ],
             "hasCorrections": "N",
             "holdingsCount": 1,
             "id": "10000948",
             "identifier": [
              {
               "linktext": "274041PD: The Quality - handy foods, confectionery, 1937",
               "linktype": "fulltext",
               "type": "url",
               "value": "http://www.slwa.wa.gov.au/images/pd274/274041PD.jpg"
              },
              {
               "linktype": "thumbnail",
               "type": "url",
               "value": "http://www.slwa.wa.gov.au/images/pd274/274041PD.png"
              }
             ],
             "issued": 1937,
             "relevance": {
              "score": "9.360001",
              "value": "very relevant"
             },
             "title": "South-west shop 'The Quality'",
             "troveUrl": "https://trove.nla.gov.au/work/10000948",
             "type": [
              "Photograph"
             ],
             "url": "/work/10000948",
             "versionCount": 1
            },
            {
             "contributor": [
              "Le Dawn Studios"
             ],
             "hasCorrections": "N",
             "holdingsCount": 1,
             "id": "10040481",
             "identifier": [
              {
               "linktype": "fulltext",
               "type": "url",
               "value": "http://handle.slv.vic.gov.au/10381/153040"
              },
              {
               "linktype": "thumbnail",
               "type": "url",
               "value": "http://digital.slv.vic.gov.au/webclient/DeliveryManager?pid=2435966"
              }
             ],
             "issued": 1970,
             "relevance": {
              "score": "9.360001",
              "value": "very relevant"
             },
             "title": "[Sporting trophies, Vic.]",
             "troveUrl": "https://trove.nla.gov.au/work/10040481",
             "type": [
              "Photograph"
             ],
             "url": "/work/10040481",
             "versionCount": 1
            },
            {
             "contributor": [
              "Le Dawn Studios"
             ],
             "hasCorrections": "N",
             "holdingsCount": 1,
             "id": "10048656",
             "identifier": [
              {
               "linktype": "fulltext",
               "type": "url",
               "value": "http://handle.slv.vic.gov.au/10381/152974"
              },
              {
               "linktype": "thumbnail",
               "type": "url",
               "value": "http://digital.slv.vic.gov.au/webclient/DeliveryManager?pid=2435900"
              }
             ],
             "issued": 1970,
             "relevance": {
              "score": "9.360001",
              "value": "very relevant"
             },
             "title": "Squash",
             "troveUrl": "https://trove.nla.gov.au/work/10048656",
             "type": [
              "Photograph"
             ],
             "url": "/work/10048656",
             "versionCount": 1
            },
            {
             "contributor": [
              "Le Dawn Studios"
             ],
             "hasCorrections": "N",
             "holdingsCount": 1,
             "id": "10048714",
             "identifier": [
              {
               "linktype": "fulltext",
               "type": "url",
               "value": "http://handle.slv.vic.gov.au/10381/153284"
              },
              {
               "linktype": "thumbnail",
               "type": "url",
               "value": "http://digital.slv.vic.gov.au/webclient/DeliveryManager?pid=2440339"
              }
             ],
             "issued": 1970,
             "relevance": {
              "score": "9.360001",
              "value": "very relevant"
             },
             "title": "Squash (men's)",
             "troveUrl": "https://trove.nla.gov.au/work/10048714",
             "type": [
              "Photograph"
             ],
             "url": "/work/10048714",
             "versionCount": 1
            },
            {
             "contributor": [
              "Le Dawn Studios"
             ],
             "hasCorrections": "N",
             "holdingsCount": 1,
             "id": "10048745",
             "identifier": [
              {
               "linktype": "fulltext",
               "type": "url",
               "value": "http://handle.slv.vic.gov.au/10381/153374"
              },
              {
               "linktype": "thumbnail",
               "type": "url",
               "value": "http://digital.slv.vic.gov.au/webclient/DeliveryManager?pid=2440792"
              }
             ],
             "issued": 1970,
             "relevance": {
              "score": "9.360001",
              "value": "very relevant"
             },
             "title": "Squash (womens)",
             "troveUrl": "https://trove.nla.gov.au/work/10048745",
             "type": [
              "Photograph"
             ],
             "url": "/work/10048745",
             "versionCount": 1
            },
            {
             "contributor": [
              "HRRC"
             ],
             "hasCorrections": "N",
             "holdingsCount": 1,
             "id": "10061304",
             "identifier": [
              {
               "linktext": "St Columba's Roman Catholic Church, South Perth",
               "linktype": "fulltext",
               "type": "url",
               "value": "http://www.slwa.wa.gov.au/images/pd274/274007PD.jpg"
              },
              {
               "linktype": "thumbnail",
               "type": "url",
               "value": "http://www.slwa.wa.gov.au/images/pd274/274007PD.png"
              }
             ],
             "issued": 1960,
             "relevance": {
              "score": "9.360001",
              "value": "very relevant"
             },
             "title": "St Columba's Roman Catholic Church, South Perth",
             "troveUrl": "https://trove.nla.gov.au/work/10061304",
             "type": [
              "Photograph"
             ],
             "url": "/work/10061304",
             "versionCount": 1
            },
            {
             "contributor": [
              "Beaumont, W. H"
             ],
             "hasCorrections": "N",
             "holdingsCount": 1,
             "id": "10061874",
             "identifier": [
              {
               "linktext": "National Library of Australia digitised item",
               "linktype": "fulltext",
               "type": "url",
               "value": "http://nla.gov.au/nla.obj-140416791"
              },
              {
               "linktype": "thumbnail",
               "type": "url",
               "value": "http://nla.gov.au/nla.obj-140416791-t"
              }
             ],
             "issued": 1850,
             "relevance": {
              "score": "9.360001",
              "value": "very relevant"
             },
             "title": "Collection of four silhouette portraits of Captain Charles Clark and his family",
             "troveUrl": "https://trove.nla.gov.au/work/10061874",
             "type": [
              "Art work"
             ],
             "url": "/work/10061874",
             "versionCount": 1
            },
            {
             "contributor": [
              "Alec-Tweedie, Mrs. (Ethel), -1940"
             ],
             "hasCorrections": "N",
             "holdingsCount": 1,
             "id": "10061895",
             "identifier": [
              {
               "linktext": "National Library of Australia digitised item",
               "linktype": "fulltext",
               "type": "url",
               "value": "http://nla.gov.au/nla.obj-140417454"
              },
              {
               "linktype": "thumbnail",
               "type": "url",
               "value": "http://nla.gov.au/nla.obj-140417454-t"
              }
             ],
             "issued": "1919-1937",
             "relevance": {
              "score": "9.360001",
              "value": "very relevant"
             },
             "title": "[Collection of six watercolours] Alec-Tweedie",
             "troveUrl": "https://trove.nla.gov.au/work/10061895",
             "type": [
              "Art work"
             ],
             "url": "/work/10061895",
             "versionCount": 1
            },
            {
             "contributor": [
              "Jatlick, Andre"
             ],
             "hasCorrections": "N",
             "holdingsCount": 1,
             "id": "10061958",
             "identifier": [
              {
               "linktext": "National Library of Australia digitised item",
               "linktype": "fulltext",
               "type": "url",
               "value": "http://nla.gov.au/nla.obj-140417639"
              },
              {
               "linktype": "thumbnail",
               "type": "url",
               "value": "http://nla.gov.au/nla.obj-140417639-t"
              }
             ],
             "issued": 1978,
             "relevance": {
              "score": "9.360001",
              "value": "very relevant"
             },
             "title": "Olympics, Moscow, 1980 / hand printed posters by graphic artist Andre Jatlick",
             "troveUrl": "https://trove.nla.gov.au/work/10061958",
             "type": [
              "Poster, chart, other"
             ],
             "url": "/work/10061958",
             "versionCount": 1
            },
            {
             "contributor": [
              "Henty, Wilf, 1882-1941"
             ],
             "hasCorrections": "N",
             "holdingsCount": 1,
             "id": "10068195",
             "identifier": [
              {
               "linktype": "fulltext",
               "type": "url",
               "value": "http://handle.slv.vic.gov.au/10381/34012"
              },
              {
               "linktype": "thumbnail",
               "type": "url",
               "value": "http://digital.slv.vic.gov.au/webclient/DeliveryManager?pid=250115"
              }
             ],
             "issued": "1901-1940",
             "relevance": {
              "score": "9.360001",
              "value": "very relevant"
             },
             "title": "St. John's ambulance scarf signed \"E. Henty\"",
             "troveUrl": "https://trove.nla.gov.au/work/10068195",
             "type": [
              "Photograph"
             ],
             "url": "/work/10068195",
             "versionCount": 1
            },
            {
             "contributor": [
              "Le Dawn Studios"
             ],
             "hasCorrections": "N",
             "holdingsCount": 1,
             "id": "10102158",
             "identifier": [
              {
               "linktype": "fulltext",
               "type": "url",
               "value": "http://handle.slv.vic.gov.au/10381/153206"
              },
              {
               "linktype": "thumbnail",
               "type": "url",
               "value": "http://digital.slv.vic.gov.au/webclient/DeliveryManager?pid=2437748"
              }
             ],
             "issued": 1970,
             "relevance": {
              "score": "9.360001",
              "value": "very relevant"
             },
             "title": "Standish Street, Myrtleford",
             "troveUrl": "https://trove.nla.gov.au/work/10102158",
             "type": [
              "Photograph"
             ],
             "url": "/work/10102158",
             "versionCount": 1
            },
            {
             "contributor": [
              "Illustrations Ltd"
             ],
             "hasCorrections": "N",
             "holdingsCount": 1,
             "id": "10105704",
             "identifier": [
              {
               "linktext": "Star Garage, Mt. Lawley, 1938",
               "linktype": "fulltext",
               "type": "url",
               "value": "http://www.slwa.wa.gov.au/images/wepon/architecture/004097d.jpg"
              },
              {
               "linktype": "thumbnail",
               "type": "url",
               "value": "http://www.slwa.wa.gov.au/images/wepon/architecture/004097d.png"
              }
             ],
             "issued": 1938,
             "relevance": {
              "score": "9.360001",
              "value": "very relevant"
             },
             "title": "Star Garage, on the south east corner of the Walcott and Beaufort Streets intersection, Mt. Lawley, 5 Sept. 1938",
             "troveUrl": "https://trove.nla.gov.au/work/10105704",
             "type": [
              "Photograph"
             ],
             "url": "/work/10105704",
             "versionCount": 1
            },
            {
             "contributor": [
              "Tacon, Dave, 1976-"
             ],
             "hasCorrections": "N",
             "holdingsCount": 1,
             "id": "101078588",
             "identifier": [
              {
               "linktext": "National Library of Australia digitised item",
               "linktype": "fulltext",
               "type": "url",
               "value": "http://nla.gov.au/nla.obj-152239395"
              },
              {
               "linktype": "thumbnail",
               "type": "url",
               "value": "http://nla.gov.au/nla.obj-152239395-t"
              }
             ],
             "issued": 2011,
             "relevance": {
              "score": "9.360001",
              "value": "very relevant"
             },
             "title": "Women in rural Victoria, 2011 / Dave Tacon",
             "troveUrl": "https://trove.nla.gov.au/work/101078588",
             "type": [
              "Photograph"
             ],
             "url": "/work/101078588",
             "versionCount": 1
            },
            {
             "contributor": [
              "Henty, Wilf, 1882-1941"
             ],
             "hasCorrections": "N",
             "holdingsCount": 1,
             "id": "10140063",
             "identifier": [
              {
               "linktype": "fulltext",
               "type": "url",
               "value": "http://handle.slv.vic.gov.au/10381/38700"
              },
              {
               "linktype": "thumbnail",
               "type": "url",
               "value": "http://digital.slv.vic.gov.au/webclient/DeliveryManager?pid=252880"
              }
             ],
             "issued": "1901-1940",
             "relevance": {
              "score": "9.360001",
              "value": "very relevant"
             },
             "title": "Still life - flowering gum",
             "troveUrl": "https://trove.nla.gov.au/work/10140063",
             "type": [
              "Photograph"
             ],
             "url": "/work/10140063",
             "versionCount": 1
            },
            {
             "contributor": [
              "Henty, Wilf, 1882-1941"
             ],
             "hasCorrections": "N",
             "holdingsCount": 1,
             "id": "10140172",
             "identifier": [
              {
               "linktype": "fulltext",
               "type": "url",
               "value": "http://handle.slv.vic.gov.au/10381/34032"
              },
              {
               "linktype": "thumbnail",
               "type": "url",
               "value": "http://digital.slv.vic.gov.au/webclient/DeliveryManager?pid=250135"
              }
             ],
             "issued": "1901-1940",
             "relevance": {
              "score": "9.360001",
              "value": "very relevant"
             },
             "title": "Still life, flowers",
             "troveUrl": "https://trove.nla.gov.au/work/10140172",
             "type": [
              "Photograph"
             ],
             "url": "/work/10140172",
             "versionCount": 1
            },
            {
             "contributor": [
              "Le Dawn Studios"
             ],
             "hasCorrections": "N",
             "holdingsCount": 1,
             "id": "10171001",
             "identifier": [
              {
               "linktype": "fulltext",
               "type": "url",
               "value": "http://handle.slv.vic.gov.au/10381/153496"
              },
              {
               "linktype": "thumbnail",
               "type": "url",
               "value": "http://digital.slv.vic.gov.au/webclient/DeliveryManager?pid=2443513"
              }
             ],
             "issued": 1970,
             "relevance": {
              "score": "9.360001",
              "value": "very relevant"
             },
             "title": "Student pop group [Wangaratta, Vic.]",
             "troveUrl": "https://trove.nla.gov.au/work/10171001",
             "type": [
              "Photograph"
             ],
             "url": "/work/10171001",
             "versionCount": 1
            },
            {
             "contributor": [
              "HRRC"
             ],
             "hasCorrections": "N",
             "holdingsCount": 1,
             "id": "10176563",
             "identifier": [
              {
               "linktext": "Students outside Albany State School",
               "linktype": "fulltext",
               "type": "url",
               "value": "http://purl.slwa.wa.gov.au/slwa_b1947262_1"
              },
              {
               "linktype": "thumbnail",
               "type": "url",
               "value": "http://purl.slwa.wa.gov.au/slwa_b1947262_1.png"
              }
             ],
             "issued": 1880,
             "relevance": {
              "score": "9.360001",
              "value": "very relevant"
             },
             "title": "Students outside Albany State School",
             "troveUrl": "https://trove.nla.gov.au/work/10176563",
             "type": [
              "Photograph"
             ],
             "url": "/work/10176563",
             "versionCount": 1
            },
            {
             "contributor": [
              "Thomas, Christine"
             ],
             "hasCorrections": "N",
             "holdingsCount": 1,
             "id": "10270515",
             "identifier": [
              {
               "linktext": "National Library of Australia digitised item",
               "linktype": "fulltext",
               "type": "url",
               "value": "http://nla.gov.au/nla.obj-148521075"
              },
              {
               "linktype": "thumbnail",
               "type": "url",
               "value": "http://nla.gov.au/nla.obj-148521075-t"
              }
             ],
             "issued": 2003,
             "relevance": {
              "score": "9.360001",
              "value": "very relevant"
             },
             "title": "Canberra bushfires, 2003 / Christine Thomas and Simon Mockler",
             "troveUrl": "https://trove.nla.gov.au/work/10270515",
             "type": [
              "Government publication",
              "Photograph"
             ],
             "url": "/work/10270515",
             "versionCount": 1
            },
            {
             "contributor": [
              "Stanley R. Beer Studio (Sydney, N.S.W.)"
             ],
             "hasCorrections": "N",
             "holdingsCount": 1,
             "id": "10284410",
             "identifier": [
              {
               "linktext": "National Library of Australia digitised item",
               "linktype": "fulltext",
               "type": "url",
               "value": "http://nla.gov.au/nla.obj-148692292"
              },
              {
               "linktype": "thumbnail",
               "type": "url",
               "value": "http://nla.gov.au/nla.obj-148692292-t"
              }
             ],
             "issued": 1917,
             "relevance": {
              "score": "9.360001",
              "value": "very relevant"
             },
             "title": "Strike-breakers at Taronga Zoo, Sydney, 1917 / Stanley R. Beer Studio",
             "troveUrl": "https://trove.nla.gov.au/work/10284410",
             "type": [
              "Photograph"
             ],
             "url": "/work/10284410",
             "versionCount": 1
            }
           ]
          }
         },
         {
          "name": "article",
          "records": {
           "n": "20",
           "next": "/result?q=+&encoding=json&zone=article&s=AoIIQb5wPCpzdTE2OTc0NTc1",
           "nextStart": "AoIIQb5wPCpzdTE2OTc0NTc1",
           "s": "*",
           "total": "13406104",
           "work": [
            {
             "contributor": [
              "Australia"
             ],
             "hasCorrections": "N",
             "holdingsCount": 121,
             "id": "6501894",
             "identifier": [
              {
               "linktext": "Access full text (AUSTLII)",
               "linktype": "restricted",
               "type": "url",
               "value": "http://www.austlii.edu.au/au/legis/cth/consol_act/tpa1974149"
              }
             ],
             "issued": "1900-2022",
             "relevance": {
              "score": "29.800663",
              "value": "very relevant"
             },
             "title": "Annotated Trade Practices Act / by Russell V. Miller",
             "troveUrl": "https://trove.nla.gov.au/work/6501894",
             "type": [
              "Book",
              "Book/Illustrated",
              "Government publication",
              "Periodical",
              "Periodical/Journal, magazine, other"
             ],
             "url": "/work/6501894",
             "versionCount": 145
            },
            {
             "contributor": [
              "Australian Bureau of Statistics"
             ],
             "hasCorrections": "N",
             "holdingsCount": 62,
             "id": "5446211",
             "identifier": [
              {
               "linktype": "restricted",
               "type": "url",
               "value": "http://www.abs.gov.au/ausstats/abs@.nsf/cat/2016.5"
              }
             ],
             "issued": "1997-2023",
             "relevance": {
              "score": "29.523655",
              "value": "very relevant"
             },
             "title": "Census of population and housing : selected education and labour force characteristics, Australia, 2001 / Australian Bureau of Statistics",
             "troveUrl": "https://trove.nla.gov.au/work/5446211",
             "type": [
              "Government publication",
              "Book",
              "Book/Illustrated",
              "Periodical",
              "Periodical/Journal, magazine, other"
             ],
             "url": "/work/5446211",
             "versionCount": 83
            },
            {
             "contributor": [
              "Delbridge, Arthur, 1921-2014"
             ],
             "hasCorrections": "N",
             "holdingsCount": 359,
             "id": "18855142",
             "identifier": [
              {
               "linktext": "Direct link to full text: http://openlibrary.org/details/macquariediction0000unse",
               "linktype": "restricted",
               "type": "url",
               "value": "http://openlibrary.org/books/OL17902419M"
              },
              {
               "linktype": "thumbnail",
               "type": "url",
               "value": "https://www.macquariedictionary.com.au/static/common/site_img/img/logo-yellow.png"
              }
             ],
             "issued": "1900-2023",
             "relevance": {
              "score": "28.714092",
              "value": "very relevant"
             },
             "title": "The Macquarie dictionary",
             "troveUrl": "https://trove.nla.gov.au/work/18855142",
             "type": [
              "Book",
              "Book/Illustrated",
              "Periodical",
              "Periodical/Journal, magazine, other"
             ],
             "url": "/work/18855142",
             "versionCount": 62
            },
            {
             "contributor": [
              "Lipton, P. (Phillip)"
             ],
             "hasCorrections": "N",
             "holdingsCount": 115,
             "id": "5618472",
             "identifier": [
              {
               "linktext": "View online",
               "linktype": "restricted",
               "type": "url",
               "value": "https://ebookcentral.proquest.com/lib/anu/detail.action?docID=6108819"
              },
              {
               "linktype": "thumbnail",
               "type": "url",
               "value": "https://nla.gov.au/nla.obj-3010132300-t"
              }
             ],
             "issued": "1900-2023",
             "relevance": {
              "score": "27.540854",
              "value": "very relevant"
             },
             "title": "Understanding company law / Phillip Lipton, Abe Herzberg, Michelle Welsh",
             "troveUrl": "https://trove.nla.gov.au/work/5618472",
             "type": [
              "Book",
              "Book/Illustrated",
              "Audio book",
              "Article/Working paper",
              "Periodical"
             ],
             "url": "/work/5618472",
             "versionCount": 60
            },
            {
             "contributor": [
              "Bolles, Richard Nelson"
             ],
             "hasCorrections": "N",
             "holdingsCount": 254,
             "id": "5904908",
             "identifier": [
              {
               "linktext": "Direct link to full text: http://openlibrary.org/details/whatcolorisyourp1997boll",
               "linktype": "restricted",
               "type": "url",
               "value": "http://openlibrary.org/books/OL24223640M"
              }
             ],
             "issued": "1900-2023",
             "relevance": {
              "score": "27.276306",
              "value": "very relevant"
             },
             "title": "What color is your parachute? : a practical manual for job-hunters and career-changers / Richard N. Bolles",
             "troveUrl": "https://trove.nla.gov.au/work/5904908",
             "type": [
              "Book",
              "Book/Illustrated",
              "Audio book",
              "Periodical",
              "Periodical/Journal, magazine, other"
             ],
             "url": "/work/5904908",
             "versionCount": 157
            },
            {
             "contributor": [
              "Odgers, Stephen"
             ],
             "hasCorrections": "N",
             "holdingsCount": 106,
             "id": "6505592",
             "identifier": [
              {
               "linktext": "Click to View",
               "linktype": "restricted",
               "type": "url",
               "value": "https://ebookcentral.proquest.com/lib/qut/detail.action?docID=5452489"
              },
              {
               "linktype": "thumbnail",
               "type": "url",
               "value": "https://nla.gov.au/nla.obj-2995398810-t"
              }
             ],
             "issued": "1995-2023",
             "relevance": {
              "score": "27.238031",
              "value": "very relevant"
             },
             "title": "Uniform evidence law [Stephen Odgers]",
             "troveUrl": "https://trove.nla.gov.au/work/6505592",
             "type": [
              "Book",
              "Book/Illustrated",
              "Periodical",
              "Periodical/Journal, magazine, other"
             ],
             "url": "/work/6505592",
             "versionCount": 30
            },
            {
             "contributor": [
              "Organisation for Economic Co-operation and Development"
             ],
             "hasCorrections": "N",
             "holdingsCount": 77,
             "id": "6687083",
             "identifier": [
              {
               "linktext": "Google",
               "linktype": "restricted",
               "type": "url",
               "value": "http://books.google.com/books?id=9wa0AAAAIAAJ"
              }
             ],
             "issued": "1900-2023",
             "relevance": {
              "score": "27.074688",
              "value": "very relevant"
             },
             "title": "OECD economic surveys",
             "troveUrl": "https://trove.nla.gov.au/work/6687083",
             "type": [
              "Periodical",
              "Periodical/Journal, magazine, other",
              "Government publication",
              "Article/Report",
              "Article"
             ],
             "url": "/work/6687083",
             "versionCount": 130
            },
            {
             "contributor": [
              "Heydon, J. D. (John Dyson), 1943-"
             ],
             "hasCorrections": "N",
             "holdingsCount": 113,
             "id": "6101429",
             "identifier": [
              {
               "linktext": "Latest version via Butterworths Online",
               "linktype": "restricted",
               "type": "url",
               "value": "http://online.butterworths.com.au"
              },
              {
               "linktype": "thumbnail",
               "type": "url",
               "value": "https://nla.gov.au/nla.obj-3059344556-t"
              }
             ],
             "issued": "1978-2023",
             "relevance": {
              "score": "26.869904",
              "value": "very relevant"
             },
             "title": "Cross on evidence",
             "troveUrl": "https://trove.nla.gov.au/work/6101429",
             "type": [
              "Book",
              "Periodical",
              "Periodical/Journal, magazine, other"
             ],
             "url": "/work/6101429",
             "versionCount": 34
            },
            {
             "contributor": [
              "New South Wales. Department of Primary Industries"
             ],
             "hasCorrections": "N",
             "holdingsCount": 14,
             "id": "19390441",
             "identifier": [
              {
               "linktype": "restricted",
               "type": "url",
               "value": "http://www.dpi.nsw.gov.au/aboutus/resources/factsheets/primefacts/water-requirements-sheep-cattle"
              },
              {
               "linktype": "thumbnail",
               "type": "url",
               "value": "https://nla.gov.au/nla.obj-3009629778-t"
              }
             ],
             "issued": "2000-2022",
             "relevance": {
              "score": "26.37294",
              "value": "very relevant"
             },
             "title": "Primefact (Online)",
             "troveUrl": "https://trove.nla.gov.au/work/19390441",
             "type": [
              "Government publication",
              "Periodical",
              "Periodical/Journal, magazine, other",
              "Archived website"
             ],
             "url": "/work/19390441",
             "versionCount": 512
            },
            {
             "contributor": [
              "Ford, H. A. J. (Harold Arthur John), 1920-"
             ],
             "hasCorrections": "N",
             "holdingsCount": 102,
             "id": "5570415",
             "identifier": [
              {
               "linktext": "Full text available from LexisNexis AU",
               "linktype": "restricted",
               "type": "url",
               "value": "http://ezproxy.lib.monash.edu.au/login?url=http://www.lexisnexis.com/au/legal/browse?cuiuser=true&cui_ind=true&mode=cuimode&csi=267950"
              }
             ],
             "issued": "1900-2022",
             "relevance": {
              "score": "25.763916",
              "value": "very relevant"
             },
             "title": "Ford's Principles of corporations law / H.A.J. Ford, R.P. Austin, I.M. Ramsay",
             "troveUrl": "https://trove.nla.gov.au/work/5570415",
             "type": [
              "Book",
              "Periodical",
              "Periodical/Journal, magazine, other",
              "Audio book"
             ],
             "url": "/work/5570415",
             "versionCount": 30
            },
            {
             "contributor": [
              "Hanrahan, Pamela F"
             ],
             "hasCorrections": "N",
             "holdingsCount": 87,
             "id": "6371470",
             "identifier": [
              {
               "linktext": "National edeposit: Onsite at State Library Victoria",
               "linktype": "restricted",
               "type": "url",
               "value": "https://nla.gov.au/nla.obj-3047888816"
              },
              {
               "linktype": "thumbnail",
               "type": "url",
               "value": "https://nla.gov.au/nla.obj-3047888816-t"
              }
             ],
             "issued": "1900-2023",
             "relevance": {
              "score": "25.332912",
              "value": "very relevant"
             },
             "title": "Commercial applications of company law / Pamela Hanrahan, Ian Ramsay, Geof Stapledon",
             "troveUrl": "https://trove.nla.gov.au/work/6371470",
             "type": [
              "Book",
              "Book/Illustrated",
              "Periodical",
              "Periodical/Journal, magazine, other"
             ],
             "url": "/work/6371470",
             "versionCount": 39
            },
            {
             "contributor": [
              "Organisation for Economic Co-operation and Development"
             ],
             "hasCorrections": "N",
             "holdingsCount": 6,
             "id": "28125205",
             "identifier": [
              {
               "linktext": "OECDiLibrary",
               "linktype": "restricted",
               "type": "url",
               "value": "https://doi.org/10.1787/eco_surveys-swe-1989-en"
              }
             ],
             "issued": "1900-2023",
             "relevance": {
              "score": "24.714632",
              "value": "very relevant"
             },
             "title": "OECD economic surveys. Organisation for Economic Co-operation and Development",
             "troveUrl": "https://trove.nla.gov.au/work/28125205",
             "type": [
              "Book",
              "Book/Illustrated",
              "Government publication",
              "Periodical",
              "Periodical/Journal, magazine, other"
             ],
             "url": "/work/28125205",
             "versionCount": 113
            },
            {
             "contributor": [
              "Clarke, Marcus, 1846-1881"
             ],
             "hasCorrections": "N",
             "holdingsCount": 254,
             "id": "5269536",
             "identifier": [
              {
               "linktext": "National edeposit: Onsite at State Library of New South Wales",
               "linktype": "restricted",
               "type": "url",
               "value": "https://nla.gov.au/nla.obj-349574517"
              },
              {
               "linktype": "thumbnail",
               "type": "url",
               "value": "https://nla.gov.au/nla.obj-349574517-t"
              }
             ],
             "issued": "1800-2023",
             "relevance": {
              "score": "24.470175",
              "value": "very relevant"
             },
             "title": "For the term of his natural life / By Marcus Clarke",
             "troveUrl": "https://trove.nla.gov.au/work/5269536",
             "type": [
              "Book",
              "Book/Illustrated",
              "Audio book",
              "Book/Braille",
              "Sound"
             ],
             "url": "/work/5269536",
             "versionCount": 252
            },
            {
             "contributor": [
              "Peirson, Graham"
             ],
             "hasCorrections": "N",
             "holdingsCount": 88,
             "id": "5982462",
             "identifier": [
              {
               "linktext": "Ebook Library",
               "linktype": "restricted",
               "type": "url",
               "value": "http://public.eblib.com/choice/publicfullrecord.aspx?p=5471317"
              }
             ],
             "issued": "1972-2015",
             "relevance": {
              "score": "24.44933",
              "value": "very relevant"
             },
             "title": "Business finance / Graham Peirson, Rob Brown, Steve Easton, Peter Howard, Sean Pinder",
             "troveUrl": "https://trove.nla.gov.au/work/5982462",
             "type": [
              "Book",
              "Book/Illustrated",
              "Periodical",
              "Periodical/Journal, magazine, other"
             ],
             "url": "/work/5982462",
             "versionCount": 28
            },
            {
             "contributor": [
              "Gerard-Sharp, Lisa"
             ],
             "hasCorrections": "N",
             "holdingsCount": 146,
             "id": "9229592",
             "identifier": [
              {
               "linktext": "Direct link to full text: http://openlibrary.org/details/irelandgera00gera",
               "linktype": "restricted",
               "type": "url",
               "value": "http://openlibrary.org/books/OL24954594M"
              }
             ],
             "issued": "1995-2023",
             "relevance": {
              "score": "24.424358",
              "value": "very relevant"
             },
             "title": "Ireland / main contributors: Lisa Gerard-Sharp and Tim Perry",
             "troveUrl": "https://trove.nla.gov.au/work/9229592",
             "type": [
              "Book",
              "Book/Illustrated",
              "Periodical",
              "Periodical/Journal, magazine, other"
             ],
             "url": "/work/9229592",
             "versionCount": 62
            },
            {
             "contributor": [
              "Nine Film and Television Pty. Ltd."
             ],
             "hasCorrections": "N",
             "holdingsCount": 95,
             "id": "174416196",
             "issued": "1900-2017",
             "relevance": {
              "score": "24.27134",
              "value": "very relevant"
             },
             "title": "House husbands",
             "troveUrl": "https://trove.nla.gov.au/work/174416196",
             "type": [
              "Video",
              "Video/Captioned",
              "Periodical",
              "Periodical/Journal, magazine, other"
             ],
             "url": "/work/174416196",
             "versionCount": 28
            },
            {
             "contributor": [
              "McWhirter, Ross, 1925-1975"
             ],
             "hasCorrections": "N",
             "holdingsCount": 96,
             "id": "11609720",
             "identifier": [
              {
               "linktext": "Direct link to full text: http://openlibrary.org/details/guinnessbookofwo00mcwhrich",
               "linktype": "restricted",
               "type": "url",
               "value": "http://openlibrary.org/books/OL24208889M"
              }
             ],
             "issued": "1900-2023",
             "relevance": {
              "score": "24.139418",
              "value": "very relevant"
             },
             "title": "Guinness world records",
             "troveUrl": "https://trove.nla.gov.au/work/11609720",
             "type": [
              "Book",
              "Book/Illustrated",
              "Periodical",
              "Periodical/Journal, magazine, other",
              "Microform"
             ],
             "url": "/work/11609720",
             "versionCount": 128
            },
            {
             "contributor": [
              "Barron, Margaret"
             ],
             "hasCorrections": "N",
             "holdingsCount": 104,
             "id": "11056707",
             "identifier": [
              {
               "linktext": "National edeposit: Onsite at State Library of New South Wales",
               "linktype": "restricted",
               "type": "url",
               "value": "https://nla.gov.au/nla.obj-637070371"
              },
              {
               "linktype": "thumbnail",
               "type": "url",
               "value": "https://nla.gov.au/nla.obj-637070371-t"
              }
             ],
             "issued": "1900-2014",
             "relevance": {
              "score": "23.905182",
              "value": "very relevant"
             },
             "title": "Fundamentals of business law / M. L. Barron",
             "troveUrl": "https://trove.nla.gov.au/work/11056707",
             "type": [
              "Book",
              "Book/Illustrated",
              "Periodical",
              "Periodical/Journal, magazine, other"
             ],
             "url": "/work/11056707",
             "versionCount": 33
            },
            {
             "contributor": [
              "Singleton, Gwynneth, 1943-"
             ],
             "hasCorrections": "N",
             "holdingsCount": 113,
             "id": "6975567",
             "identifier": [
              {
               "linktext": "ProQuest Ebook Central",
               "linktype": "restricted",
               "type": "url",
               "value": "https://public.ebookcentral.proquest.com/choice/publicfullrecord.aspx?p=5220536"
              },
              {
               "linktype": "thumbnail",
               "type": "url",
               "value": "https://nla.gov.au/nla.obj-570360187-t"
              }
             ],
             "issued": "1900-2023",
             "relevance": {
              "score": "23.833727",
              "value": "very relevant"
             },
             "title": "Australian political institutions / Singleton ... [et al.]",
             "troveUrl": "https://trove.nla.gov.au/work/6975567",
             "type": [
              "Book",
              "Book/Illustrated",
              "Archived website",
              "Audio book",
              "Periodical"
             ],
             "url": "/work/6975567",
             "versionCount": 34
            },
            {
             "contributor": [
              "Fox, Mem, 1946-"
             ],
             "hasCorrections": "N",
             "holdingsCount": 190,
             "id": "16974575",
             "identifier": [
              {
               "linktext": "source",
               "linktype": "restricted",
               "type": "url",
               "value": "http://www.loc.gov/catdir/bios/har051/2001001957.html"
              }
             ],
             "issued": "1900-2023",
             "relevance": {
              "score": "23.804802",
              "value": "very relevant"
             },
             "title": "The magic hat / Mem Fox ; illustrated by Tricia Tusa",
             "troveUrl": "https://trove.nla.gov.au/work/16974575",
             "type": [
              "Book",
              "Book/Illustrated",
              "Book/Braille",
              "Periodical",
              "Periodical/Journal, magazine, other"
             ],
             "url": "/work/16974575",
             "versionCount": 23
            }
           ]
          }
         },
         {
          "name": "book",
          "records": {
           "n": "20",
           "next": "/result?q=+&encoding=json&zone=book&s=AoIIQgkjWilzdTYzNzE0NzA%3D",
           "nextStart": "AoIIQgkjWilzdTYzNzE0NzA=",
           "s": "*",
           "total": "18601177",
           "work": [
            {
             "contributor": [
              "Australia"
             ],
             "hasCorrections": "N",
             "holdingsCount": 121,
             "id": "6501894",
             "identifier": [
              {
               "linktext": "Access full text (AUSTLII)",
               "linktype": "restricted",
               "type": "url",
               "value": "http://www.austlii.edu.au/au/legis/cth/consol_act/tpa1974149"
              }
             ],
             "issued": "1900-2022",
             "relevance": {
              "score": "46.393806",
              "value": "very relevant"
             },
             "title": "Annotated Trade Practices Act / by Russell V. Miller",
             "troveUrl": "https://trove.nla.gov.au/work/6501894",
             "type": [
              "Book",
              "Book/Illustrated",
              "Government publication",
              "Periodical",
              "Periodical/Journal, magazine, other"
             ],
             "url": "/work/6501894",
             "versionCount": 145
            },
            {
             "contributor": [
              "Australian Bureau of Statistics"
             ],
             "hasCorrections": "N",
             "holdingsCount": 62,
             "id": "5446211",
             "identifier": [
              {
               "linktype": "restricted",
               "type": "url",
               "value": "http://www.abs.gov.au/ausstats/abs@.nsf/cat/2016.5"
              }
             ],
             "issued": "1997-2023",
             "relevance": {
              "score": "45.570816",
              "value": "very relevant"
             },
             "title": "Census of population and housing : selected education and labour force characteristics, Australia, 2001 / Australian Bureau of Statistics",
             "troveUrl": "https://trove.nla.gov.au/work/5446211",
             "type": [
              "Government publication",
              "Book",
              "Book/Illustrated",
              "Periodical",
              "Periodical/Journal, magazine, other"
             ],
             "url": "/work/5446211",
             "versionCount": 83
            },
            {
             "contributor": [
              "Delbridge, Arthur, 1921-2014"
             ],
             "hasCorrections": "N",
             "holdingsCount": 359,
             "id": "18855142",
             "identifier": [
              {
               "linktext": "Direct link to full text: http://openlibrary.org/details/macquariediction0000unse",
               "linktype": "restricted",
               "type": "url",
               "value": "http://openlibrary.org/books/OL17902419M"
              },
              {
               "linktype": "thumbnail",
               "type": "url",
               "value": "https://www.macquariedictionary.com.au/static/common/site_img/img/logo-yellow.png"
              }
             ],
             "issued": "1900-2023",
             "relevance": {
              "score": "43.219017",
              "value": "very relevant"
             },
             "title": "The Macquarie dictionary",
             "troveUrl": "https://trove.nla.gov.au/work/18855142",
             "type": [
              "Book",
              "Book/Illustrated",
              "Periodical",
              "Periodical/Journal, magazine, other"
             ],
             "url": "/work/18855142",
             "versionCount": 62
            },
            {
             "contributor": [
              "Isayama, Hajime, 1986-"
             ],
             "hasCorrections": "N",
             "holdingsCount": 127,
             "id": "170030854",
             "identifier": [
              {
               "linktext": "OverDrive",
               "linktype": "restricted",
               "type": "url",
               "value": "https://www.overdrive.com/search?q=E8F5E0FC-EC5B-4303-893D-DA325539B169"
              }
             ],
             "issued": "1900-2021",
             "relevance": {
              "score": "42.47059",
              "value": "very relevant"
             },
             "title": "Attack on Titan. Hajime Isayama ; translation, Ko Ransom ; lettering, Steve Wands",
             "troveUrl": "https://trove.nla.gov.au/work/170030854",
             "type": [
              "Book",
              "Book/Illustrated",
              "Published"
             ],
             "url": "/work/170030854",
             "versionCount": 217
            },
            {
             "contributor": [
              "Lipton, P. (Phillip)"
             ],
             "hasCorrections": "N",
             "holdingsCount": 115,
             "id": "5618472",
             "identifier": [
              {
               "linktext": "View online",
               "linktype": "restricted",
               "type": "url",
               "value": "https://ebookcentral.proquest.com/lib/anu/detail.action?docID=6108819"
              },
              {
               "linktype": "thumbnail",
               "type": "url",
               "value": "https://nla.gov.au/nla.obj-3010132300-t"
              }
             ],
             "issued": "1900-2023",
             "relevance": {
              "score": "39.95432",
              "value": "very relevant"
             },
             "title": "Understanding company law / Phillip Lipton, Abe Herzberg, Michelle Welsh",
             "troveUrl": "https://trove.nla.gov.au/work/5618472",
             "type": [
              "Book",
              "Book/Illustrated",
              "Audio book",
              "Article/Working paper",
              "Periodical"
             ],
             "url": "/work/5618472",
             "versionCount": 60
            },
            {
             "contributor": [
              "Bolles, Richard Nelson"
             ],
             "hasCorrections": "N",
             "holdingsCount": 254,
             "id": "5904908",
             "identifier": [
              {
               "linktext": "Direct link to full text: http://openlibrary.org/details/whatcolorisyourp1997boll",
               "linktype": "restricted",
               "type": "url",
               "value": "http://openlibrary.org/books/OL24223640M"
              }
             ],
             "issued": "1900-2023",
             "relevance": {
              "score": "39.24203",
              "value": "very relevant"
             },
             "title": "What color is your parachute? : a practical manual for job-hunters and career-changers / Richard N. Bolles",
             "troveUrl": "https://trove.nla.gov.au/work/5904908",
             "type": [
              "Book",
              "Book/Illustrated",
              "Audio book",
              "Periodical",
              "Periodical/Journal, magazine, other"
             ],
             "url": "/work/5904908",
             "versionCount": 157
            },
            {
             "contributor": [
              "Odgers, Stephen"
             ],
             "hasCorrections": "N",
             "holdingsCount": 106,
             "id": "6505592",
             "identifier": [
              {
               "linktext": "Click to View",
               "linktype": "restricted",
               "type": "url",
               "value": "https://ebookcentral.proquest.com/lib/qut/detail.action?docID=5452489"
              },
              {
               "linktype": "thumbnail",
               "type": "url",
               "value": "https://nla.gov.au/nla.obj-2995398810-t"
              }
             ],
             "issued": "1995-2023",
             "relevance": {
              "score": "39.139713",
              "value": "very relevant"
             },
             "title": "Uniform evidence law [Stephen Odgers]",
             "troveUrl": "https://trove.nla.gov.au/work/6505592",
             "type": [
              "Book",
              "Book/Illustrated",
              "Periodical",
              "Periodical/Journal, magazine, other"
             ],
             "url": "/work/6505592",
             "versionCount": 30
            },
            {
             "contributor": [
              "Kusaka, Hidenori"
             ],
             "hasCorrections": "N",
             "holdingsCount": 164,
             "id": "28442852",
             "identifier": [
              {
               "linktext": "Direct link to full text: http://openlibrary.org/details/pokmonadventures00hide",
               "linktype": "restricted",
               "type": "url",
               "value": "http://openlibrary.org/books/OL26331698M"
              }
             ],
             "issued": "1900-2021",
             "relevance": {
              "score": "38.230183",
              "value": "very relevant"
             },
             "title": "Pokémon adventures. story by Hidenori Kusaka ; art by Satoshi Yamamoto ; English adaptation, Bryant Turnage ; translation, Tetsuichiro Miyaki",
             "troveUrl": "https://trove.nla.gov.au/work/28442852",
             "type": [
              "Book",
              "Book/Illustrated",
              "Government publication",
              "Poster, chart, other"
             ],
             "url": "/work/28442852",
             "versionCount": 384
            },
            {
             "contributor": [
              "Heydon, J. D. (John Dyson), 1943-"
             ],
             "hasCorrections": "N",
             "holdingsCount": 113,
             "id": "6101429",
             "identifier": [
              {
               "linktext": "Latest version via Butterworths Online",
               "linktype": "restricted",
               "type": "url",
               "value": "http://online.butterworths.com.au"
              },
              {
               "linktype": "thumbnail",
               "type": "url",
               "value": "https://nla.gov.au/nla.obj-3059344556-t"
              }
             ],
             "issued": "1978-2023",
             "relevance": {
              "score": "38.165115",
              "value": "very relevant"
             },
             "title": "Cross on evidence",
             "troveUrl": "https://trove.nla.gov.au/work/6101429",
             "type": [
              "Book",
              "Periodical",
              "Periodical/Journal, magazine, other"
             ],
             "url": "/work/6101429",
             "versionCount": 34
            },
            {
             "contributor": [
              "Mashima, Hiro, 1977-"
             ],
             "hasCorrections": "N",
             "holdingsCount": 115,
             "id": "27516257",
             "identifier": [
              {
               "linktext": "OverDrive",
               "linktype": "restricted",
               "type": "url",
               "value": "https://www.overdrive.com/search?q=2A940337-705E-401A-B04B-1DE4E8BF0453"
              }
             ],
             "issued": "1900-2020",
             "relevance": {
              "score": "36.900093",
              "value": "very relevant"
             },
             "title": "Fairy tail. Hiro Mashima ; translation, William Flanagan ; lettering: AndWorld Design",
             "troveUrl": "https://trove.nla.gov.au/work/27516257",
             "type": [
              "Book",
              "Book/Illustrated",
              "Poster, chart, other"
             ],
             "url": "/work/27516257",
             "versionCount": 366
            },
            {
             "contributor": [
              "Clarke, Marcus, 1846-1881"
             ],
             "hasCorrections": "N",
             "holdingsCount": 254,
             "id": "5269536",
             "identifier": [
              {
               "linktext": "National edeposit: Onsite at State Library of New South Wales",
               "linktype": "restricted",
               "type": "url",
               "value": "https://nla.gov.au/nla.obj-349574517"
              },
              {
               "linktype": "thumbnail",
               "type": "url",
               "value": "https://nla.gov.au/nla.obj-349574517-t"
              }
             ],
             "issued": "1800-2023",
             "relevance": {
              "score": "36.641113",
              "value": "very relevant"
             },
             "title": "For the term of his natural life / By Marcus Clarke",
             "troveUrl": "https://trove.nla.gov.au/work/5269536",
             "type": [
              "Book",
              "Book/Illustrated",
              "Audio book",
              "Book/Braille",
              "Sound"
             ],
             "url": "/work/5269536",
             "versionCount": 252
            },
            {
             "contributor": [
              "Blabey, Aaron"
             ],
             "hasCorrections": "N",
             "holdingsCount": 258,
             "id": "192628911",
             "identifier": [
              {
               "linktext": "Direct link to full text: http://openlibrary.org/details/badguys0000blab",
               "linktype": "restricted",
               "type": "url",
               "value": "http://openlibrary.org/books/OL26212056M"
              }
             ],
             "issued": "1900-2022",
             "relevance": {
              "score": "35.923477",
              "value": "very relevant"
             },
             "title": "The bad guys. Aaron Blabey",
             "troveUrl": "https://trove.nla.gov.au/work/192628911",
             "type": [
              "Book",
              "Book/Illustrated"
             ],
             "url": "/work/192628911",
             "versionCount": 162
            },
            {
             "contributor": [
              "Horikoshi, Kōhei, 1986-"
             ],
             "hasCorrections": "N",
             "holdingsCount": 138,
             "id": "196688122",
             "identifier": [
              {
               "linktype": "restricted",
               "type": "url",
               "value": "https://hclib.overdrive.com/media/AD68CE49-9872-4E8B-BBE4-2E9AA721A4F0"
              }
             ],
             "issued": "2014-2021",
             "relevance": {
              "score": "35.8134",
              "value": "very relevant"
             },
             "title": "My hero academia. story & art, Kohei Horikoshi ; translation & English adaptation, Caleb Cook ; touch-up art & lettering, John Hunt",
             "troveUrl": "https://trove.nla.gov.au/work/196688122",
             "type": [
              "Book",
              "Book/Illustrated"
             ],
             "url": "/work/196688122",
             "versionCount": 157
            },
            {
             "contributor": [
              "Kubo, Tite"
             ],
             "hasCorrections": "N",
             "holdingsCount": 121,
             "id": "19581645",
             "identifier": [
              {
               "linktext": "OverDrive",
               "linktype": "restricted",
               "type": "url",
               "value": "https://www.overdrive.com/search?q=1676C1B2-B3FB-4D70-89B9-B0C62F9FDE1A"
              }
             ],
             "issued": "2001-2017",
             "relevance": {
              "score": "35.613667",
              "value": "very relevant"
             },
             "title": "Bleach. story and art by Tite Kubo ; [English adaptation, Lance Caselman ; translation, Joe Yamazaki]",
             "troveUrl": "https://trove.nla.gov.au/work/19581645",
             "type": [
              "Book",
              "Book/Illustrated",
              "Government publication"
             ],
             "url": "/work/19581645",
             "versionCount": 351
            },
            {
             "contributor": [
              "Ford, H. A. J. (Harold Arthur John), 1920-"
             ],
             "hasCorrections": "N",
             "holdingsCount": 102,
             "id": "5570415",
             "identifier": [
              {
               "linktext": "Full text available from LexisNexis AU",
               "linktype": "restricted",
               "type": "url",
               "value": "http://ezproxy.lib.monash.edu.au/login?url=http://www.lexisnexis.com/au/legal/browse?cuiuser=true&cui_ind=true&mode=cuimode&csi=267950"
              }
             ],
             "issued": "1900-2022",
             "relevance": {
              "score": "35.341774",
              "value": "very relevant"
             },
             "title": "Ford's Principles of corporations law / H.A.J. Ford, R.P. Austin, I.M. Ramsay",
             "troveUrl": "https://trove.nla.gov.au/work/5570415",
             "type": [
              "Book",
              "Periodical",
              "Periodical/Journal, magazine, other",
              "Audio book"
             ],
             "url": "/work/5570415",
             "versionCount": 30
            },
            {
             "contributor": [
              "McKenry, Rosemary"
             ],
             "hasCorrections": "N",
             "holdingsCount": 69,
             "id": "28270888",
             "issued": "1900-2010",
             "relevance": {
              "score": "35.27667",
              "value": "very relevant"
             },
             "title": "Australians / Rosemary McKenry & Bruce Mitchell",
             "troveUrl": "https://trove.nla.gov.au/work/28270888",
             "type": [
              "Book",
              "Book/Illustrated"
             ],
             "url": "/work/28270888",
             "versionCount": 92
            },
            {
             "contributor": [
              "Frank, Anne, 1929-1945"
             ],
             "hasCorrections": "N",
             "holdingsCount": 276,
             "id": "5529799",
             "identifier": [
              {
               "linktext": "Direct link to full text: http://openlibrary.org/details/annefrankstalesf00anne",
               "linktype": "restricted",
               "type": "url",
               "value": "http://openlibrary.org/books/OL7830222M"
              }
             ],
             "issued": "1947-2022",
             "relevance": {
              "score": "34.82782",
              "value": "very relevant"
             },
             "title": "The diary of a young girl / Anne Frank ; edited by Otto H. Frank and Mirjam Pressler ; translated by Susan Massotty",
             "troveUrl": "https://trove.nla.gov.au/work/5529799",
             "type": [
              "Book",
              "Book/Illustrated",
              "Audio book",
              "Book/Braille",
              "Book/Large print"
             ],
             "url": "/work/5529799",
             "versionCount": 323
            },
            {
             "contributor": [
              "Gotoge, Koyoharu, 1988-"
             ],
             "hasCorrections": "N",
             "holdingsCount": 108,
             "id": "232407033",
             "issued": "2016-2023",
             "relevance": {
              "score": "34.76393",
              "value": "very relevant"
             },
             "title": "Demon slayer = Kimetsu no yaiba / story and art by Koyoharu Gotouge ; translation, John Werry ; English adaptation, Stan! ; touch-up art & lettering, John Hunt",
             "troveUrl": "https://trove.nla.gov.au/work/232407033",
             "type": [
              "Book",
              "Book/Illustrated"
             ],
             "url": "/work/232407033",
             "versionCount": 194
            },
            {
             "contributor": [
              "Nickelodeon (Firm),"
             ],
             "hasCorrections": "N",
             "holdingsCount": 169,
             "id": "192874374",
             "identifier": [
              {
               "linktext": "Click here to view cover art",
               "linktype": "unknown",
               "type": "url",
               "value": "http://midwesttapes.com/images/movies/12050193.gif"
              }
             ],
             "issued": "2013-2022",
             "relevance": {
              "score": "34.439167",
              "value": "very relevant"
             },
             "title": "PAW patrol",
             "troveUrl": "https://trove.nla.gov.au/work/192874374",
             "type": [
              "Video",
              "Video/Captioned",
              "Book/Illustrated",
              "Book"
             ],
             "url": "/work/192874374",
             "versionCount": 62
            },
            {
             "contributor": [
              "Hanrahan, Pamela F"
             ],
             "hasCorrections": "N",
             "holdingsCount": 87,
             "id": "6371470",
             "identifier": [
              {
               "linktext": "National edeposit: Onsite at State Library Victoria",
               "linktype": "restricted",
               "type": "url",
               "value": "https://nla.gov.au/nla.obj-3047888816"
              },
              {
               "linktype": "thumbnail",
               "type": "url",
               "value": "https://nla.gov.au/nla.obj-3047888816-t"
              }
             ],
             "issued": "1900-2023",
             "relevance": {
              "score": "34.284523",
              "value": "very relevant"
             },
             "title": "Commercial applications of company law / Pamela Hanrahan, Ian Ramsay, Geof Stapledon",
             "troveUrl": "https://trove.nla.gov.au/work/6371470",
             "type": [
              "Book",
              "Book/Illustrated",
              "Periodical",
              "Periodical/Journal, magazine, other"
             ],
             "url": "/work/6371470",
             "versionCount": 39
            }
           ]
          }
         },
         {
          "name": "newspaper",
          "records": {
           "article": [
            {
             "category": "Article",
             "date": "1929-03-22",
             "heading": "GOULBURN",
             "id": "1000000",
             "page": 5,
             "pageSequence": 5,
             "relevance": {
              "score": "1.0",
              "value": "likely to be relevant"
             },
             "snippet": "A proposal by Ald. F. W. Yates, that a system of centralised slaughter was desirable for the provision of a wholesale supply of fresh meat to Goulburn,",
             "title": {
              "id": "11",
              "value": "The Canberra Times (ACT : 1926 - 1995)"
             },
             "troveUrl": "https://trove.nla.gov.au/ndp/del/article/1000000",
             "url": "/newspaper/1000000"
            },
            {
             "category": "Article",
             "date": "1909-11-18",
             "heading": "MT. LYELL TOURISTS ASSOCIATION. ZEEHAN, November 17.",
             "id": "10000000",
             "page": 5,
             "pageSequence": 5,
             "relevance": {
              "score": "1.0",
              "value": "likely to be relevant"
             },
             "snippet": "A deputation from the Mt. Lyell Tourist Association to-day waited on Mr. E. C. Driffield, superintendent engineer of the Mt. Lyell railways, and",
             "title": {
              "id": "10",
              "value": "The Mercury (Hobart, Tas. : 1860 - 1954)"
             },
             "troveUrl": "https://trove.nla.gov.au/ndp/del/article/10000000",
             "url": "/newspaper/10000000"
            },
            {
             "category": "Article",
             "date": "1914-03-06",
             "heading": "The Water Question. OFFICIAL CORRESPONDENCE.",
             "id": "100000001",
             "page": 2,
             "pageSequence": 2,
             "relevance": {
              "score": "1.0",
              "value": "likely to be relevant"
             },
             "snippet": "For some time past the water question has been so acute that the public bodies at Narandera and other centres along the river, and the residents",
             "title": {
              "id": "431",
              "value": "Narandera Argus and Riverina Advertiser (NSW : 1893 - 1953)"
             },
             "troveUrl": "https://trove.nla.gov.au/ndp/del/article/100000001",
             "url": "/newspaper/100000001"
            },
            {
             "category": "Article",
             "date": "1914-03-06",
             "heading": "Municipal Council",
             "id": "100000002",
             "page": 5,
             "pageSequence": 5,
             "relevance": {
              "score": "1.0",
              "value": "likely to be relevant"
             },
             "snippet": "The usual for[?]ightly meeting of the above was held on Monday evening, there being present his Worship the Mayor (Aid, Little) and Aid, Ma[?]bews,",
             "title": {
              "id": "431",
              "value": "Narandera Argus and Riverina Advertiser (NSW : 1893 - 1953)"
             },
             "troveUrl": "https://trove.nla.gov.au/ndp/del/article/100000002",
             "url": "/newspaper/100000002"
            },
            {
             "category": "Article",
             "date": "1909-11-18",
             "heading": "DISASTROUS FIRE. BRISBANE, November 17.",
             "id": "10000001",
             "page": 5,
             "pageSequence": 5,
             "relevance": {
              "score": "1.0",
              "value": "likely to be relevant"
             },
             "snippet": "Pittsworth, on the Darling Downs, was the scene of a disastrous fire this morning. It started in Poulton's boot shop, and quickly spread to three other",
             "title": {
              "id": "10",
              "value": "The Mercury (Hobart, Tas. : 1860 - 1954)"
             },
             "troveUrl": "https://trove.nla.gov.au/ndp/del/article/10000001",
             "url": "/newspaper/10000001"
            },
            {
             "category": "Article",
             "date": "1914-03-06",
             "heading": "Police Court. TUESDAY, MARCH 3R., 1914. (Before Messrs. Hassall and Lapthorne, J Ps.)",
             "id": "100000010",
             "page": 2,
             "pageSequence": 2,
             "relevance": {
              "score": "1.0",
              "value": "likely to be relevant"
             },
             "snippet": "Harold Stevens, a young man previously unknown in the district, was charged by Constable Williams, of Grong Grong, that on February",
             "title": {
              "id": "431",
              "value": "Narandera Argus and Riverina Advertiser (NSW : 1893 - 1953)"
             },
             "troveUrl": "https://trove.nla.gov.au/ndp/del/article/100000010",
             "url": "/newspaper/100000010"
            },
            {
             "category": "Article",
             "date": "1914-03-06",
             "heading": "Yanko Shire Council.",
             "id": "100000011",
             "page": 3,
             "pageSequence": 3,
             "relevance": {
              "score": "1.0",
              "value": "likely to be relevant"
             },
             "snippet": "The ordinary monthly meeting of the above, was bold at the Council Chambers on Tuesday, when there were present Crs. Austin",
             "title": {
              "id": "431",
              "value": "Narandera Argus and Riverina Advertiser (NSW : 1893 - 1953)"
             },
             "troveUrl": "https://trove.nla.gov.au/ndp/del/article/100000011",
             "url": "/newspaper/100000011"
            },
            {
             "category": "Article",
             "date": "1914-03-06",
             "heading": "Visit of Ladies' College of Health Representative.",
             "id": "100000012",
             "page": 2,
             "pageSequence": 2,
             "relevance": {
              "score": "1.0",
              "value": "likely to be relevant"
             },
             "snippet": "Mr. Williams, of the Head Office Staff of the Ladies' College of Health. 34 Oxford Street, Sydney, will visit Narandera, and may be consulted at Criterion",
             "title": {
              "id": "431",
              "value": "Narandera Argus and Riverina Advertiser (NSW : 1893 - 1953)"
             },
             "troveUrl": "https://trove.nla.gov.au/ndp/del/article/100000012",
             "url": "/newspaper/100000012"
            },
            {
             "category": "Article",
             "date": "1914-03-06",
             "heading": "LOCAL AND GENERAL.",
             "id": "100000017",
             "page": 2,
             "pageSequence": 2,
             "relevance": {
              "score": "1.0",
              "value": "likely to be relevant"
             },
             "snippet": "Methodist Church.—Services at Narandera 11 a.m. and 7.30 p.m..; Grong Grong 3.30 p.m., Y.P.S.C.E. A[?]ersary",
             "title": {
              "id": "431",
              "value": "Narandera Argus and Riverina Advertiser (NSW : 1893 - 1953)"
             },
             "troveUrl": "https://trove.nla.gov.au/ndp/del/article/100000017",
             "url": "/newspaper/100000017"
            },
            {
             "category": "Family Notices",
             "date": "1914-03-06",
             "heading": "Family Notices",
             "id": "100000018",
             "page": 2,
             "pageSequence": 2,
             "relevance": {
              "score": "1.0",
              "value": "likely to be relevant"
             },
             "title": {
              "id": "431",
              "value": "Narandera Argus and Riverina Advertiser (NSW : 1893 - 1953)"
             },
             "troveUrl": "https://trove.nla.gov.au/ndp/del/article/100000018",
             "url": "/newspaper/100000018"
            },
            {
             "category": "Article",
             "date": "1909-11-18",
             "heading": "DEATH OF A CENTENARIAN. WELLINGTON, November 17.",
             "id": "10000002",
             "page": 5,
             "pageSequence": 5,
             "relevance": {
              "score": "1.0",
              "value": "likely to be relevant"
             },
             "snippet": "Charles William Smith, a nativ[?] of Denmark, has died at the Bay of Islands, aged 105. He first visited New Zealand 80 years ago.",
             "title": {
              "id": "10",
              "value": "The Mercury (Hobart, Tas. : 1860 - 1954)"
             },
             "troveUrl": "https://trove.nla.gov.au/ndp/del/article/10000002",
             "url": "/newspaper/10000002"
            },
            {
             "category": "Article",
             "date": "1914-03-06",
             "heading": "Our Sydney Letter \"THE MARK OF THE BEAST.\"",
             "id": "100000023",
             "page": 3,
             "pageSequence": 3,
             "relevance": {
              "score": "1.0",
              "value": "likely to be relevant"
             },
             "snippet": "In a certain venerable and venerated volume, which is more widely circulated at the present day than ever before in the history of the world, we read of",
             "title": {
              "id": "431",
              "value": "Narandera Argus and Riverina Advertiser (NSW : 1893 - 1953)"
             },
             "troveUrl": "https://trove.nla.gov.au/ndp/del/article/100000023",
             "url": "/newspaper/100000023"
            },
            {
             "category": "Article",
             "date": "1909-11-18",
             "heading": "DIRECTOR OR COUNCIL COUNCIL OF AGRICULTURE'S ABOLITION. THE MEMBERS IN DEFENCE.",
             "id": "10000003",
             "page": 5,
             "pageSequence": 5,
             "relevance": {
              "score": "1.0",
              "value": "likely to be relevant"
             },
             "snippet": "At a meeting of the Council of [?]griculture yesterday, Mr. Davey said that he wished to raise the question of the attitude of the Govornmeut towards the",
             "title": {
              "id": "10",
              "value": "The Mercury (Hobart, Tas. : 1860 - 1954)"
             },
             "troveUrl": "https://trove.nla.gov.au/ndp/del/article/10000003",
             "url": "/newspaper/10000003"
            },
            {
             "category": "Article",
             "date": "1914-10-02",
             "heading": "THE COMMERCIAL HOTEL",
             "id": "100000030",
             "page": 3,
             "pageSequence": 3,
             "relevance": {
              "score": "1.0",
              "value": "likely to be relevant"
             },
             "snippet": "The new double-fronted two, storey brick hotel Which has replaced the old wooden Commercial Hotel on the corner of East and",
             "title": {
              "id": "431",
              "value": "Narandera Argus and Riverina Advertiser (NSW : 1893 - 1953)"
             },
             "troveUrl": "https://trove.nla.gov.au/ndp/del/article/100000030",
             "url": "/newspaper/100000030"
            },
            {
             "category": "Article",
             "date": "1914-10-02",
             "heading": "No title",
             "id": "100000032",
             "page": 3,
             "pageSequence": 3,
             "relevance": {
              "score": "1.0",
              "value": "likely to be relevant"
             },
             "snippet": "The Circuit Court a Coot[?] opens on Tuesday. The calender includes the trial of Frederick Mountford in connection with the recent tragedy at",
             "title": {
              "id": "431",
              "value": "Narandera Argus and Riverina Advertiser (NSW : 1893 - 1953)"
             },
             "troveUrl": "https://trove.nla.gov.au/ndp/del/article/100000032",
             "url": "/newspaper/100000032"
            },
            {
             "category": "Article",
             "date": "1914-10-02",
             "heading": "Municipal Council.",
             "id": "100000036",
             "page": 3,
             "pageSequence": 3,
             "relevance": {
              "score": "1.0",
              "value": "likely to be relevant"
             },
             "snippet": "The ordinary meeting of the Municipal Council was held on Monday evening when there were present His, Won[?] the Mayor (Ald. Little) and Ald.",
             "title": {
              "id": "431",
              "value": "Narandera Argus and Riverina Advertiser (NSW : 1893 - 1953)"
             },
             "troveUrl": "https://trove.nla.gov.au/ndp/del/article/100000036",
             "url": "/newspaper/100000036"
            },
            {
             "category": "Article",
             "date": "1914-10-02",
             "heading": "No title",
             "id": "100000056",
             "page": 2,
             "pageSequence": 2,
             "relevance": {
              "score": "1.0",
              "value": "likely to be relevant"
             },
             "snippet": "There will be no sitting of the Circuit in Wagga this month. At the Henty show on Wednesday, Mr. C. N. Culley won first and second",
             "title": {
              "id": "431",
              "value": "Narandera Argus and Riverina Advertiser (NSW : 1893 - 1953)"
             },
             "troveUrl": "https://trove.nla.gov.au/ndp/del/article/100000056",
             "url": "/newspaper/100000056"
            },
            {
             "category": "Article",
             "date": "1909-11-18",
             "heading": "SUPREME COURT. CRIMINAL SITTINGS. LAUNCESTON. November 17.",
             "id": "10000006",
             "page": 6,
             "pageSequence": 6,
             "relevance": {
              "score": "1.0",
              "value": "likely to be relevant"
             },
             "snippet": "Mr. Justice McIntyre presided in the Criminal Court at Launceston to-day, and Mr. L. J. Hobkirk prosecuted. John Hy. Barrington, alias Griffin, alias",
             "title": {
              "id": "10",
              "value": "The Mercury (Hobart, Tas. : 1860 - 1954)"
             },
             "troveUrl": "https://trove.nla.gov.au/ndp/del/article/10000006",
             "url": "/newspaper/10000006"
            },
            {
             "category": "Article",
             "date": "1914-10-02",
             "heading": "THE GREAT WAR Good News Anticipated Tremendous German Losses The Russian Advance Bombardment of Antwerp Cameroons Occupied by Britain Emden's Capture Unconfirmed A DOUGHTY PARTY Tuesday Afternoon.",
             "id": "100000061",
             "page": 2,
             "pageSequence": 2,
             "relevance": {
              "score": "1.0",
              "value": "likely to be relevant"
             },
             "snippet": "Lieutenant Verlin has been mentioned in despatches for a brilliant exploit. While reconnoitering with a party of fifty men he encountered a force of",
             "title": {
              "id": "431",
              "value": "Narandera Argus and Riverina Advertiser (NSW : 1893 - 1953)"
             },
             "troveUrl": "https://trove.nla.gov.au/ndp/del/article/100000061",
             "url": "/newspaper/100000061"
            },
            {
             "category": "Article",
             "date": "1914-10-02",
             "heading": "The Latest THURSDAY EVENING. THE GREAT BATTLE. WORST BELIEVED TO BE OVER.",
             "id": "100000064",
             "page": 2,
             "pageSequence": 2,
             "relevance": {
              "score": "1.0",
              "value": "likely to be relevant"
             },
             "snippet": "THe \"Daily Chronicle\" Paris correspondent, telegraphing from the front at midnight on Wednesday says that it has been a long wait for good news,",
             "title": {
              "id": "431",
              "value": "Narandera Argus and Riverina Advertiser (NSW : 1893 - 1953)"
             },
             "troveUrl": "https://trove.nla.gov.au/ndp/del/article/100000064",
             "url": "/newspaper/100000064"
            }
           ],
           "n": "20",
           "next": "/result?q=+&encoding=json&zone=newspaper&s=AoIIP4AAACkxMDAwMDAwNjQ%3D",
           "nextStart": "AoIIP4AAACkxMDAwMDAwNjQ=",
           "s": "*",
           "total": "236616092"
          }
         }
        ]
       }
      },
      "text/plain": [
       "<IPython.core.display.JSON object>"
      ]
     },
     "execution_count": 61,
     "metadata": {
      "application/json": {
       "expanded": false,
       "root": "root"
      }
     },
     "output_type": "execute_result"
    }
   ],
   "source": [
    "JSON(data)"
   ]
  },
  {
   "cell_type": "markdown",
   "metadata": {},
   "source": [
    "## Looking into the zones"
   ]
  },
  {
   "cell_type": "markdown",
   "metadata": {},
   "source": [
    "Now we've got data from all of Trove's zone – let's see what it looks like!\n",
    "\n",
    "The next code cell loops through each zone in the results and extracts the total number of results. Because we didn't apply any limits to our query, this will tell us how many items are currently in each zone."
   ]
  },
  {
   "cell_type": "code",
   "execution_count": 62,
   "metadata": {},
   "outputs": [],
   "source": [
    "# Create empty lists to store 'zones' and 'totals'\n",
    "zones = []\n",
    "totals = []\n",
    "\n",
    "# Loop through the zones in the API results\n",
    "for zone in data[\"response\"][\"zone\"]:\n",
    "\n",
    "    # Add the name and total values to the relevant list\n",
    "    zones.append(zone[\"name\"])\n",
    "    totals.append(int(zone[\"records\"][\"total\"]))\n",
    "\n",
    "# Save the results as a dictionary\n",
    "zone_totals = {\"zones\": zones, \"totals\": totals}"
   ]
  },
  {
   "cell_type": "markdown",
   "metadata": {},
   "source": [
    "We're now going to convert the results into a Pandas dataframe. Pandas has lots of useful options for working with and displaying tabular data."
   ]
  },
  {
   "cell_type": "code",
   "execution_count": 63,
   "metadata": {},
   "outputs": [
    {
     "data": {
      "text/html": [
       "<style type=\"text/css\">\n",
       "</style>\n",
       "<table id=\"T_45fb9\">\n",
       "  <thead>\n",
       "    <tr>\n",
       "      <th class=\"blank level0\" >&nbsp;</th>\n",
       "      <th id=\"T_45fb9_level0_col0\" class=\"col_heading level0 col0\" >zones</th>\n",
       "      <th id=\"T_45fb9_level0_col1\" class=\"col_heading level0 col1\" >totals</th>\n",
       "    </tr>\n",
       "  </thead>\n",
       "  <tbody>\n",
       "    <tr>\n",
       "      <th id=\"T_45fb9_level0_row0\" class=\"row_heading level0 row0\" >8</th>\n",
       "      <td id=\"T_45fb9_row0_col0\" class=\"data row0 col0\" >article</td>\n",
       "      <td id=\"T_45fb9_row0_col1\" class=\"data row0 col1\" >13,406,104</td>\n",
       "    </tr>\n",
       "    <tr>\n",
       "      <th id=\"T_45fb9_level0_row1\" class=\"row_heading level0 row1\" >9</th>\n",
       "      <td id=\"T_45fb9_row1_col0\" class=\"data row1 col0\" >book</td>\n",
       "      <td id=\"T_45fb9_row1_col1\" class=\"data row1 col1\" >18,601,177</td>\n",
       "    </tr>\n",
       "    <tr>\n",
       "      <th id=\"T_45fb9_level0_row2\" class=\"row_heading level0 row2\" >6</th>\n",
       "      <td id=\"T_45fb9_row2_col0\" class=\"data row2 col0\" >collection</td>\n",
       "      <td id=\"T_45fb9_row2_col1\" class=\"data row2 col1\" >4,748,600</td>\n",
       "    </tr>\n",
       "    <tr>\n",
       "      <th id=\"T_45fb9_level0_row3\" class=\"row_heading level0 row3\" >1</th>\n",
       "      <td id=\"T_45fb9_row3_col0\" class=\"data row3 col0\" >gazette</td>\n",
       "      <td id=\"T_45fb9_row3_col1\" class=\"data row3 col1\" >3,535,033</td>\n",
       "    </tr>\n",
       "    <tr>\n",
       "      <th id=\"T_45fb9_level0_row4\" class=\"row_heading level0 row4\" >2</th>\n",
       "      <td id=\"T_45fb9_row4_col0\" class=\"data row4 col0\" >list</td>\n",
       "      <td id=\"T_45fb9_row4_col1\" class=\"data row4 col1\" >106,022</td>\n",
       "    </tr>\n",
       "    <tr>\n",
       "      <th id=\"T_45fb9_level0_row5\" class=\"row_heading level0 row5\" >4</th>\n",
       "      <td id=\"T_45fb9_row5_col0\" class=\"data row5 col0\" >map</td>\n",
       "      <td id=\"T_45fb9_row5_col1\" class=\"data row5 col1\" >363,594</td>\n",
       "    </tr>\n",
       "    <tr>\n",
       "      <th id=\"T_45fb9_level0_row6\" class=\"row_heading level0 row6\" >5</th>\n",
       "      <td id=\"T_45fb9_row6_col0\" class=\"data row6 col0\" >music</td>\n",
       "      <td id=\"T_45fb9_row6_col1\" class=\"data row6 col1\" >3,066,364</td>\n",
       "    </tr>\n",
       "    <tr>\n",
       "      <th id=\"T_45fb9_level0_row7\" class=\"row_heading level0 row7\" >10</th>\n",
       "      <td id=\"T_45fb9_row7_col0\" class=\"data row7 col0\" >newspaper</td>\n",
       "      <td id=\"T_45fb9_row7_col1\" class=\"data row7 col1\" >236,616,092</td>\n",
       "    </tr>\n",
       "    <tr>\n",
       "      <th id=\"T_45fb9_level0_row8\" class=\"row_heading level0 row8\" >3</th>\n",
       "      <td id=\"T_45fb9_row8_col0\" class=\"data row8 col0\" >people</td>\n",
       "      <td id=\"T_45fb9_row8_col1\" class=\"data row8 col1\" >1,309,873</td>\n",
       "    </tr>\n",
       "    <tr>\n",
       "      <th id=\"T_45fb9_level0_row9\" class=\"row_heading level0 row9\" >7</th>\n",
       "      <td id=\"T_45fb9_row9_col0\" class=\"data row9 col0\" >picture</td>\n",
       "      <td id=\"T_45fb9_row9_col1\" class=\"data row9 col1\" >5,618,995</td>\n",
       "    </tr>\n",
       "    <tr>\n",
       "      <th id=\"T_45fb9_level0_row10\" class=\"row_heading level0 row10\" >0</th>\n",
       "      <td id=\"T_45fb9_row10_col0\" class=\"data row10 col0\" >url</td>\n",
       "      <td id=\"T_45fb9_row10_col1\" class=\"data row10 col1\" >0</td>\n",
       "    </tr>\n",
       "  </tbody>\n",
       "</table>\n"
      ],
      "text/plain": [
       "<pandas.io.formats.style.Styler at 0x7f27d4070160>"
      ]
     },
     "execution_count": 63,
     "metadata": {},
     "output_type": "execute_result"
    }
   ],
   "source": [
    "# Create a Pandas dataframe to work with the results\n",
    "df = pd.DataFrame(zone_totals)\n",
    "\n",
    "# Sort by zone name\n",
    "df = df.sort_values(by=\"zones\")\n",
    "\n",
    "# Display as a table (formatting the numbers with comma separators for readability)\n",
    "df[[\"zones\", \"totals\"]].style.format({\"totals\": \"{:,}\"})"
   ]
  },
  {
   "cell_type": "code",
   "execution_count": 64,
   "metadata": {},
   "outputs": [
    {
     "data": {
      "text/html": [
       "<style type=\"text/css\">\n",
       "#T_e0e4b_row0_col1 {\n",
       "  width: 10em;\n",
       "  background: linear-gradient(90deg, #d65f5f 5.7%, transparent 5.7%);\n",
       "}\n",
       "#T_e0e4b_row1_col1 {\n",
       "  width: 10em;\n",
       "  background: linear-gradient(90deg, #d65f5f 7.9%, transparent 7.9%);\n",
       "}\n",
       "#T_e0e4b_row2_col1 {\n",
       "  width: 10em;\n",
       "  background: linear-gradient(90deg, #d65f5f 2.0%, transparent 2.0%);\n",
       "}\n",
       "#T_e0e4b_row3_col1 {\n",
       "  width: 10em;\n",
       "  background: linear-gradient(90deg, #d65f5f 1.5%, transparent 1.5%);\n",
       "}\n",
       "#T_e0e4b_row4_col1 {\n",
       "  width: 10em;\n",
       "  background: linear-gradient(90deg, #d65f5f 0.0%, transparent 0.0%);\n",
       "}\n",
       "#T_e0e4b_row5_col1 {\n",
       "  width: 10em;\n",
       "  background: linear-gradient(90deg, #d65f5f 0.2%, transparent 0.2%);\n",
       "}\n",
       "#T_e0e4b_row6_col1 {\n",
       "  width: 10em;\n",
       "  background: linear-gradient(90deg, #d65f5f 1.3%, transparent 1.3%);\n",
       "}\n",
       "#T_e0e4b_row7_col1 {\n",
       "  width: 10em;\n",
       "  background: linear-gradient(90deg, #d65f5f 100.0%, transparent 100.0%);\n",
       "}\n",
       "#T_e0e4b_row8_col1 {\n",
       "  width: 10em;\n",
       "  background: linear-gradient(90deg, #d65f5f 0.6%, transparent 0.6%);\n",
       "}\n",
       "#T_e0e4b_row9_col1 {\n",
       "  width: 10em;\n",
       "  background: linear-gradient(90deg, #d65f5f 2.4%, transparent 2.4%);\n",
       "}\n",
       "#T_e0e4b_row10_col1 {\n",
       "  width: 10em;\n",
       "}\n",
       "</style>\n",
       "<table id=\"T_e0e4b\">\n",
       "  <thead>\n",
       "    <tr>\n",
       "      <th class=\"blank level0\" >&nbsp;</th>\n",
       "      <th id=\"T_e0e4b_level0_col0\" class=\"col_heading level0 col0\" >zones</th>\n",
       "      <th id=\"T_e0e4b_level0_col1\" class=\"col_heading level0 col1\" >totals</th>\n",
       "    </tr>\n",
       "  </thead>\n",
       "  <tbody>\n",
       "    <tr>\n",
       "      <th id=\"T_e0e4b_level0_row0\" class=\"row_heading level0 row0\" >8</th>\n",
       "      <td id=\"T_e0e4b_row0_col0\" class=\"data row0 col0\" >article</td>\n",
       "      <td id=\"T_e0e4b_row0_col1\" class=\"data row0 col1\" >13,406,104</td>\n",
       "    </tr>\n",
       "    <tr>\n",
       "      <th id=\"T_e0e4b_level0_row1\" class=\"row_heading level0 row1\" >9</th>\n",
       "      <td id=\"T_e0e4b_row1_col0\" class=\"data row1 col0\" >book</td>\n",
       "      <td id=\"T_e0e4b_row1_col1\" class=\"data row1 col1\" >18,601,177</td>\n",
       "    </tr>\n",
       "    <tr>\n",
       "      <th id=\"T_e0e4b_level0_row2\" class=\"row_heading level0 row2\" >6</th>\n",
       "      <td id=\"T_e0e4b_row2_col0\" class=\"data row2 col0\" >collection</td>\n",
       "      <td id=\"T_e0e4b_row2_col1\" class=\"data row2 col1\" >4,748,600</td>\n",
       "    </tr>\n",
       "    <tr>\n",
       "      <th id=\"T_e0e4b_level0_row3\" class=\"row_heading level0 row3\" >1</th>\n",
       "      <td id=\"T_e0e4b_row3_col0\" class=\"data row3 col0\" >gazette</td>\n",
       "      <td id=\"T_e0e4b_row3_col1\" class=\"data row3 col1\" >3,535,033</td>\n",
       "    </tr>\n",
       "    <tr>\n",
       "      <th id=\"T_e0e4b_level0_row4\" class=\"row_heading level0 row4\" >2</th>\n",
       "      <td id=\"T_e0e4b_row4_col0\" class=\"data row4 col0\" >list</td>\n",
       "      <td id=\"T_e0e4b_row4_col1\" class=\"data row4 col1\" >106,022</td>\n",
       "    </tr>\n",
       "    <tr>\n",
       "      <th id=\"T_e0e4b_level0_row5\" class=\"row_heading level0 row5\" >4</th>\n",
       "      <td id=\"T_e0e4b_row5_col0\" class=\"data row5 col0\" >map</td>\n",
       "      <td id=\"T_e0e4b_row5_col1\" class=\"data row5 col1\" >363,594</td>\n",
       "    </tr>\n",
       "    <tr>\n",
       "      <th id=\"T_e0e4b_level0_row6\" class=\"row_heading level0 row6\" >5</th>\n",
       "      <td id=\"T_e0e4b_row6_col0\" class=\"data row6 col0\" >music</td>\n",
       "      <td id=\"T_e0e4b_row6_col1\" class=\"data row6 col1\" >3,066,364</td>\n",
       "    </tr>\n",
       "    <tr>\n",
       "      <th id=\"T_e0e4b_level0_row7\" class=\"row_heading level0 row7\" >10</th>\n",
       "      <td id=\"T_e0e4b_row7_col0\" class=\"data row7 col0\" >newspaper</td>\n",
       "      <td id=\"T_e0e4b_row7_col1\" class=\"data row7 col1\" >236,616,092</td>\n",
       "    </tr>\n",
       "    <tr>\n",
       "      <th id=\"T_e0e4b_level0_row8\" class=\"row_heading level0 row8\" >3</th>\n",
       "      <td id=\"T_e0e4b_row8_col0\" class=\"data row8 col0\" >people</td>\n",
       "      <td id=\"T_e0e4b_row8_col1\" class=\"data row8 col1\" >1,309,873</td>\n",
       "    </tr>\n",
       "    <tr>\n",
       "      <th id=\"T_e0e4b_level0_row9\" class=\"row_heading level0 row9\" >7</th>\n",
       "      <td id=\"T_e0e4b_row9_col0\" class=\"data row9 col0\" >picture</td>\n",
       "      <td id=\"T_e0e4b_row9_col1\" class=\"data row9 col1\" >5,618,995</td>\n",
       "    </tr>\n",
       "    <tr>\n",
       "      <th id=\"T_e0e4b_level0_row10\" class=\"row_heading level0 row10\" >0</th>\n",
       "      <td id=\"T_e0e4b_row10_col0\" class=\"data row10 col0\" >url</td>\n",
       "      <td id=\"T_e0e4b_row10_col1\" class=\"data row10 col1\" >0</td>\n",
       "    </tr>\n",
       "  </tbody>\n",
       "</table>\n"
      ],
      "text/plain": [
       "<pandas.io.formats.style.Styler at 0x7f27d4070820>"
      ]
     },
     "execution_count": 64,
     "metadata": {},
     "output_type": "execute_result"
    }
   ],
   "source": [
    "# We can even use Pandas to display the results table with a simple bar chart\n",
    "df[[\"zones\", \"totals\"]].style.format({\"totals\": \"{:,}\"}).bar(\n",
    "    subset=[\"totals\"], color=\"#d65f5f\"\n",
    ")"
   ]
  },
  {
   "cell_type": "markdown",
   "metadata": {},
   "source": [
    "That's pretty cool, but let's take things one step further and use Altair to create a pretty interactive bar chart. As you can see from the cell below, Altair is very easy to use."
   ]
  },
  {
   "cell_type": "code",
   "execution_count": 65,
   "metadata": {},
   "outputs": [
    {
     "data": {
      "text/html": [
       "\n",
       "<div id=\"altair-viz-00f68ff344984dda8504e577ed854266\"></div>\n",
       "<script type=\"text/javascript\">\n",
       "  var VEGA_DEBUG = (typeof VEGA_DEBUG == \"undefined\") ? {} : VEGA_DEBUG;\n",
       "  (function(spec, embedOpt){\n",
       "    let outputDiv = document.currentScript.previousElementSibling;\n",
       "    if (outputDiv.id !== \"altair-viz-00f68ff344984dda8504e577ed854266\") {\n",
       "      outputDiv = document.getElementById(\"altair-viz-00f68ff344984dda8504e577ed854266\");\n",
       "    }\n",
       "    const paths = {\n",
       "      \"vega\": \"https://cdn.jsdelivr.net/npm//vega@5?noext\",\n",
       "      \"vega-lib\": \"https://cdn.jsdelivr.net/npm//vega-lib?noext\",\n",
       "      \"vega-lite\": \"https://cdn.jsdelivr.net/npm//vega-lite@4.17.0?noext\",\n",
       "      \"vega-embed\": \"https://cdn.jsdelivr.net/npm//vega-embed@6?noext\",\n",
       "    };\n",
       "\n",
       "    function maybeLoadScript(lib, version) {\n",
       "      var key = `${lib.replace(\"-\", \"\")}_version`;\n",
       "      return (VEGA_DEBUG[key] == version) ?\n",
       "        Promise.resolve(paths[lib]) :\n",
       "        new Promise(function(resolve, reject) {\n",
       "          var s = document.createElement('script');\n",
       "          document.getElementsByTagName(\"head\")[0].appendChild(s);\n",
       "          s.async = true;\n",
       "          s.onload = () => {\n",
       "            VEGA_DEBUG[key] = version;\n",
       "            return resolve(paths[lib]);\n",
       "          };\n",
       "          s.onerror = () => reject(`Error loading script: ${paths[lib]}`);\n",
       "          s.src = paths[lib];\n",
       "        });\n",
       "    }\n",
       "\n",
       "    function showError(err) {\n",
       "      outputDiv.innerHTML = `<div class=\"error\" style=\"color:red;\">${err}</div>`;\n",
       "      throw err;\n",
       "    }\n",
       "\n",
       "    function displayChart(vegaEmbed) {\n",
       "      vegaEmbed(outputDiv, spec, embedOpt)\n",
       "        .catch(err => showError(`Javascript Error: ${err.message}<br>This usually means there's a typo in your chart specification. See the javascript console for the full traceback.`));\n",
       "    }\n",
       "\n",
       "    if(typeof define === \"function\" && define.amd) {\n",
       "      requirejs.config({paths});\n",
       "      require([\"vega-embed\"], displayChart, err => showError(`Error loading script: ${err.message}`));\n",
       "    } else {\n",
       "      maybeLoadScript(\"vega\", \"5\")\n",
       "        .then(() => maybeLoadScript(\"vega-lite\", \"4.17.0\"))\n",
       "        .then(() => maybeLoadScript(\"vega-embed\", \"6\"))\n",
       "        .catch(showError)\n",
       "        .then(() => displayChart(vegaEmbed));\n",
       "    }\n",
       "  })({\"config\": {\"view\": {\"continuousWidth\": 400, \"continuousHeight\": 300}}, \"data\": {\"name\": \"data-41ca807c7c2376a20b2eb49ea9a484a4\"}, \"mark\": \"bar\", \"encoding\": {\"tooltip\": [{\"field\": \"zones\", \"type\": \"nominal\"}, {\"field\": \"totals\", \"format\": \",\", \"type\": \"quantitative\"}], \"x\": {\"field\": \"zones\", \"type\": \"nominal\"}, \"y\": {\"field\": \"totals\", \"type\": \"quantitative\"}}, \"$schema\": \"https://vega.github.io/schema/vega-lite/v4.17.0.json\", \"datasets\": {\"data-41ca807c7c2376a20b2eb49ea9a484a4\": [{\"zones\": \"article\", \"totals\": 13406104}, {\"zones\": \"book\", \"totals\": 18601177}, {\"zones\": \"collection\", \"totals\": 4748600}, {\"zones\": \"gazette\", \"totals\": 3535033}, {\"zones\": \"list\", \"totals\": 106022}, {\"zones\": \"map\", \"totals\": 363594}, {\"zones\": \"music\", \"totals\": 3066364}, {\"zones\": \"newspaper\", \"totals\": 236616092}, {\"zones\": \"people\", \"totals\": 1309873}, {\"zones\": \"picture\", \"totals\": 5618995}, {\"zones\": \"url\", \"totals\": 0}]}}, {\"mode\": \"vega-lite\"});\n",
       "</script>"
      ],
      "text/plain": [
       "alt.Chart(...)"
      ]
     },
     "execution_count": 65,
     "metadata": {},
     "output_type": "execute_result"
    }
   ],
   "source": [
    "alt.Chart(df).mark_bar().encode(\n",
    "    x=\"zones:N\",\n",
    "    y=\"totals:Q\",\n",
    "    # Add tooltips to the bars, format numbers with thousand separators\n",
    "    tooltip=[\"zones:N\", alt.Tooltip(\"totals:Q\", format=\",\")],\n",
    ")"
   ]
  },
  {
   "cell_type": "markdown",
   "metadata": {},
   "source": [
    "Ok, let's stop making pictures and look at what the results tell us. It's probably no surprise that there are more digitised newspaper articles that anything else.\n",
    "\n",
    "Most of the zone names are seem straightforward, though it might not be immediately obvious that the 'article' zone corresponds to the 'Journals, articles and data sets' zone in the old web interface.\n",
    "\n",
    "However, you might be wondering about 'collection'. It's not 'Lists' as there's already a 'list' zone in the results. It turns out that the 'collection' zone corresponds to the 'Diaries, letters and archives' zone in the old web interface. I suppose it sort of makes sense."
   ]
  },
  {
   "cell_type": "markdown",
   "metadata": {},
   "source": [
    "<p class=\"alert alert-warning\">While the total numbers above give us an indication of how resources are distributed across Trove, remember that items can appear in multiple zones – for example, a book that includes maps might be in both the 'book' and 'map' zones. So if you try to add the totals to get the overall number of resources in Trove, you'll be including many duplicates.</p>"
   ]
  },
  {
   "cell_type": "markdown",
   "metadata": {},
   "source": [
    "You might also have noticed that although I said that the API didn't include results for the 'People and organisations' zone, there is a result in the data above for 'people'. What's going on?\n",
    "\n",
    "Basically full support for the 'People and organisations' zone was never completed. Don't believe me? Let's have a look at the results.\n",
    "\n",
    "First we'll extract the results for the 'people' zone from the API data."
   ]
  },
  {
   "cell_type": "code",
   "execution_count": 66,
   "metadata": {},
   "outputs": [],
   "source": [
    "# Create an empty list to store the results\n",
    "people_results = []\n",
    "\n",
    "# Loop through the zone results\n",
    "for zone in data[\"response\"][\"zone\"]:\n",
    "\n",
    "    # When we find the people zone save the records data to 'people_results'\n",
    "    if zone[\"name\"] == \"people\":\n",
    "        people_results = zone[\"records\"][\"people\"]"
   ]
  },
  {
   "cell_type": "markdown",
   "metadata": {},
   "source": [
    "Once again, we'll convert the results into a dataframe and display the first 5 rows as a table"
   ]
  },
  {
   "cell_type": "code",
   "execution_count": 67,
   "metadata": {},
   "outputs": [
    {
     "data": {
      "text/html": [
       "<div>\n",
       "<style scoped>\n",
       "    .dataframe tbody tr th:only-of-type {\n",
       "        vertical-align: middle;\n",
       "    }\n",
       "\n",
       "    .dataframe tbody tr th {\n",
       "        vertical-align: top;\n",
       "    }\n",
       "\n",
       "    .dataframe thead th {\n",
       "        text-align: right;\n",
       "    }\n",
       "</style>\n",
       "<table border=\"1\" class=\"dataframe\">\n",
       "  <thead>\n",
       "    <tr style=\"text-align: right;\">\n",
       "      <th></th>\n",
       "      <th>id</th>\n",
       "      <th>url</th>\n",
       "      <th>troveUrl</th>\n",
       "    </tr>\n",
       "  </thead>\n",
       "  <tbody>\n",
       "    <tr>\n",
       "      <th>0</th>\n",
       "      <td>949358</td>\n",
       "      <td>/people/949358</td>\n",
       "      <td>https://trove.nla.gov.au/people/949358</td>\n",
       "    </tr>\n",
       "    <tr>\n",
       "      <th>1</th>\n",
       "      <td>897386</td>\n",
       "      <td>/people/897386</td>\n",
       "      <td>https://trove.nla.gov.au/people/897386</td>\n",
       "    </tr>\n",
       "    <tr>\n",
       "      <th>2</th>\n",
       "      <td>542626</td>\n",
       "      <td>/people/542626</td>\n",
       "      <td>https://trove.nla.gov.au/people/542626</td>\n",
       "    </tr>\n",
       "    <tr>\n",
       "      <th>3</th>\n",
       "      <td>461145</td>\n",
       "      <td>/people/461145</td>\n",
       "      <td>https://trove.nla.gov.au/people/461145</td>\n",
       "    </tr>\n",
       "    <tr>\n",
       "      <th>4</th>\n",
       "      <td>638889</td>\n",
       "      <td>/people/638889</td>\n",
       "      <td>https://trove.nla.gov.au/people/638889</td>\n",
       "    </tr>\n",
       "  </tbody>\n",
       "</table>\n",
       "</div>"
      ],
      "text/plain": [
       "       id             url                                troveUrl\n",
       "0  949358  /people/949358  https://trove.nla.gov.au/people/949358\n",
       "1  897386  /people/897386  https://trove.nla.gov.au/people/897386\n",
       "2  542626  /people/542626  https://trove.nla.gov.au/people/542626\n",
       "3  461145  /people/461145  https://trove.nla.gov.au/people/461145\n",
       "4  638889  /people/638889  https://trove.nla.gov.au/people/638889"
      ]
     },
     "execution_count": 67,
     "metadata": {},
     "output_type": "execute_result"
    }
   ],
   "source": [
    "# Create a dataframe from 'people_results'\n",
    "people_df = pd.DataFrame(people_results)\n",
    "\n",
    "# Display the first 5 results as a table\n",
    "people_df[:5]"
   ]
  },
  {
   "cell_type": "markdown",
   "metadata": {},
   "source": [
    "You'll notice that there's not a lot of useful data – just identifiers and urls for the Trove web interface. If you try to use the identifier to get more information from the API you'll be out of luck – it returns a '404: Not Found' error.\n",
    "\n",
    "As I said, full support for the 'People and organisations' zone was never completed. Hopefully it will be added in a future release."
   ]
  },
  {
   "cell_type": "markdown",
   "metadata": {},
   "source": [
    "## More zone peculiarities"
   ]
  },
  {
   "cell_type": "markdown",
   "metadata": {},
   "source": [
    "There's another couple of peculiarities that you need to be aware of. The first is really more of an annoyance than a peculiarity. As you might have noticed above, to find the results for the 'people' zone I had to loop through all the zones until I found the one with the name 'people'. We can't just say, 'give me the people results!'. Of course, this is only an issue if you've asked for results from more than one zone. If you set the 'zone' parameter to a single zone – like 'newspaper' – the newspaper data would be the first (and only) set of results. You could find them at  `data['response']['zone'][0]`.\n",
    "\n",
    "You might also have noticed that the individual records from the 'people' zone were found at `zone['records']['people']`. What's wrong with that? Well, it means that different zones use different keys to identify their records. So you have to know in advance what the key is in order to get the records data. Again, if you're only working with one zone it's not too hard. But if you're working across multiple zones, it's a bit of a pain.\n",
    "\n",
    "At least we can use the data we've already gathered to create a mapping of zones to keys."
   ]
  },
  {
   "cell_type": "code",
   "execution_count": 68,
   "metadata": {},
   "outputs": [
    {
     "data": {
      "text/html": [
       "<div>\n",
       "<style scoped>\n",
       "    .dataframe tbody tr th:only-of-type {\n",
       "        vertical-align: middle;\n",
       "    }\n",
       "\n",
       "    .dataframe tbody tr th {\n",
       "        vertical-align: top;\n",
       "    }\n",
       "\n",
       "    .dataframe thead th {\n",
       "        text-align: right;\n",
       "    }\n",
       "</style>\n",
       "<table border=\"1\" class=\"dataframe\">\n",
       "  <thead>\n",
       "    <tr style=\"text-align: right;\">\n",
       "      <th></th>\n",
       "      <th>zone_name</th>\n",
       "      <th>records_key</th>\n",
       "    </tr>\n",
       "  </thead>\n",
       "  <tbody>\n",
       "    <tr>\n",
       "      <th>0</th>\n",
       "      <td>gazette</td>\n",
       "      <td>article</td>\n",
       "    </tr>\n",
       "    <tr>\n",
       "      <th>9</th>\n",
       "      <td>newspaper</td>\n",
       "      <td>article</td>\n",
       "    </tr>\n",
       "    <tr>\n",
       "      <th>1</th>\n",
       "      <td>list</td>\n",
       "      <td>list</td>\n",
       "    </tr>\n",
       "    <tr>\n",
       "      <th>2</th>\n",
       "      <td>people</td>\n",
       "      <td>people</td>\n",
       "    </tr>\n",
       "    <tr>\n",
       "      <th>3</th>\n",
       "      <td>map</td>\n",
       "      <td>work</td>\n",
       "    </tr>\n",
       "    <tr>\n",
       "      <th>4</th>\n",
       "      <td>music</td>\n",
       "      <td>work</td>\n",
       "    </tr>\n",
       "    <tr>\n",
       "      <th>5</th>\n",
       "      <td>collection</td>\n",
       "      <td>work</td>\n",
       "    </tr>\n",
       "    <tr>\n",
       "      <th>6</th>\n",
       "      <td>picture</td>\n",
       "      <td>work</td>\n",
       "    </tr>\n",
       "    <tr>\n",
       "      <th>7</th>\n",
       "      <td>article</td>\n",
       "      <td>work</td>\n",
       "    </tr>\n",
       "    <tr>\n",
       "      <th>8</th>\n",
       "      <td>book</td>\n",
       "      <td>work</td>\n",
       "    </tr>\n",
       "  </tbody>\n",
       "</table>\n",
       "</div>"
      ],
      "text/plain": [
       "    zone_name records_key\n",
       "0     gazette     article\n",
       "9   newspaper     article\n",
       "1        list        list\n",
       "2      people      people\n",
       "3         map        work\n",
       "4       music        work\n",
       "5  collection        work\n",
       "6     picture        work\n",
       "7     article        work\n",
       "8        book        work"
      ]
     },
     "execution_count": 68,
     "metadata": {},
     "output_type": "execute_result"
    }
   ],
   "source": [
    "# Create an empty list to store the results\n",
    "zone_keys = []\n",
    "\n",
    "# Loop through the zones\n",
    "for zone in data[\"response\"][\"zone\"]:\n",
    "\n",
    "    # Get the name of the zone\n",
    "    zone_name = zone[\"name\"]\n",
    "\n",
    "    # Loop through the keys\n",
    "    for key in zone[\"records\"].keys():\n",
    "\n",
    "        # Check the key against the keys that are always there\n",
    "        if key not in [\"s\", \"n\", \"total\", \"next\", \"nextStart\"]:\n",
    "            # If it's not one of the standard keys save it\n",
    "            records_key = key\n",
    "            # Append the zone name and records key to our list\n",
    "            zone_keys.append({\"zone_name\": zone_name, \"records_key\": records_key})\n",
    "\n",
    "# Convert the results to a dataframe\n",
    "keys_df = pd.DataFrame(zone_keys)\n",
    "\n",
    "# Sort and display the results\n",
    "keys_df = keys_df.sort_values(by=\"records_key\")\n",
    "keys_df[[\"zone_name\", \"records_key\"]]"
   ]
  },
  {
   "cell_type": "markdown",
   "metadata": {},
   "source": [
    "As you can see, the 'newspaper', 'list', and 'people' zones all have specific keys. Every other zone uses 'work'."
   ]
  },
  {
   "cell_type": "markdown",
   "metadata": {},
   "source": [
    "## Finally...\n",
    "\n",
    "If you want to save the zones data, just run the cell below to create a CSV-formatted file."
   ]
  },
  {
   "cell_type": "code",
   "execution_count": 69,
   "metadata": {
    "tags": [
     "nbval-skip"
    ]
   },
   "outputs": [],
   "source": [
    "# Save the zones data to a CSV file you can download\n",
    "df.to_csv(\"data/trove_zones.csv\", index=False)"
   ]
  },
  {
   "cell_type": "markdown",
   "metadata": {},
   "source": [
    "Once you've created it, you can download this file from the workbench's [data directory](data)."
   ]
  },
  {
   "cell_type": "markdown",
   "metadata": {},
   "source": [
    "----\n",
    "\n",
    "Created by [Tim Sherrratt](https://timsherratt.org) for the [GLAM workbench](https://glam-workbench.net/). Support this project by [becoming a GitHub sponsor](https://github.com/sponsors/wragge?o=esb)."
   ]
  }
 ],
 "metadata": {
  "kernelspec": {
   "display_name": "Python 3 (ipykernel)",
   "language": "python",
   "name": "python3"
  },
  "language_info": {
   "codemirror_mode": {
    "name": "ipython",
    "version": 3
   },
   "file_extension": ".py",
   "mimetype": "text/x-python",
   "name": "python",
   "nbconvert_exporter": "python",
   "pygments_lexer": "ipython3",
   "version": "3.8.12"
  }
 },
 "nbformat": 4,
 "nbformat_minor": 4
}
