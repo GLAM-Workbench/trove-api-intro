{
 "cells": [
  {
   "cell_type": "markdown",
   "metadata": {},
   "source": [
    "# Your first Trove API request\n",
    "\n",
    "<p class=\"alert alert-info\">New to Jupyter notebooks? Try <a href=\"getting-started/Using_Jupyter_notebooks.ipynb\"><b>Using Jupyter notebooks</b></a> for a quick introduction.</p>"
   ]
  },
  {
   "cell_type": "markdown",
   "metadata": {},
   "source": [
    "In this section we're going to learn how to send a request for information to the Trove API.\n",
    "\n",
    "API requests are just like normal urls. However, instead of sending us back a web page, they deliver data in a form that computers can understand. We can then use that data in our own programs."
   ]
  },
  {
   "cell_type": "markdown",
   "metadata": {},
   "source": [
    "We're going to use the Python [Requests](http://docs.python-requests.org/en/master/) module to handle our API queries, so let's import it now."
   ]
  },
  {
   "cell_type": "code",
   "execution_count": 27,
   "metadata": {},
   "outputs": [],
   "source": [
    "import os\n",
    "\n",
    "# We're going to use the Python Requests module to handle out API queries\n",
    "import requests\n",
    "\n",
    "# We'll use this to display nice;y formatted JSON results\n",
    "from IPython.display import JSON"
   ]
  },
  {
   "cell_type": "code",
   "execution_count": 18,
   "metadata": {},
   "outputs": [],
   "source": [
    "%%capture\n",
    "# Load variables from the .env file if it exists\n",
    "# Use %%capture to suppress messages\n",
    "%load_ext dotenv\n",
    "%dotenv"
   ]
  },
  {
   "cell_type": "markdown",
   "metadata": {},
   "source": [
    "## Getting an API key\n",
    "Any requests you make to the Trove API need to be authenticated with a 'key'. For non-commercial projects, you just  fill out a simple form and your API key is generated instantly. Follow the instructions in the Trove Help to [obtain your own Trove API Key](http://help.nla.gov.au/trove/building-with-trove/api).\n",
    "\n",
    "Once you've created a key, you can access it at any time on the 'For developers' tab of your Trove user profile.\n",
    "\n",
    "Copy your API key now, and paste it in the cell below, between the quotes."
   ]
  },
  {
   "cell_type": "code",
   "execution_count": null,
   "metadata": {},
   "outputs": [],
   "source": [
    "# This creates a variable called 'api_key', paste your key between the quotes\n",
    "api_key = \"\"\n",
    "\n",
    "# Use an api key value from environment variables if it is available (useful for testing)\n",
    "if os.getenv(\"TROVE_API_KEY\"):\n",
    "    api_key = os.getenv(\"TROVE_API_KEY\")\n",
    "\n",
    "# This displays a message with your key\n",
    "print(\"Your API key is: {}\".format(api_key))"
   ]
  },
  {
   "cell_type": "markdown",
   "metadata": {},
   "source": [
    "## Preparing parameters"
   ]
  },
  {
   "cell_type": "markdown",
   "metadata": {},
   "source": [
    "All search queries to the Trove API start with the same base url. We'll save it as a variable here."
   ]
  },
  {
   "cell_type": "code",
   "execution_count": 20,
   "metadata": {},
   "outputs": [],
   "source": [
    "# Create a variable called 'api_search_url' and give it a value\n",
    "api_search_url = \"https://api.trove.nla.gov.au/v2/result\""
   ]
  },
  {
   "cell_type": "markdown",
   "metadata": {},
   "source": [
    "Trove API queries are constructed by adding parameters to the base url. Most of the parameters are optional, but a few are mandatory:\n",
    "\n",
    "* `q` &ndash; 'q' for query, this is where search terms go\n",
    "* `zone` &ndash; which Trove zone (or zones) do you want to search, use 'all' for everything\n",
    "* `key` &ndash; your Trove API key\n",
    "\n",
    "If you don't want to specify a search term, you can just use a space or a plus sign &ndash; '&nbsp;' or '+' &ndash; as the value for `q`. Of course, this means that you're asking for *everything*, so Trove might take a bit longer to respond.\n",
    "\n",
    "We'll meet some other parameters later, but for now let's create a Python dictionary to store our basic parameters. The `requests` library will take this dictionary, turn it into a string, and add it to the base url.\n",
    "\n",
    "For our first API request we're going to search Trove's digitised newspapers, so we'll assign the value 'newspaper' to the `zone` parameter. Feel free to edit the `q` value to search for something that interests you.\n"
   ]
  },
  {
   "cell_type": "code",
   "execution_count": 21,
   "metadata": {},
   "outputs": [],
   "source": [
    "# This creates a dictionary called 'params' and sets values for the API's mandatory parameters\n",
    "params = {\n",
    "    \"q\": \"cyclone\",  # Search for this keyword -- feel free to change!\n",
    "    \"zone\": \"newspaper\",  # Search in the newspaper zone\n",
    "    \"key\": api_key,\n",
    "}"
   ]
  },
  {
   "cell_type": "markdown",
   "metadata": {},
   "source": [
    "The default output of the API is XML. For most applications it's easier to work with JSON. You set this using the `encoding` parameter. Let's add this into `params` and view the result."
   ]
  },
  {
   "cell_type": "code",
   "execution_count": 22,
   "metadata": {},
   "outputs": [
    {
     "data": {
      "text/plain": [
       "{'q': 'cyclone',\n",
       " 'zone': 'newspaper',\n",
       " 'key': 'gq29l1g1h75pimh4',\n",
       " 'encoding': 'json'}"
      ]
     },
     "execution_count": 22,
     "metadata": {},
     "output_type": "execute_result"
    }
   ],
   "source": [
    "# This adds a value for 'encoding' to our dictionary\n",
    "params[\"encoding\"] = \"json\"\n",
    "\n",
    "# Let's view the updated dictionary\n",
    "params"
   ]
  },
  {
   "cell_type": "markdown",
   "metadata": {},
   "source": [
    "## Making a request"
   ]
  },
  {
   "cell_type": "markdown",
   "metadata": {},
   "source": [
    "Ok, we're now now ready to make our first query!"
   ]
  },
  {
   "cell_type": "code",
   "execution_count": 23,
   "metadata": {},
   "outputs": [
    {
     "name": "stdout",
     "output_type": "stream",
     "text": [
      "Here's the formatted url that gets sent to the Trove API:\n",
      "https://api.trove.nla.gov.au/v2/result?q=cyclone&zone=newspaper&key=gq29l1g1h75pimh4&encoding=json\n",
      "\n",
      "All ok\n"
     ]
    }
   ],
   "source": [
    "# This sends our request to the Trove API and stores the result in a variable called 'response'\n",
    "response = requests.get(api_search_url, params=params)\n",
    "\n",
    "# This shows us the url that's sent to the API\n",
    "print(\n",
    "    \"Here's the formatted url that gets sent to the Trove API:\\n{}\\n\".format(\n",
    "        response.url\n",
    "    )\n",
    ")\n",
    "\n",
    "# This checks the status code of the response to make sure there were no errors\n",
    "if response.status_code == requests.codes.ok:\n",
    "    print(\"All ok\")\n",
    "elif response.status_code == 403:\n",
    "    print(\"There was an authentication error. Did you paste your API key above?\")\n",
    "else:\n",
    "    print(\"There was a problem. Error code: {}\".format(response.status_code))\n",
    "    print(\"Try running this cell again.\")"
   ]
  },
  {
   "cell_type": "markdown",
   "metadata": {},
   "source": [
    "See how `requests` has taken our parameters and turned them into a string with '&' between each one? \n",
    "\n",
    "The url above is live &ndash; try clicking on it to see the raw results from Trove."
   ]
  },
  {
   "cell_type": "markdown",
   "metadata": {},
   "source": [
    "## Look at the results"
   ]
  },
  {
   "cell_type": "markdown",
   "metadata": {},
   "source": [
    "The `response` variable contains all the data returned to us by the Trove API. Let's get it out in a usable form."
   ]
  },
  {
   "cell_type": "code",
   "execution_count": 24,
   "metadata": {},
   "outputs": [],
   "source": [
    "# Get the Trove API's JSON results and make them available as a Python variable called 'data'\n",
    "data = response.json()"
   ]
  },
  {
   "cell_type": "code",
   "execution_count": 31,
   "metadata": {},
   "outputs": [
    {
     "data": {
      "application/json": {
       "response": {
        "query": "cyclone",
        "zone": [
         {
          "name": "newspaper",
          "records": {
           "article": [
            {
             "category": "Article",
             "date": "1872-03-23",
             "heading": "CYCLONE.",
             "id": "111525457",
             "page": 3,
             "pageSequence": 3,
             "relevance": {
              "score": "237.50739",
              "value": "very relevant"
             },
             "snippet": "A cyclone, as the derivation of the Word implies, is a storm which travels in a circle. Cyclones are mereiy whirlwirds on a gigantic scale, being enormous volumes of air driven",
             "title": {
              "id": "386",
              "value": "The Herald (Fremantle, WA : 1867 - 1886)"
             },
             "troveUrl": "https://trove.nla.gov.au/ndp/del/article/111525457?searchTerm=cyclone",
             "url": "/newspaper/111525457"
            },
            {
             "category": "Article",
             "date": "1954-03-11",
             "heading": "CYCLONE",
             "id": "147162532",
             "page": 18,
             "pageSequence": 18,
             "relevance": {
              "score": "237.50739",
              "value": "very relevant"
             },
             "snippet": "The \"Man on the air\" said: \"The storm is bad; The wind is travelling fast.\" I can hear it howling]",
             "title": {
              "id": "711",
              "value": "Catholic Weekly (Sydney, NSW : 1942 - 1954)"
             },
             "troveUrl": "https://trove.nla.gov.au/ndp/del/article/147162532?searchTerm=cyclone",
             "url": "/newspaper/147162532"
            },
            {
             "category": "Article",
             "date": "1976-02-18",
             "heading": "Cyclone",
             "id": "110803384",
             "page": 16,
             "pageSequence": 16,
             "relevance": {
              "score": "237.13766",
              "value": "very relevant"
             },
             "snippet": "BRISBANE, TUESDAY. —The Brisbane Weather Bureau has dropped cyclone warnings for the North",
             "title": {
              "id": "11",
              "value": "The Canberra Times (ACT : 1926 - 1995)"
             },
             "troveUrl": "https://trove.nla.gov.au/ndp/del/article/110803384?searchTerm=cyclone",
             "url": "/newspaper/110803384"
            },
            {
             "category": "Article",
             "date": "1949-01-20",
             "heading": "CYCLONE",
             "id": "113436680",
             "page": 3,
             "pageSequence": 3,
             "relevance": {
              "score": "237.13766",
              "value": "very relevant"
             },
             "snippet": "Residents along the Bimbi road who experienced the bud storm on Saturday inform us that the disturbance in that particular area",
             "title": {
              "id": "474",
              "value": "The Grenfell Record and Lachlan District Advertiser (NSW : 1876 - 1951)"
             },
             "troveUrl": "https://trove.nla.gov.au/ndp/del/article/113436680?searchTerm=cyclone",
             "url": "/newspaper/113436680"
            },
            {
             "category": "Article",
             "date": "1906-11-28",
             "heading": "Cyclone.",
             "id": "189663643",
             "page": 4,
             "pageSequence": 4,
             "relevance": {
              "score": "237.13766",
              "value": "very relevant"
             },
             "snippet": "A destructive cyclone swept over Mogara, West Australia, on Saturday night. Dwellings were levelled in all directions, and the Miners Institute",
             "title": {
              "id": "983",
              "value": "The Armidale Chronicle (NSW : 1894 - 1929)"
             },
             "troveUrl": "https://trove.nla.gov.au/ndp/del/article/189663643?searchTerm=cyclone",
             "url": "/newspaper/189663643"
            },
            {
             "category": "Article",
             "date": "1892-02-26",
             "heading": "CYCLONE.",
             "id": "260601160",
             "page": 3,
             "pageSequence": 3,
             "relevance": {
              "score": "237.13766",
              "value": "very relevant"
             },
             "snippet": "Brisbane, February 25— A destructive cyclone is reported from Port Douglas, and a fire has taken place at Bowen.",
             "title": {
              "id": "1606",
              "value": "The Australian Advertiser (Albany, WA : 1888 - 1897)"
             },
             "troveUrl": "https://trove.nla.gov.au/ndp/del/article/260601160?searchTerm=cyclone",
             "url": "/newspaper/260601160"
            },
            {
             "category": "Article",
             "date": "1882-02-08",
             "heading": "Cyclone.",
             "id": "169527399",
             "page": 2,
             "pageSequence": 2,
             "relevance": {
              "score": "237.0735",
              "value": "very relevant"
             },
             "snippet": "THE cyclone, mentioned in our telegraphic columns as having done so much damage at Cardwell, seems to have raged with terrific violence. The S.S. Gunga, Captain S. Clark,",
             "title": {
              "id": "835",
              "value": "Mackay Mercury and South Kennedy Advertiser (Qld. : 1867 - 1887)"
             },
             "troveUrl": "https://trove.nla.gov.au/ndp/del/article/169527399?searchTerm=cyclone",
             "url": "/newspaper/169527399"
            },
            {
             "category": "Article",
             "date": "1996-10-18",
             "heading": "Cyclone",
             "id": "261023732",
             "page": 4,
             "pageSequence": "4 S",
             "relevance": {
              "score": "237.0735",
              "value": "very relevant"
             },
             "snippet": "One late afternoon on a warm peaceful day Out of the blue a tree began to sway. The other trees of the village were all swaying too, And before we knew it, the sky was not blue.",
             "title": {
              "id": "1685",
              "value": "The Australian Jewish News (Melbourne, Vic. : 1935 - 1999)"
             },
             "troveUrl": "https://trove.nla.gov.au/ndp/del/article/261023732?searchTerm=cyclone",
             "url": "/newspaper/261023732"
            },
            {
             "category": "Article",
             "date": "1977-01-12",
             "heading": "Cyclone",
             "id": "110834707",
             "page": 3,
             "pageSequence": 3,
             "relevance": {
              "score": "237.05716",
              "value": "very relevant"
             },
             "snippet": "PERTH, Tuesday (AAP).—Cyclone Irene has moved away from the Western Australian coast.",
             "title": {
              "id": "11",
              "value": "The Canberra Times (ACT : 1926 - 1995)"
             },
             "troveUrl": "https://trove.nla.gov.au/ndp/del/article/110834707?searchTerm=cyclone",
             "url": "/newspaper/110834707"
            },
            {
             "category": "Article",
             "date": "1893-09-01",
             "heading": "CYCLONE.",
             "id": "80030164",
             "page": 2,
             "pageSequence": 2,
             "relevance": {
              "score": "237.05716",
              "value": "very relevant"
             },
             "snippet": "A terrible cyclone, followed by a tidal were,has [?]stated the eastara cosat of America. Charleston is almost in rums, and Port Royal, in South",
             "title": {
              "id": "270",
              "value": "Zeehan and Dundas Herald (Tas. : 1890 - 1922)"
             },
             "troveUrl": "https://trove.nla.gov.au/ndp/del/article/80030164?searchTerm=cyclone",
             "url": "/newspaper/80030164"
            },
            {
             "category": "Article",
             "date": "1969-02-11",
             "heading": "CYCLONE",
             "id": "107077865",
             "page": 6,
             "pageSequence": 6,
             "relevance": {
              "score": "236.83661",
              "value": "very relevant"
             },
             "snippet": "TANANARIVE, Monday (AAP-Reuter). —Three people died, eight are missing and more than",
             "title": {
              "id": "11",
              "value": "The Canberra Times (ACT : 1926 - 1995)"
             },
             "troveUrl": "https://trove.nla.gov.au/ndp/del/article/107077865?searchTerm=cyclone",
             "url": "/newspaper/107077865"
            },
            {
             "category": "Article",
             "date": "1904-03-23",
             "heading": "CYCLONE.",
             "id": "143904027",
             "page": 2,
             "pageSequence": 2,
             "relevance": {
              "score": "236.83661",
              "value": "very relevant"
             },
             "snippet": "A cyclone swept over the town of Forster on Monday evening, and torrents of rain fell, doing much damage to the township, trees being uprooted,",
             "title": {
              "id": "639",
              "value": "Cootamundra Herald (NSW : 1877 - 1954)"
             },
             "troveUrl": "https://trove.nla.gov.au/ndp/del/article/143904027?searchTerm=cyclone",
             "url": "/newspaper/143904027"
            },
            {
             "category": "Article",
             "date": "1972-04-13",
             "heading": "Cyclone",
             "id": "102209475",
             "page": 3,
             "pageSequence": 3,
             "relevance": {
              "score": "236.60738",
              "value": "very relevant"
             },
             "snippet": "BRISBANE. Wednesday. —Cyclone Faith, which developed today, is moving at 5mph across the",
             "title": {
              "id": "11",
              "value": "The Canberra Times (ACT : 1926 - 1995)"
             },
             "troveUrl": "https://trove.nla.gov.au/ndp/del/article/102209475?searchTerm=cyclone",
             "url": "/newspaper/102209475"
            },
            {
             "category": "Article",
             "date": "1909-09-07",
             "heading": "CYCLONE.",
             "id": "184475850",
             "page": 2,
             "pageSequence": 2,
             "relevance": {
              "score": "236.60738",
              "value": "very relevant"
             },
             "snippet": "A cyclone has swept over Sicily 3000 houses were destroyed and sixty people entombed, many injured and miles of country denuded of vegetation.",
             "title": {
              "id": "904",
              "value": "The Inverell Times (NSW : 1899 - 1907, 1909 - 1954)"
             },
             "troveUrl": "https://trove.nla.gov.au/ndp/del/article/184475850?searchTerm=cyclone",
             "url": "/newspaper/184475850"
            },
            {
             "category": "Article",
             "date": "1921-03-18",
             "heading": "CYCLONE.",
             "id": "235504681",
             "page": 3,
             "pageSequence": 3,
             "relevance": {
              "score": "236.60738",
              "value": "very relevant"
             },
             "snippet": "On Tuesday evening last about 7 o'clock a severe cyclone passed over the northern [?]of the town. The force of the wind was not felt to any",
             "title": {
              "id": "1224",
              "value": "The Corowa Free Press (NSW : 1875 - 1954)"
             },
             "troveUrl": "https://trove.nla.gov.au/ndp/del/article/235504681?searchTerm=cyclone",
             "url": "/newspaper/235504681"
            },
            {
             "category": "Article",
             "date": "1941-09-27",
             "heading": "\"Cyclone\"",
             "id": "75886813",
             "page": 15,
             "pageSequence": 15,
             "relevance": {
              "score": "236.60738",
              "value": "very relevant"
             },
             "snippet": "Tim Holt is the \"Cyclone on Horseback,\" current support at the Grand.",
             "title": {
              "id": "253",
              "value": "Mirror (Perth, WA : 1921 - 1956)"
             },
             "troveUrl": "https://trove.nla.gov.au/ndp/del/article/75886813?searchTerm=cyclone",
             "url": "/newspaper/75886813"
            },
            {
             "category": "Article",
             "date": "1914-04-04",
             "edition": "EVENING",
             "heading": "CYCLONE.",
             "id": "98833781",
             "page": 2,
             "pageSequence": "2 S",
             "relevance": {
              "score": "236.60738",
              "value": "very relevant"
             },
             "snippet": "Brisbaue, Friday.—Word was received late to-night that a cyclone bad swept over the Toowoomba district, leaving disaster in its wake. The damage is known to be very",
             "title": {
              "id": "368",
              "value": "Goulburn Evening Penny Post (NSW : 1881 - 1940)"
             },
             "troveUrl": "https://trove.nla.gov.au/ndp/del/article/98833781?searchTerm=cyclone",
             "url": "/newspaper/98833781"
            },
            {
             "category": "Article",
             "date": "1924-10-30",
             "heading": "Cyclone.",
             "id": "121648670",
             "page": 2,
             "pageSequence": 2,
             "relevance": {
              "score": "236.50455",
              "value": "very relevant"
             },
             "snippet": "LUCKILY for Grenfell, the full force of the storm experienced on Tuesday did not reach the to we. From reports from Glenelg and across to Bald Hills",
             "title": {
              "id": "474",
              "value": "The Grenfell Record and Lachlan District Advertiser (NSW : 1876 - 1951)"
             },
             "troveUrl": "https://trove.nla.gov.au/ndp/del/article/121648670?searchTerm=cyclone",
             "url": "/newspaper/121648670"
            },
            {
             "category": "Article",
             "date": "1950-06-18",
             "heading": "CYCLONE",
             "id": "59517703",
             "page": 3,
             "pageSequence": 3,
             "relevance": {
              "score": "236.50455",
              "value": "very relevant"
             },
             "snippet": "Calcutta, Today: Death roll in the cyclonic storm over West Bengal during the last few days rose to 89",
             "title": {
              "id": "93",
              "value": "Sunday Times (Perth, WA : 1902 - 1954)"
             },
             "troveUrl": "https://trove.nla.gov.au/ndp/del/article/59517703?searchTerm=cyclone",
             "url": "/newspaper/59517703"
            },
            {
             "category": "Article",
             "date": "1893-07-12",
             "heading": "CYCLONE.",
             "id": "80024154",
             "page": 2,
             "pageSequence": 2,
             "relevance": {
              "score": "236.50455",
              "value": "very relevant"
             },
             "snippet": "A cyclone has occurred at Lake Michigan through which a number of boats were swamped and 30 people drowned. The Chicago Exhibition was",
             "title": {
              "id": "270",
              "value": "Zeehan and Dundas Herald (Tas. : 1890 - 1922)"
             },
             "troveUrl": "https://trove.nla.gov.au/ndp/del/article/80024154?searchTerm=cyclone",
             "url": "/newspaper/80024154"
            }
           ],
           "n": "20",
           "next": "/result?q=cyclone&encoding=json&zone=newspaper&s=AoIIQ2yBKig4MDAyNDE1NA%3D%3D",
           "nextStart": "AoIIQ2yBKig4MDAyNDE1NA==",
           "s": "*",
           "total": "635358"
          }
         }
        ]
       }
      },
      "text/plain": [
       "<IPython.core.display.JSON object>"
      ]
     },
     "execution_count": 31,
     "metadata": {
      "application/json": {
       "expanded": true,
       "root": "root"
      }
     },
     "output_type": "execute_result"
    }
   ],
   "source": [
    "# Display the results as nicely-formatted JSON\n",
    "JSON(data, expanded=True)"
   ]
  },
  {
   "cell_type": "markdown",
   "metadata": {},
   "source": [
    "## Do something with the data\n",
    "\n",
    "As you can see, the API results are fairly complex. Individual item records are quite deeply nested. In a future section we'll explore this structure in more detail. But for now, let's run a simple script to display the basic details of each of our matching articles."
   ]
  },
  {
   "cell_type": "code",
   "execution_count": 29,
   "metadata": {},
   "outputs": [
    {
     "name": "stdout",
     "output_type": "stream",
     "text": [
      "1872-03-23, \"CYCLONE.\", The Herald (Fremantle, WA : 1867 - 1886), page 3\n",
      "1954-03-11, \"CYCLONE\", Catholic Weekly (Sydney, NSW : 1942 - 1954), page 18\n",
      "1976-02-18, \"Cyclone\", The Canberra Times (ACT : 1926 - 1995), page 16\n",
      "1949-01-20, \"CYCLONE\", The Grenfell Record and Lachlan District Advertiser (NSW : 1876 - 1951), page 3\n",
      "1906-11-28, \"Cyclone.\", The Armidale Chronicle (NSW : 1894 - 1929), page 4\n",
      "1892-02-26, \"CYCLONE.\", The Australian Advertiser (Albany, WA : 1888 - 1897), page 3\n",
      "1882-02-08, \"Cyclone.\", Mackay Mercury and South Kennedy Advertiser (Qld. : 1867 - 1887), page 2\n",
      "1996-10-18, \"Cyclone\", The Australian Jewish News (Melbourne, Vic. : 1935 - 1999), page 4\n",
      "1977-01-12, \"Cyclone\", The Canberra Times (ACT : 1926 - 1995), page 3\n",
      "1893-09-01, \"CYCLONE.\", Zeehan and Dundas Herald (Tas. : 1890 - 1922), page 2\n",
      "1969-02-11, \"CYCLONE\", The Canberra Times (ACT : 1926 - 1995), page 6\n",
      "1904-03-23, \"CYCLONE.\", Cootamundra Herald (NSW : 1877 - 1954), page 2\n",
      "1972-04-13, \"Cyclone\", The Canberra Times (ACT : 1926 - 1995), page 3\n",
      "1909-09-07, \"CYCLONE.\", The Inverell Times (NSW : 1899 - 1907, 1909 - 1954), page 2\n",
      "1921-03-18, \"CYCLONE.\", The Corowa Free Press (NSW : 1875 - 1954), page 3\n",
      "1941-09-27, \"\"Cyclone\"\", Mirror (Perth, WA : 1921 - 1956), page 15\n",
      "1914-04-04, \"CYCLONE.\", Goulburn Evening Penny Post (NSW : 1881 - 1940), page 2\n",
      "1924-10-30, \"Cyclone.\", The Grenfell Record and Lachlan District Advertiser (NSW : 1876 - 1951), page 2\n",
      "1950-06-18, \"CYCLONE\", Sunday Times (Perth, WA : 1902 - 1954), page 3\n",
      "1893-07-12, \"CYCLONE.\", Zeehan and Dundas Herald (Tas. : 1890 - 1922), page 2\n"
     ]
    }
   ],
   "source": [
    "# Loop through all the newspaper articles\n",
    "# The articles themselves are quite deeply nested, so we have to go down several levels to get them\n",
    "for article in data[\"response\"][\"zone\"][0][\"records\"][\"article\"]:\n",
    "\n",
    "    # Display a string containing the date, title, newspaper, and page for each article\n",
    "    print(\n",
    "        f'{article[\"date\"]}, \"{article[\"heading\"]}\", {article[\"title\"][\"value\"]}, page {article[\"page\"]}'\n",
    "    )"
   ]
  },
  {
   "cell_type": "markdown",
   "metadata": {},
   "source": [
    "## Congratulations!\n",
    "\n",
    "You've made your first Trove API request. Now let's move on to learn a bit [about Trove's zones](Working-with-zones.ipynb)."
   ]
  },
  {
   "cell_type": "markdown",
   "metadata": {},
   "source": [
    "----\n",
    "\n",
    "Created by [Tim Sherrratt](https://timsherratt.org) for the [GLAM workbench](https://glam-workbench.net/). Support this project by [becoming a GitHub sponsor](https://github.com/sponsors/wragge?o=esb)."
   ]
  }
 ],
 "metadata": {
  "celltoolbar": "Raw Cell Format",
  "kernelspec": {
   "display_name": "Python 3 (ipykernel)",
   "language": "python",
   "name": "python3"
  },
  "language_info": {
   "codemirror_mode": {
    "name": "ipython",
    "version": 3
   },
   "file_extension": ".py",
   "mimetype": "text/x-python",
   "name": "python",
   "nbconvert_exporter": "python",
   "pygments_lexer": "ipython3",
   "version": "3.8.12"
  }
 },
 "nbformat": 4,
 "nbformat_minor": 4
}
